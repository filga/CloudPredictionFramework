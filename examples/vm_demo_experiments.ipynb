{
 "cells": [
  {
   "cell_type": "code",
   "execution_count": null,
   "metadata": {
    "cellView": "form",
    "id": "YDb9tW5ioEcv"
   },
   "outputs": [],
   "source": [
    "#@title Dependencies install\n",
    "!pip install pykalman &> /dev/null\n",
    "!pip install --index-url https://test.pypi.org/simple/ --extra-index-url https://pypi.org/simple cloudplanner==0.0.53 -U &> /dev/null\n",
    "# !pip install plotly==4.8.0 >> /dev/null\n",
    "# !pip install plotly>=4.0.0 >> /dev/null\n",
    "!pip install plotly &> /dev/null\n",
    "!wget https://github.com/plotly/orca/releases/download/v1.2.1/orca-1.2.1-x86_64.AppImage -O /usr/local/bin/orca &> /dev/null\n",
    "!chmod +x /usr/local/bin/orca &> /dev/null\n",
    "!apt-get install xvfb libgtk2.0-0 libgconf-2-4 &> /dev/null"
   ]
  },
  {
   "cell_type": "code",
   "execution_count": 11,
   "metadata": {},
   "outputs": [],
   "source": [
    "from tqdm import tqdm\n",
    "from sklearn.preprocessing import minmax_scale\n",
    "import pandas as pd\n",
    "import traceback\n",
    "from os import listdir, mkdir\n",
    "from os.path import isfile, join, isdir, dirname, abspath"
   ]
  },
  {
   "cell_type": "code",
   "execution_count": 20,
   "metadata": {},
   "outputs": [
    {
     "data": {
      "text/plain": [
       "True"
      ]
     },
     "execution_count": 20,
     "metadata": {},
     "output_type": "execute_result"
    }
   ],
   "source": [
    "# Get the root directory\n",
    "root_dir = dirname(abspath('.'))\n",
    "\n",
    "# Specify the base path\n",
    "BASE_PATH = join(root_dir, 'vm_data')\n",
    "\n",
    "isdir(BASE_PATH)"
   ]
  },
  {
   "cell_type": "code",
   "execution_count": 25,
   "metadata": {
    "cellView": "form",
    "id": "2PytpQYYNnea"
   },
   "outputs": [],
   "source": [
    "#@title Data Provider Setup\n",
    "class ExperimentDataProvider:\n",
    "    \"\"\"\n",
    "    This class is used to provide data for the experiments.\n",
    "    \"\"\"\n",
    "\n",
    "    # Get the root directory\n",
    "    root_dir = dirname(abspath('.'))\n",
    "\n",
    "    # Specify the base path\n",
    "    BASE_PATH = join(root_dir, 'vm_data')\n",
    "\n",
    "    def __init__(self):\n",
    "        if not isdir(self.BASE_PATH):\n",
    "            raise FileNotFoundError('please create folder vm_data with vm csvs')\n",
    "\n",
    "        self.csv_names = [f for f in listdir(self.BASE_PATH) if isfile(join(self.BASE_PATH, f))]\n",
    "        self._experiments_data_count = {'DEMO': len(self.csv_names)}\n",
    "\n",
    "    def get_experiment_count(self):\n",
    "        return len(self._experiments_data_count)\n",
    "    \n",
    "    def get_experiment_len(self, experiment):\n",
    "        return self._experiments_data_count[experiment]\n",
    "\n",
    "    def get_experiment_names(self):\n",
    "        return self._experiments_data_count.keys()\n",
    "    \n",
    "    def get_experiment_generator(self, experiment, metric):\n",
    "        if experiment not in self._experiments_data_count:\n",
    "            return None\n",
    "        else:\n",
    "            return self._experiment_gen(experiment, self._experiments_data_count[experiment], metric)\n",
    "    \n",
    "    def _experiment_gen(self, experiment, exp_num, metric):\n",
    "        for i in range(exp_num):\n",
    "            try:\n",
    "                df = pd.read_csv(join(self.BASE_PATH, self.csv_names[i]), parse_dates=['timestamp'])\n",
    "                if metric not in df:\n",
    "                    continue\n",
    "                df.dropna(inplace=True)\n",
    "                df.reset_index(inplace=True)\n",
    "                df[metric] = minmax_scale(df[metric], feature_range=(0, 100))\n",
    "                yield df\n",
    "            except Exception as e:\n",
    "                print(traceback.format_exc())"
   ]
  },
  {
   "cell_type": "code",
   "execution_count": 26,
   "metadata": {
    "cellView": "form",
    "id": "LseHQ9tBK1T6"
   },
   "outputs": [
    {
     "name": "stdout",
     "output_type": "stream",
     "text": [
      "Experiment DEMO Length: 99\n"
     ]
    },
    {
     "name": "stderr",
     "output_type": "stream",
     "text": [
      "0it [00:00, ?it/s]/home/drkappa/miniconda3/envs/py39/lib/python3.9/site-packages/keras/src/layers/core/input_layer.py:26: UserWarning: Argument `input_shape` is deprecated. Use `shape` instead.\n",
      "  warnings.warn(\n",
      "2024-11-10 00:04:25.796094: E external/local_xla/xla/stream_executor/cuda/cuda_driver.cc:152] failed call to cuInit: INTERNAL: CUDA error: Failed call to cuInit: UNKNOWN ERROR (303)\n",
      "1it [00:16, 16.56s/it]"
     ]
    },
    {
     "name": "stdout",
     "output_type": "stream",
     "text": [
      "Traceback (most recent call last):\n",
      "  File \"/home/drkappa/miniconda3/envs/py39/lib/python3.9/site-packages/cloudpredictionframework/utils/experiment.py\", line 98, in run_batch_experiment\n",
      "    result = run_experiment(df, LSTM2Layer(input_shape=(1, 4)), **kwargs)\n",
      "  File \"/home/drkappa/miniconda3/envs/py39/lib/python3.9/site-packages/cloudpredictionframework/utils/experiment.py\", line 34, in run_experiment\n",
      "    y_pred = sc.inverse_transform(network.predict(test))\n",
      "  File \"/home/drkappa/miniconda3/envs/py39/lib/python3.9/site-packages/cloudpredictionframework/usage_prediction/networks/base_network.py\", line 16, in predict\n",
      "    return self.model.predict(data)\n",
      "  File \"/home/drkappa/miniconda3/envs/py39/lib/python3.9/site-packages/keras/src/utils/traceback_utils.py\", line 122, in error_handler\n",
      "    raise e.with_traceback(filtered_tb) from None\n",
      "  File \"/home/drkappa/miniconda3/envs/py39/lib/python3.9/site-packages/keras/src/models/functional.py\", line 264, in _adjust_input_rank\n",
      "    raise ValueError(\n",
      "ValueError: Exception encountered when calling Sequential.call().\n",
      "\n",
      "\u001b[1mInvalid input shape for input Tensor(\"data:0\", shape=(23, 4), dtype=float32). Expected shape (None, 1, 4), but input has incompatible shape (23, 4)\u001b[0m\n",
      "\n",
      "Arguments received by Sequential.call():\n",
      "  • inputs=tf.Tensor(shape=(23, 4), dtype=float32)\n",
      "  • training=False\n",
      "  • mask=None\n",
      "\n"
     ]
    },
    {
     "name": "stderr",
     "output_type": "stream",
     "text": [
      "/home/drkappa/miniconda3/envs/py39/lib/python3.9/site-packages/keras/src/layers/core/input_layer.py:26: UserWarning: Argument `input_shape` is deprecated. Use `shape` instead.\n",
      "  warnings.warn(\n",
      "2it [00:29, 14.48s/it]"
     ]
    },
    {
     "name": "stdout",
     "output_type": "stream",
     "text": [
      "Traceback (most recent call last):\n",
      "  File \"/home/drkappa/miniconda3/envs/py39/lib/python3.9/site-packages/cloudpredictionframework/utils/experiment.py\", line 98, in run_batch_experiment\n",
      "    result = run_experiment(df, LSTM2Layer(input_shape=(1, 4)), **kwargs)\n",
      "  File \"/home/drkappa/miniconda3/envs/py39/lib/python3.9/site-packages/cloudpredictionframework/utils/experiment.py\", line 34, in run_experiment\n",
      "    y_pred = sc.inverse_transform(network.predict(test))\n",
      "  File \"/home/drkappa/miniconda3/envs/py39/lib/python3.9/site-packages/cloudpredictionframework/usage_prediction/networks/base_network.py\", line 16, in predict\n",
      "    return self.model.predict(data)\n",
      "  File \"/home/drkappa/miniconda3/envs/py39/lib/python3.9/site-packages/keras/src/utils/traceback_utils.py\", line 122, in error_handler\n",
      "    raise e.with_traceback(filtered_tb) from None\n",
      "  File \"/home/drkappa/miniconda3/envs/py39/lib/python3.9/site-packages/keras/src/models/functional.py\", line 264, in _adjust_input_rank\n",
      "    raise ValueError(\n",
      "ValueError: Exception encountered when calling Sequential.call().\n",
      "\n",
      "\u001b[1mInvalid input shape for input Tensor(\"data:0\", shape=(12, 4), dtype=float32). Expected shape (None, 1, 4), but input has incompatible shape (12, 4)\u001b[0m\n",
      "\n",
      "Arguments received by Sequential.call():\n",
      "  • inputs=tf.Tensor(shape=(12, 4), dtype=float32)\n",
      "  • training=False\n",
      "  • mask=None\n",
      "\n"
     ]
    },
    {
     "name": "stderr",
     "output_type": "stream",
     "text": [
      "/home/drkappa/miniconda3/envs/py39/lib/python3.9/site-packages/keras/src/layers/core/input_layer.py:26: UserWarning: Argument `input_shape` is deprecated. Use `shape` instead.\n",
      "  warnings.warn(\n",
      "3it [00:44, 14.63s/it]"
     ]
    },
    {
     "name": "stdout",
     "output_type": "stream",
     "text": [
      "Traceback (most recent call last):\n",
      "  File \"/home/drkappa/miniconda3/envs/py39/lib/python3.9/site-packages/cloudpredictionframework/utils/experiment.py\", line 98, in run_batch_experiment\n",
      "    result = run_experiment(df, LSTM2Layer(input_shape=(1, 4)), **kwargs)\n",
      "  File \"/home/drkappa/miniconda3/envs/py39/lib/python3.9/site-packages/cloudpredictionframework/utils/experiment.py\", line 34, in run_experiment\n",
      "    y_pred = sc.inverse_transform(network.predict(test))\n",
      "  File \"/home/drkappa/miniconda3/envs/py39/lib/python3.9/site-packages/cloudpredictionframework/usage_prediction/networks/base_network.py\", line 16, in predict\n",
      "    return self.model.predict(data)\n",
      "  File \"/home/drkappa/miniconda3/envs/py39/lib/python3.9/site-packages/keras/src/utils/traceback_utils.py\", line 122, in error_handler\n",
      "    raise e.with_traceback(filtered_tb) from None\n",
      "  File \"/home/drkappa/miniconda3/envs/py39/lib/python3.9/site-packages/keras/src/models/functional.py\", line 264, in _adjust_input_rank\n",
      "    raise ValueError(\n",
      "ValueError: Exception encountered when calling Sequential.call().\n",
      "\n",
      "\u001b[1mInvalid input shape for input Tensor(\"data:0\", shape=(21, 4), dtype=float32). Expected shape (None, 1, 4), but input has incompatible shape (21, 4)\u001b[0m\n",
      "\n",
      "Arguments received by Sequential.call():\n",
      "  • inputs=tf.Tensor(shape=(21, 4), dtype=float32)\n",
      "  • training=False\n",
      "  • mask=None\n",
      "\n"
     ]
    },
    {
     "name": "stderr",
     "output_type": "stream",
     "text": [
      "/home/drkappa/miniconda3/envs/py39/lib/python3.9/site-packages/keras/src/layers/core/input_layer.py:26: UserWarning: Argument `input_shape` is deprecated. Use `shape` instead.\n",
      "  warnings.warn(\n",
      "4it [00:57, 14.01s/it]"
     ]
    },
    {
     "name": "stdout",
     "output_type": "stream",
     "text": [
      "Traceback (most recent call last):\n",
      "  File \"/home/drkappa/miniconda3/envs/py39/lib/python3.9/site-packages/cloudpredictionframework/utils/experiment.py\", line 98, in run_batch_experiment\n",
      "    result = run_experiment(df, LSTM2Layer(input_shape=(1, 4)), **kwargs)\n",
      "  File \"/home/drkappa/miniconda3/envs/py39/lib/python3.9/site-packages/cloudpredictionframework/utils/experiment.py\", line 34, in run_experiment\n",
      "    y_pred = sc.inverse_transform(network.predict(test))\n",
      "  File \"/home/drkappa/miniconda3/envs/py39/lib/python3.9/site-packages/cloudpredictionframework/usage_prediction/networks/base_network.py\", line 16, in predict\n",
      "    return self.model.predict(data)\n",
      "  File \"/home/drkappa/miniconda3/envs/py39/lib/python3.9/site-packages/keras/src/utils/traceback_utils.py\", line 122, in error_handler\n",
      "    raise e.with_traceback(filtered_tb) from None\n",
      "  File \"/home/drkappa/miniconda3/envs/py39/lib/python3.9/site-packages/keras/src/models/functional.py\", line 264, in _adjust_input_rank\n",
      "    raise ValueError(\n",
      "ValueError: Exception encountered when calling Sequential.call().\n",
      "\n",
      "\u001b[1mInvalid input shape for input Tensor(\"data:0\", shape=(8, 4), dtype=float32). Expected shape (None, 1, 4), but input has incompatible shape (8, 4)\u001b[0m\n",
      "\n",
      "Arguments received by Sequential.call():\n",
      "  • inputs=tf.Tensor(shape=(8, 4), dtype=float32)\n",
      "  • training=False\n",
      "  • mask=None\n",
      "\n"
     ]
    },
    {
     "name": "stderr",
     "output_type": "stream",
     "text": [
      "/home/drkappa/miniconda3/envs/py39/lib/python3.9/site-packages/keras/src/layers/core/input_layer.py:26: UserWarning: Argument `input_shape` is deprecated. Use `shape` instead.\n",
      "  warnings.warn(\n",
      "5it [01:11, 14.02s/it]"
     ]
    },
    {
     "name": "stdout",
     "output_type": "stream",
     "text": [
      "Traceback (most recent call last):\n",
      "  File \"/home/drkappa/miniconda3/envs/py39/lib/python3.9/site-packages/cloudpredictionframework/utils/experiment.py\", line 98, in run_batch_experiment\n",
      "    result = run_experiment(df, LSTM2Layer(input_shape=(1, 4)), **kwargs)\n",
      "  File \"/home/drkappa/miniconda3/envs/py39/lib/python3.9/site-packages/cloudpredictionframework/utils/experiment.py\", line 34, in run_experiment\n",
      "    y_pred = sc.inverse_transform(network.predict(test))\n",
      "  File \"/home/drkappa/miniconda3/envs/py39/lib/python3.9/site-packages/cloudpredictionframework/usage_prediction/networks/base_network.py\", line 16, in predict\n",
      "    return self.model.predict(data)\n",
      "  File \"/home/drkappa/miniconda3/envs/py39/lib/python3.9/site-packages/keras/src/utils/traceback_utils.py\", line 122, in error_handler\n",
      "    raise e.with_traceback(filtered_tb) from None\n",
      "  File \"/home/drkappa/miniconda3/envs/py39/lib/python3.9/site-packages/keras/src/models/functional.py\", line 264, in _adjust_input_rank\n",
      "    raise ValueError(\n",
      "ValueError: Exception encountered when calling Sequential.call().\n",
      "\n",
      "\u001b[1mInvalid input shape for input Tensor(\"data:0\", shape=(23, 4), dtype=float32). Expected shape (None, 1, 4), but input has incompatible shape (23, 4)\u001b[0m\n",
      "\n",
      "Arguments received by Sequential.call():\n",
      "  • inputs=tf.Tensor(shape=(23, 4), dtype=float32)\n",
      "  • training=False\n",
      "  • mask=None\n",
      "\n"
     ]
    },
    {
     "name": "stderr",
     "output_type": "stream",
     "text": [
      "/home/drkappa/miniconda3/envs/py39/lib/python3.9/site-packages/keras/src/layers/core/input_layer.py:26: UserWarning: Argument `input_shape` is deprecated. Use `shape` instead.\n",
      "  warnings.warn(\n",
      "6it [01:25, 14.02s/it]"
     ]
    },
    {
     "name": "stdout",
     "output_type": "stream",
     "text": [
      "Traceback (most recent call last):\n",
      "  File \"/home/drkappa/miniconda3/envs/py39/lib/python3.9/site-packages/cloudpredictionframework/utils/experiment.py\", line 98, in run_batch_experiment\n",
      "    result = run_experiment(df, LSTM2Layer(input_shape=(1, 4)), **kwargs)\n",
      "  File \"/home/drkappa/miniconda3/envs/py39/lib/python3.9/site-packages/cloudpredictionframework/utils/experiment.py\", line 34, in run_experiment\n",
      "    y_pred = sc.inverse_transform(network.predict(test))\n",
      "  File \"/home/drkappa/miniconda3/envs/py39/lib/python3.9/site-packages/cloudpredictionframework/usage_prediction/networks/base_network.py\", line 16, in predict\n",
      "    return self.model.predict(data)\n",
      "  File \"/home/drkappa/miniconda3/envs/py39/lib/python3.9/site-packages/keras/src/utils/traceback_utils.py\", line 122, in error_handler\n",
      "    raise e.with_traceback(filtered_tb) from None\n",
      "  File \"/home/drkappa/miniconda3/envs/py39/lib/python3.9/site-packages/keras/src/models/functional.py\", line 264, in _adjust_input_rank\n",
      "    raise ValueError(\n",
      "ValueError: Exception encountered when calling Sequential.call().\n",
      "\n",
      "\u001b[1mInvalid input shape for input Tensor(\"data:0\", shape=(27, 4), dtype=float32). Expected shape (None, 1, 4), but input has incompatible shape (27, 4)\u001b[0m\n",
      "\n",
      "Arguments received by Sequential.call():\n",
      "  • inputs=tf.Tensor(shape=(27, 4), dtype=float32)\n",
      "  • training=False\n",
      "  • mask=None\n",
      "\n"
     ]
    },
    {
     "name": "stderr",
     "output_type": "stream",
     "text": [
      "/home/drkappa/miniconda3/envs/py39/lib/python3.9/site-packages/keras/src/layers/core/input_layer.py:26: UserWarning: Argument `input_shape` is deprecated. Use `shape` instead.\n",
      "  warnings.warn(\n",
      "7it [01:39, 14.14s/it]"
     ]
    },
    {
     "name": "stdout",
     "output_type": "stream",
     "text": [
      "Traceback (most recent call last):\n",
      "  File \"/home/drkappa/miniconda3/envs/py39/lib/python3.9/site-packages/cloudpredictionframework/utils/experiment.py\", line 98, in run_batch_experiment\n",
      "    result = run_experiment(df, LSTM2Layer(input_shape=(1, 4)), **kwargs)\n",
      "  File \"/home/drkappa/miniconda3/envs/py39/lib/python3.9/site-packages/cloudpredictionframework/utils/experiment.py\", line 34, in run_experiment\n",
      "    y_pred = sc.inverse_transform(network.predict(test))\n",
      "  File \"/home/drkappa/miniconda3/envs/py39/lib/python3.9/site-packages/cloudpredictionframework/usage_prediction/networks/base_network.py\", line 16, in predict\n",
      "    return self.model.predict(data)\n",
      "  File \"/home/drkappa/miniconda3/envs/py39/lib/python3.9/site-packages/keras/src/utils/traceback_utils.py\", line 122, in error_handler\n",
      "    raise e.with_traceback(filtered_tb) from None\n",
      "  File \"/home/drkappa/miniconda3/envs/py39/lib/python3.9/site-packages/keras/src/models/functional.py\", line 264, in _adjust_input_rank\n",
      "    raise ValueError(\n",
      "ValueError: Exception encountered when calling Sequential.call().\n",
      "\n",
      "\u001b[1mInvalid input shape for input Tensor(\"data:0\", shape=(8, 4), dtype=float32). Expected shape (None, 1, 4), but input has incompatible shape (8, 4)\u001b[0m\n",
      "\n",
      "Arguments received by Sequential.call():\n",
      "  • inputs=tf.Tensor(shape=(8, 4), dtype=float32)\n",
      "  • training=False\n",
      "  • mask=None\n",
      "\n"
     ]
    },
    {
     "name": "stderr",
     "output_type": "stream",
     "text": [
      "/home/drkappa/miniconda3/envs/py39/lib/python3.9/site-packages/keras/src/layers/core/input_layer.py:26: UserWarning: Argument `input_shape` is deprecated. Use `shape` instead.\n",
      "  warnings.warn(\n",
      "8it [01:55, 14.54s/it]"
     ]
    },
    {
     "name": "stdout",
     "output_type": "stream",
     "text": [
      "Traceback (most recent call last):\n",
      "  File \"/home/drkappa/miniconda3/envs/py39/lib/python3.9/site-packages/cloudpredictionframework/utils/experiment.py\", line 98, in run_batch_experiment\n",
      "    result = run_experiment(df, LSTM2Layer(input_shape=(1, 4)), **kwargs)\n",
      "  File \"/home/drkappa/miniconda3/envs/py39/lib/python3.9/site-packages/cloudpredictionframework/utils/experiment.py\", line 34, in run_experiment\n",
      "    y_pred = sc.inverse_transform(network.predict(test))\n",
      "  File \"/home/drkappa/miniconda3/envs/py39/lib/python3.9/site-packages/cloudpredictionframework/usage_prediction/networks/base_network.py\", line 16, in predict\n",
      "    return self.model.predict(data)\n",
      "  File \"/home/drkappa/miniconda3/envs/py39/lib/python3.9/site-packages/keras/src/utils/traceback_utils.py\", line 122, in error_handler\n",
      "    raise e.with_traceback(filtered_tb) from None\n",
      "  File \"/home/drkappa/miniconda3/envs/py39/lib/python3.9/site-packages/keras/src/models/functional.py\", line 264, in _adjust_input_rank\n",
      "    raise ValueError(\n",
      "ValueError: Exception encountered when calling Sequential.call().\n",
      "\n",
      "\u001b[1mInvalid input shape for input Tensor(\"data:0\", shape=(8, 4), dtype=float32). Expected shape (None, 1, 4), but input has incompatible shape (8, 4)\u001b[0m\n",
      "\n",
      "Arguments received by Sequential.call():\n",
      "  • inputs=tf.Tensor(shape=(8, 4), dtype=float32)\n",
      "  • training=False\n",
      "  • mask=None\n",
      "\n"
     ]
    },
    {
     "name": "stderr",
     "output_type": "stream",
     "text": [
      "/home/drkappa/miniconda3/envs/py39/lib/python3.9/site-packages/keras/src/layers/core/input_layer.py:26: UserWarning: Argument `input_shape` is deprecated. Use `shape` instead.\n",
      "  warnings.warn(\n",
      "9it [02:09, 14.35s/it]"
     ]
    },
    {
     "name": "stdout",
     "output_type": "stream",
     "text": [
      "Traceback (most recent call last):\n",
      "  File \"/home/drkappa/miniconda3/envs/py39/lib/python3.9/site-packages/cloudpredictionframework/utils/experiment.py\", line 98, in run_batch_experiment\n",
      "    result = run_experiment(df, LSTM2Layer(input_shape=(1, 4)), **kwargs)\n",
      "  File \"/home/drkappa/miniconda3/envs/py39/lib/python3.9/site-packages/cloudpredictionframework/utils/experiment.py\", line 34, in run_experiment\n",
      "    y_pred = sc.inverse_transform(network.predict(test))\n",
      "  File \"/home/drkappa/miniconda3/envs/py39/lib/python3.9/site-packages/cloudpredictionframework/usage_prediction/networks/base_network.py\", line 16, in predict\n",
      "    return self.model.predict(data)\n",
      "  File \"/home/drkappa/miniconda3/envs/py39/lib/python3.9/site-packages/keras/src/utils/traceback_utils.py\", line 122, in error_handler\n",
      "    raise e.with_traceback(filtered_tb) from None\n",
      "  File \"/home/drkappa/miniconda3/envs/py39/lib/python3.9/site-packages/keras/src/models/functional.py\", line 264, in _adjust_input_rank\n",
      "    raise ValueError(\n",
      "ValueError: Exception encountered when calling Sequential.call().\n",
      "\n",
      "\u001b[1mInvalid input shape for input Tensor(\"data:0\", shape=(12, 4), dtype=float32). Expected shape (None, 1, 4), but input has incompatible shape (12, 4)\u001b[0m\n",
      "\n",
      "Arguments received by Sequential.call():\n",
      "  • inputs=tf.Tensor(shape=(12, 4), dtype=float32)\n",
      "  • training=False\n",
      "  • mask=None\n",
      "\n"
     ]
    },
    {
     "name": "stderr",
     "output_type": "stream",
     "text": [
      "/home/drkappa/miniconda3/envs/py39/lib/python3.9/site-packages/keras/src/layers/core/input_layer.py:26: UserWarning: Argument `input_shape` is deprecated. Use `shape` instead.\n",
      "  warnings.warn(\n",
      "10it [02:25, 14.82s/it]"
     ]
    },
    {
     "name": "stdout",
     "output_type": "stream",
     "text": [
      "Traceback (most recent call last):\n",
      "  File \"/home/drkappa/miniconda3/envs/py39/lib/python3.9/site-packages/cloudpredictionframework/utils/experiment.py\", line 98, in run_batch_experiment\n",
      "    result = run_experiment(df, LSTM2Layer(input_shape=(1, 4)), **kwargs)\n",
      "  File \"/home/drkappa/miniconda3/envs/py39/lib/python3.9/site-packages/cloudpredictionframework/utils/experiment.py\", line 34, in run_experiment\n",
      "    y_pred = sc.inverse_transform(network.predict(test))\n",
      "  File \"/home/drkappa/miniconda3/envs/py39/lib/python3.9/site-packages/cloudpredictionframework/usage_prediction/networks/base_network.py\", line 16, in predict\n",
      "    return self.model.predict(data)\n",
      "  File \"/home/drkappa/miniconda3/envs/py39/lib/python3.9/site-packages/keras/src/utils/traceback_utils.py\", line 122, in error_handler\n",
      "    raise e.with_traceback(filtered_tb) from None\n",
      "  File \"/home/drkappa/miniconda3/envs/py39/lib/python3.9/site-packages/keras/src/models/functional.py\", line 264, in _adjust_input_rank\n",
      "    raise ValueError(\n",
      "ValueError: Exception encountered when calling Sequential.call().\n",
      "\n",
      "\u001b[1mInvalid input shape for input Tensor(\"data:0\", shape=(23, 4), dtype=float32). Expected shape (None, 1, 4), but input has incompatible shape (23, 4)\u001b[0m\n",
      "\n",
      "Arguments received by Sequential.call():\n",
      "  • inputs=tf.Tensor(shape=(23, 4), dtype=float32)\n",
      "  • training=False\n",
      "  • mask=None\n",
      "\n"
     ]
    },
    {
     "name": "stderr",
     "output_type": "stream",
     "text": [
      "/home/drkappa/miniconda3/envs/py39/lib/python3.9/site-packages/keras/src/layers/core/input_layer.py:26: UserWarning: Argument `input_shape` is deprecated. Use `shape` instead.\n",
      "  warnings.warn(\n",
      "11it [02:38, 14.25s/it]"
     ]
    },
    {
     "name": "stdout",
     "output_type": "stream",
     "text": [
      "Traceback (most recent call last):\n",
      "  File \"/home/drkappa/miniconda3/envs/py39/lib/python3.9/site-packages/cloudpredictionframework/utils/experiment.py\", line 98, in run_batch_experiment\n",
      "    result = run_experiment(df, LSTM2Layer(input_shape=(1, 4)), **kwargs)\n",
      "  File \"/home/drkappa/miniconda3/envs/py39/lib/python3.9/site-packages/cloudpredictionframework/utils/experiment.py\", line 34, in run_experiment\n",
      "    y_pred = sc.inverse_transform(network.predict(test))\n",
      "  File \"/home/drkappa/miniconda3/envs/py39/lib/python3.9/site-packages/cloudpredictionframework/usage_prediction/networks/base_network.py\", line 16, in predict\n",
      "    return self.model.predict(data)\n",
      "  File \"/home/drkappa/miniconda3/envs/py39/lib/python3.9/site-packages/keras/src/utils/traceback_utils.py\", line 122, in error_handler\n",
      "    raise e.with_traceback(filtered_tb) from None\n",
      "  File \"/home/drkappa/miniconda3/envs/py39/lib/python3.9/site-packages/keras/src/models/functional.py\", line 264, in _adjust_input_rank\n",
      "    raise ValueError(\n",
      "ValueError: Exception encountered when calling Sequential.call().\n",
      "\n",
      "\u001b[1mInvalid input shape for input Tensor(\"data:0\", shape=(23, 4), dtype=float32). Expected shape (None, 1, 4), but input has incompatible shape (23, 4)\u001b[0m\n",
      "\n",
      "Arguments received by Sequential.call():\n",
      "  • inputs=tf.Tensor(shape=(23, 4), dtype=float32)\n",
      "  • training=False\n",
      "  • mask=None\n",
      "\n"
     ]
    },
    {
     "name": "stderr",
     "output_type": "stream",
     "text": [
      "/home/drkappa/miniconda3/envs/py39/lib/python3.9/site-packages/keras/src/layers/core/input_layer.py:26: UserWarning: Argument `input_shape` is deprecated. Use `shape` instead.\n",
      "  warnings.warn(\n",
      "12it [02:50, 13.85s/it]"
     ]
    },
    {
     "name": "stdout",
     "output_type": "stream",
     "text": [
      "Traceback (most recent call last):\n",
      "  File \"/home/drkappa/miniconda3/envs/py39/lib/python3.9/site-packages/cloudpredictionframework/utils/experiment.py\", line 98, in run_batch_experiment\n",
      "    result = run_experiment(df, LSTM2Layer(input_shape=(1, 4)), **kwargs)\n",
      "  File \"/home/drkappa/miniconda3/envs/py39/lib/python3.9/site-packages/cloudpredictionframework/utils/experiment.py\", line 34, in run_experiment\n",
      "    y_pred = sc.inverse_transform(network.predict(test))\n",
      "  File \"/home/drkappa/miniconda3/envs/py39/lib/python3.9/site-packages/cloudpredictionframework/usage_prediction/networks/base_network.py\", line 16, in predict\n",
      "    return self.model.predict(data)\n",
      "  File \"/home/drkappa/miniconda3/envs/py39/lib/python3.9/site-packages/keras/src/utils/traceback_utils.py\", line 122, in error_handler\n",
      "    raise e.with_traceback(filtered_tb) from None\n",
      "  File \"/home/drkappa/miniconda3/envs/py39/lib/python3.9/site-packages/keras/src/models/functional.py\", line 264, in _adjust_input_rank\n",
      "    raise ValueError(\n",
      "ValueError: Exception encountered when calling Sequential.call().\n",
      "\n",
      "\u001b[1mInvalid input shape for input Tensor(\"data:0\", shape=(12, 4), dtype=float32). Expected shape (None, 1, 4), but input has incompatible shape (12, 4)\u001b[0m\n",
      "\n",
      "Arguments received by Sequential.call():\n",
      "  • inputs=tf.Tensor(shape=(12, 4), dtype=float32)\n",
      "  • training=False\n",
      "  • mask=None\n",
      "\n"
     ]
    },
    {
     "name": "stderr",
     "output_type": "stream",
     "text": [
      "/home/drkappa/miniconda3/envs/py39/lib/python3.9/site-packages/keras/src/layers/core/input_layer.py:26: UserWarning: Argument `input_shape` is deprecated. Use `shape` instead.\n",
      "  warnings.warn(\n",
      "13it [03:04, 13.75s/it]"
     ]
    },
    {
     "name": "stdout",
     "output_type": "stream",
     "text": [
      "Traceback (most recent call last):\n",
      "  File \"/home/drkappa/miniconda3/envs/py39/lib/python3.9/site-packages/cloudpredictionframework/utils/experiment.py\", line 98, in run_batch_experiment\n",
      "    result = run_experiment(df, LSTM2Layer(input_shape=(1, 4)), **kwargs)\n",
      "  File \"/home/drkappa/miniconda3/envs/py39/lib/python3.9/site-packages/cloudpredictionframework/utils/experiment.py\", line 34, in run_experiment\n",
      "    y_pred = sc.inverse_transform(network.predict(test))\n",
      "  File \"/home/drkappa/miniconda3/envs/py39/lib/python3.9/site-packages/cloudpredictionframework/usage_prediction/networks/base_network.py\", line 16, in predict\n",
      "    return self.model.predict(data)\n",
      "  File \"/home/drkappa/miniconda3/envs/py39/lib/python3.9/site-packages/keras/src/utils/traceback_utils.py\", line 122, in error_handler\n",
      "    raise e.with_traceback(filtered_tb) from None\n",
      "  File \"/home/drkappa/miniconda3/envs/py39/lib/python3.9/site-packages/keras/src/models/functional.py\", line 264, in _adjust_input_rank\n",
      "    raise ValueError(\n",
      "ValueError: Exception encountered when calling Sequential.call().\n",
      "\n",
      "\u001b[1mInvalid input shape for input Tensor(\"data:0\", shape=(13, 4), dtype=float32). Expected shape (None, 1, 4), but input has incompatible shape (13, 4)\u001b[0m\n",
      "\n",
      "Arguments received by Sequential.call():\n",
      "  • inputs=tf.Tensor(shape=(13, 4), dtype=float32)\n",
      "  • training=False\n",
      "  • mask=None\n",
      "\n"
     ]
    },
    {
     "name": "stderr",
     "output_type": "stream",
     "text": [
      "/home/drkappa/miniconda3/envs/py39/lib/python3.9/site-packages/keras/src/layers/core/input_layer.py:26: UserWarning: Argument `input_shape` is deprecated. Use `shape` instead.\n",
      "  warnings.warn(\n",
      "14it [03:21, 14.70s/it]"
     ]
    },
    {
     "name": "stdout",
     "output_type": "stream",
     "text": [
      "Traceback (most recent call last):\n",
      "  File \"/home/drkappa/miniconda3/envs/py39/lib/python3.9/site-packages/cloudpredictionframework/utils/experiment.py\", line 98, in run_batch_experiment\n",
      "    result = run_experiment(df, LSTM2Layer(input_shape=(1, 4)), **kwargs)\n",
      "  File \"/home/drkappa/miniconda3/envs/py39/lib/python3.9/site-packages/cloudpredictionframework/utils/experiment.py\", line 34, in run_experiment\n",
      "    y_pred = sc.inverse_transform(network.predict(test))\n",
      "  File \"/home/drkappa/miniconda3/envs/py39/lib/python3.9/site-packages/cloudpredictionframework/usage_prediction/networks/base_network.py\", line 16, in predict\n",
      "    return self.model.predict(data)\n",
      "  File \"/home/drkappa/miniconda3/envs/py39/lib/python3.9/site-packages/keras/src/utils/traceback_utils.py\", line 122, in error_handler\n",
      "    raise e.with_traceback(filtered_tb) from None\n",
      "  File \"/home/drkappa/miniconda3/envs/py39/lib/python3.9/site-packages/keras/src/models/functional.py\", line 264, in _adjust_input_rank\n",
      "    raise ValueError(\n",
      "ValueError: Exception encountered when calling Sequential.call().\n",
      "\n",
      "\u001b[1mInvalid input shape for input Tensor(\"data:0\", shape=(23, 4), dtype=float32). Expected shape (None, 1, 4), but input has incompatible shape (23, 4)\u001b[0m\n",
      "\n",
      "Arguments received by Sequential.call():\n",
      "  • inputs=tf.Tensor(shape=(23, 4), dtype=float32)\n",
      "  • training=False\n",
      "  • mask=None\n",
      "\n"
     ]
    },
    {
     "name": "stderr",
     "output_type": "stream",
     "text": [
      "/home/drkappa/miniconda3/envs/py39/lib/python3.9/site-packages/keras/src/layers/core/input_layer.py:26: UserWarning: Argument `input_shape` is deprecated. Use `shape` instead.\n",
      "  warnings.warn(\n",
      "15it [03:36, 14.80s/it]"
     ]
    },
    {
     "name": "stdout",
     "output_type": "stream",
     "text": [
      "Traceback (most recent call last):\n",
      "  File \"/home/drkappa/miniconda3/envs/py39/lib/python3.9/site-packages/cloudpredictionframework/utils/experiment.py\", line 98, in run_batch_experiment\n",
      "    result = run_experiment(df, LSTM2Layer(input_shape=(1, 4)), **kwargs)\n",
      "  File \"/home/drkappa/miniconda3/envs/py39/lib/python3.9/site-packages/cloudpredictionframework/utils/experiment.py\", line 34, in run_experiment\n",
      "    y_pred = sc.inverse_transform(network.predict(test))\n",
      "  File \"/home/drkappa/miniconda3/envs/py39/lib/python3.9/site-packages/cloudpredictionframework/usage_prediction/networks/base_network.py\", line 16, in predict\n",
      "    return self.model.predict(data)\n",
      "  File \"/home/drkappa/miniconda3/envs/py39/lib/python3.9/site-packages/keras/src/utils/traceback_utils.py\", line 122, in error_handler\n",
      "    raise e.with_traceback(filtered_tb) from None\n",
      "  File \"/home/drkappa/miniconda3/envs/py39/lib/python3.9/site-packages/keras/src/models/functional.py\", line 264, in _adjust_input_rank\n",
      "    raise ValueError(\n",
      "ValueError: Exception encountered when calling Sequential.call().\n",
      "\n",
      "\u001b[1mInvalid input shape for input Tensor(\"data:0\", shape=(27, 4), dtype=float32). Expected shape (None, 1, 4), but input has incompatible shape (27, 4)\u001b[0m\n",
      "\n",
      "Arguments received by Sequential.call():\n",
      "  • inputs=tf.Tensor(shape=(27, 4), dtype=float32)\n",
      "  • training=False\n",
      "  • mask=None\n",
      "\n"
     ]
    },
    {
     "name": "stderr",
     "output_type": "stream",
     "text": [
      "/home/drkappa/miniconda3/envs/py39/lib/python3.9/site-packages/keras/src/layers/core/input_layer.py:26: UserWarning: Argument `input_shape` is deprecated. Use `shape` instead.\n",
      "  warnings.warn(\n",
      "16it [03:52, 15.10s/it]"
     ]
    },
    {
     "name": "stdout",
     "output_type": "stream",
     "text": [
      "Traceback (most recent call last):\n",
      "  File \"/home/drkappa/miniconda3/envs/py39/lib/python3.9/site-packages/cloudpredictionframework/utils/experiment.py\", line 98, in run_batch_experiment\n",
      "    result = run_experiment(df, LSTM2Layer(input_shape=(1, 4)), **kwargs)\n",
      "  File \"/home/drkappa/miniconda3/envs/py39/lib/python3.9/site-packages/cloudpredictionframework/utils/experiment.py\", line 34, in run_experiment\n",
      "    y_pred = sc.inverse_transform(network.predict(test))\n",
      "  File \"/home/drkappa/miniconda3/envs/py39/lib/python3.9/site-packages/cloudpredictionframework/usage_prediction/networks/base_network.py\", line 16, in predict\n",
      "    return self.model.predict(data)\n",
      "  File \"/home/drkappa/miniconda3/envs/py39/lib/python3.9/site-packages/keras/src/utils/traceback_utils.py\", line 122, in error_handler\n",
      "    raise e.with_traceback(filtered_tb) from None\n",
      "  File \"/home/drkappa/miniconda3/envs/py39/lib/python3.9/site-packages/keras/src/models/functional.py\", line 264, in _adjust_input_rank\n",
      "    raise ValueError(\n",
      "ValueError: Exception encountered when calling Sequential.call().\n",
      "\n",
      "\u001b[1mInvalid input shape for input Tensor(\"data:0\", shape=(23, 4), dtype=float32). Expected shape (None, 1, 4), but input has incompatible shape (23, 4)\u001b[0m\n",
      "\n",
      "Arguments received by Sequential.call():\n",
      "  • inputs=tf.Tensor(shape=(23, 4), dtype=float32)\n",
      "  • training=False\n",
      "  • mask=None\n",
      "\n"
     ]
    },
    {
     "name": "stderr",
     "output_type": "stream",
     "text": [
      "/home/drkappa/miniconda3/envs/py39/lib/python3.9/site-packages/keras/src/layers/core/input_layer.py:26: UserWarning: Argument `input_shape` is deprecated. Use `shape` instead.\n",
      "  warnings.warn(\n",
      "17it [04:08, 15.34s/it]"
     ]
    },
    {
     "name": "stdout",
     "output_type": "stream",
     "text": [
      "Traceback (most recent call last):\n",
      "  File \"/home/drkappa/miniconda3/envs/py39/lib/python3.9/site-packages/cloudpredictionframework/utils/experiment.py\", line 98, in run_batch_experiment\n",
      "    result = run_experiment(df, LSTM2Layer(input_shape=(1, 4)), **kwargs)\n",
      "  File \"/home/drkappa/miniconda3/envs/py39/lib/python3.9/site-packages/cloudpredictionframework/utils/experiment.py\", line 34, in run_experiment\n",
      "    y_pred = sc.inverse_transform(network.predict(test))\n",
      "  File \"/home/drkappa/miniconda3/envs/py39/lib/python3.9/site-packages/cloudpredictionframework/usage_prediction/networks/base_network.py\", line 16, in predict\n",
      "    return self.model.predict(data)\n",
      "  File \"/home/drkappa/miniconda3/envs/py39/lib/python3.9/site-packages/keras/src/utils/traceback_utils.py\", line 122, in error_handler\n",
      "    raise e.with_traceback(filtered_tb) from None\n",
      "  File \"/home/drkappa/miniconda3/envs/py39/lib/python3.9/site-packages/keras/src/models/functional.py\", line 264, in _adjust_input_rank\n",
      "    raise ValueError(\n",
      "ValueError: Exception encountered when calling Sequential.call().\n",
      "\n",
      "\u001b[1mInvalid input shape for input Tensor(\"data:0\", shape=(27, 4), dtype=float32). Expected shape (None, 1, 4), but input has incompatible shape (27, 4)\u001b[0m\n",
      "\n",
      "Arguments received by Sequential.call():\n",
      "  • inputs=tf.Tensor(shape=(27, 4), dtype=float32)\n",
      "  • training=False\n",
      "  • mask=None\n",
      "\n"
     ]
    },
    {
     "name": "stderr",
     "output_type": "stream",
     "text": [
      "/home/drkappa/miniconda3/envs/py39/lib/python3.9/site-packages/keras/src/layers/core/input_layer.py:26: UserWarning: Argument `input_shape` is deprecated. Use `shape` instead.\n",
      "  warnings.warn(\n",
      "18it [04:24, 15.67s/it]"
     ]
    },
    {
     "name": "stdout",
     "output_type": "stream",
     "text": [
      "Traceback (most recent call last):\n",
      "  File \"/home/drkappa/miniconda3/envs/py39/lib/python3.9/site-packages/cloudpredictionframework/utils/experiment.py\", line 98, in run_batch_experiment\n",
      "    result = run_experiment(df, LSTM2Layer(input_shape=(1, 4)), **kwargs)\n",
      "  File \"/home/drkappa/miniconda3/envs/py39/lib/python3.9/site-packages/cloudpredictionframework/utils/experiment.py\", line 34, in run_experiment\n",
      "    y_pred = sc.inverse_transform(network.predict(test))\n",
      "  File \"/home/drkappa/miniconda3/envs/py39/lib/python3.9/site-packages/cloudpredictionframework/usage_prediction/networks/base_network.py\", line 16, in predict\n",
      "    return self.model.predict(data)\n",
      "  File \"/home/drkappa/miniconda3/envs/py39/lib/python3.9/site-packages/keras/src/utils/traceback_utils.py\", line 122, in error_handler\n",
      "    raise e.with_traceback(filtered_tb) from None\n",
      "  File \"/home/drkappa/miniconda3/envs/py39/lib/python3.9/site-packages/keras/src/models/functional.py\", line 264, in _adjust_input_rank\n",
      "    raise ValueError(\n",
      "ValueError: Exception encountered when calling Sequential.call().\n",
      "\n",
      "\u001b[1mInvalid input shape for input Tensor(\"data:0\", shape=(8, 4), dtype=float32). Expected shape (None, 1, 4), but input has incompatible shape (8, 4)\u001b[0m\n",
      "\n",
      "Arguments received by Sequential.call():\n",
      "  • inputs=tf.Tensor(shape=(8, 4), dtype=float32)\n",
      "  • training=False\n",
      "  • mask=None\n",
      "\n"
     ]
    },
    {
     "name": "stderr",
     "output_type": "stream",
     "text": [
      "/home/drkappa/miniconda3/envs/py39/lib/python3.9/site-packages/keras/src/layers/core/input_layer.py:26: UserWarning: Argument `input_shape` is deprecated. Use `shape` instead.\n",
      "  warnings.warn(\n",
      "19it [04:40, 15.71s/it]"
     ]
    },
    {
     "name": "stdout",
     "output_type": "stream",
     "text": [
      "Traceback (most recent call last):\n",
      "  File \"/home/drkappa/miniconda3/envs/py39/lib/python3.9/site-packages/cloudpredictionframework/utils/experiment.py\", line 98, in run_batch_experiment\n",
      "    result = run_experiment(df, LSTM2Layer(input_shape=(1, 4)), **kwargs)\n",
      "  File \"/home/drkappa/miniconda3/envs/py39/lib/python3.9/site-packages/cloudpredictionframework/utils/experiment.py\", line 34, in run_experiment\n",
      "    y_pred = sc.inverse_transform(network.predict(test))\n",
      "  File \"/home/drkappa/miniconda3/envs/py39/lib/python3.9/site-packages/cloudpredictionframework/usage_prediction/networks/base_network.py\", line 16, in predict\n",
      "    return self.model.predict(data)\n",
      "  File \"/home/drkappa/miniconda3/envs/py39/lib/python3.9/site-packages/keras/src/utils/traceback_utils.py\", line 122, in error_handler\n",
      "    raise e.with_traceback(filtered_tb) from None\n",
      "  File \"/home/drkappa/miniconda3/envs/py39/lib/python3.9/site-packages/keras/src/models/functional.py\", line 264, in _adjust_input_rank\n",
      "    raise ValueError(\n",
      "ValueError: Exception encountered when calling Sequential.call().\n",
      "\n",
      "\u001b[1mInvalid input shape for input Tensor(\"data:0\", shape=(12, 4), dtype=float32). Expected shape (None, 1, 4), but input has incompatible shape (12, 4)\u001b[0m\n",
      "\n",
      "Arguments received by Sequential.call():\n",
      "  • inputs=tf.Tensor(shape=(12, 4), dtype=float32)\n",
      "  • training=False\n",
      "  • mask=None\n",
      "\n"
     ]
    },
    {
     "name": "stderr",
     "output_type": "stream",
     "text": [
      "/home/drkappa/miniconda3/envs/py39/lib/python3.9/site-packages/keras/src/layers/core/input_layer.py:26: UserWarning: Argument `input_shape` is deprecated. Use `shape` instead.\n",
      "  warnings.warn(\n",
      "20it [04:54, 15.31s/it]"
     ]
    },
    {
     "name": "stdout",
     "output_type": "stream",
     "text": [
      "Traceback (most recent call last):\n",
      "  File \"/home/drkappa/miniconda3/envs/py39/lib/python3.9/site-packages/cloudpredictionframework/utils/experiment.py\", line 98, in run_batch_experiment\n",
      "    result = run_experiment(df, LSTM2Layer(input_shape=(1, 4)), **kwargs)\n",
      "  File \"/home/drkappa/miniconda3/envs/py39/lib/python3.9/site-packages/cloudpredictionframework/utils/experiment.py\", line 34, in run_experiment\n",
      "    y_pred = sc.inverse_transform(network.predict(test))\n",
      "  File \"/home/drkappa/miniconda3/envs/py39/lib/python3.9/site-packages/cloudpredictionframework/usage_prediction/networks/base_network.py\", line 16, in predict\n",
      "    return self.model.predict(data)\n",
      "  File \"/home/drkappa/miniconda3/envs/py39/lib/python3.9/site-packages/keras/src/utils/traceback_utils.py\", line 122, in error_handler\n",
      "    raise e.with_traceback(filtered_tb) from None\n",
      "  File \"/home/drkappa/miniconda3/envs/py39/lib/python3.9/site-packages/keras/src/models/functional.py\", line 264, in _adjust_input_rank\n",
      "    raise ValueError(\n",
      "ValueError: Exception encountered when calling Sequential.call().\n",
      "\n",
      "\u001b[1mInvalid input shape for input Tensor(\"data:0\", shape=(5, 4), dtype=float32). Expected shape (None, 1, 4), but input has incompatible shape (5, 4)\u001b[0m\n",
      "\n",
      "Arguments received by Sequential.call():\n",
      "  • inputs=tf.Tensor(shape=(5, 4), dtype=float32)\n",
      "  • training=False\n",
      "  • mask=None\n",
      "\n"
     ]
    },
    {
     "name": "stderr",
     "output_type": "stream",
     "text": [
      "/home/drkappa/miniconda3/envs/py39/lib/python3.9/site-packages/keras/src/layers/core/input_layer.py:26: UserWarning: Argument `input_shape` is deprecated. Use `shape` instead.\n",
      "  warnings.warn(\n",
      "21it [05:12, 15.98s/it]"
     ]
    },
    {
     "name": "stdout",
     "output_type": "stream",
     "text": [
      "Traceback (most recent call last):\n",
      "  File \"/home/drkappa/miniconda3/envs/py39/lib/python3.9/site-packages/cloudpredictionframework/utils/experiment.py\", line 98, in run_batch_experiment\n",
      "    result = run_experiment(df, LSTM2Layer(input_shape=(1, 4)), **kwargs)\n",
      "  File \"/home/drkappa/miniconda3/envs/py39/lib/python3.9/site-packages/cloudpredictionframework/utils/experiment.py\", line 34, in run_experiment\n",
      "    y_pred = sc.inverse_transform(network.predict(test))\n",
      "  File \"/home/drkappa/miniconda3/envs/py39/lib/python3.9/site-packages/cloudpredictionframework/usage_prediction/networks/base_network.py\", line 16, in predict\n",
      "    return self.model.predict(data)\n",
      "  File \"/home/drkappa/miniconda3/envs/py39/lib/python3.9/site-packages/keras/src/utils/traceback_utils.py\", line 122, in error_handler\n",
      "    raise e.with_traceback(filtered_tb) from None\n",
      "  File \"/home/drkappa/miniconda3/envs/py39/lib/python3.9/site-packages/keras/src/models/functional.py\", line 264, in _adjust_input_rank\n",
      "    raise ValueError(\n",
      "ValueError: Exception encountered when calling Sequential.call().\n",
      "\n",
      "\u001b[1mInvalid input shape for input Tensor(\"data:0\", shape=(31, 4), dtype=float32). Expected shape (None, 1, 4), but input has incompatible shape (31, 4)\u001b[0m\n",
      "\n",
      "Arguments received by Sequential.call():\n",
      "  • inputs=tf.Tensor(shape=(31, 4), dtype=float32)\n",
      "  • training=False\n",
      "  • mask=None\n",
      "\n"
     ]
    },
    {
     "name": "stderr",
     "output_type": "stream",
     "text": [
      "/home/drkappa/miniconda3/envs/py39/lib/python3.9/site-packages/keras/src/layers/core/input_layer.py:26: UserWarning: Argument `input_shape` is deprecated. Use `shape` instead.\n",
      "  warnings.warn(\n",
      "22it [05:26, 15.32s/it]"
     ]
    },
    {
     "name": "stdout",
     "output_type": "stream",
     "text": [
      "Traceback (most recent call last):\n",
      "  File \"/home/drkappa/miniconda3/envs/py39/lib/python3.9/site-packages/cloudpredictionframework/utils/experiment.py\", line 98, in run_batch_experiment\n",
      "    result = run_experiment(df, LSTM2Layer(input_shape=(1, 4)), **kwargs)\n",
      "  File \"/home/drkappa/miniconda3/envs/py39/lib/python3.9/site-packages/cloudpredictionframework/utils/experiment.py\", line 34, in run_experiment\n",
      "    y_pred = sc.inverse_transform(network.predict(test))\n",
      "  File \"/home/drkappa/miniconda3/envs/py39/lib/python3.9/site-packages/cloudpredictionframework/usage_prediction/networks/base_network.py\", line 16, in predict\n",
      "    return self.model.predict(data)\n",
      "  File \"/home/drkappa/miniconda3/envs/py39/lib/python3.9/site-packages/keras/src/utils/traceback_utils.py\", line 122, in error_handler\n",
      "    raise e.with_traceback(filtered_tb) from None\n",
      "  File \"/home/drkappa/miniconda3/envs/py39/lib/python3.9/site-packages/keras/src/models/functional.py\", line 264, in _adjust_input_rank\n",
      "    raise ValueError(\n",
      "ValueError: Exception encountered when calling Sequential.call().\n",
      "\n",
      "\u001b[1mInvalid input shape for input Tensor(\"data:0\", shape=(23, 4), dtype=float32). Expected shape (None, 1, 4), but input has incompatible shape (23, 4)\u001b[0m\n",
      "\n",
      "Arguments received by Sequential.call():\n",
      "  • inputs=tf.Tensor(shape=(23, 4), dtype=float32)\n",
      "  • training=False\n",
      "  • mask=None\n",
      "\n"
     ]
    },
    {
     "name": "stderr",
     "output_type": "stream",
     "text": [
      "/home/drkappa/miniconda3/envs/py39/lib/python3.9/site-packages/keras/src/layers/core/input_layer.py:26: UserWarning: Argument `input_shape` is deprecated. Use `shape` instead.\n",
      "  warnings.warn(\n",
      "23it [05:40, 15.02s/it]"
     ]
    },
    {
     "name": "stdout",
     "output_type": "stream",
     "text": [
      "Traceback (most recent call last):\n",
      "  File \"/home/drkappa/miniconda3/envs/py39/lib/python3.9/site-packages/cloudpredictionframework/utils/experiment.py\", line 98, in run_batch_experiment\n",
      "    result = run_experiment(df, LSTM2Layer(input_shape=(1, 4)), **kwargs)\n",
      "  File \"/home/drkappa/miniconda3/envs/py39/lib/python3.9/site-packages/cloudpredictionframework/utils/experiment.py\", line 34, in run_experiment\n",
      "    y_pred = sc.inverse_transform(network.predict(test))\n",
      "  File \"/home/drkappa/miniconda3/envs/py39/lib/python3.9/site-packages/cloudpredictionframework/usage_prediction/networks/base_network.py\", line 16, in predict\n",
      "    return self.model.predict(data)\n",
      "  File \"/home/drkappa/miniconda3/envs/py39/lib/python3.9/site-packages/keras/src/utils/traceback_utils.py\", line 122, in error_handler\n",
      "    raise e.with_traceback(filtered_tb) from None\n",
      "  File \"/home/drkappa/miniconda3/envs/py39/lib/python3.9/site-packages/keras/src/models/functional.py\", line 264, in _adjust_input_rank\n",
      "    raise ValueError(\n",
      "ValueError: Exception encountered when calling Sequential.call().\n",
      "\n",
      "\u001b[1mInvalid input shape for input Tensor(\"data:0\", shape=(8, 4), dtype=float32). Expected shape (None, 1, 4), but input has incompatible shape (8, 4)\u001b[0m\n",
      "\n",
      "Arguments received by Sequential.call():\n",
      "  • inputs=tf.Tensor(shape=(8, 4), dtype=float32)\n",
      "  • training=False\n",
      "  • mask=None\n",
      "\n"
     ]
    },
    {
     "name": "stderr",
     "output_type": "stream",
     "text": [
      "/home/drkappa/miniconda3/envs/py39/lib/python3.9/site-packages/keras/src/layers/core/input_layer.py:26: UserWarning: Argument `input_shape` is deprecated. Use `shape` instead.\n",
      "  warnings.warn(\n",
      "24it [05:53, 14.37s/it]"
     ]
    },
    {
     "name": "stdout",
     "output_type": "stream",
     "text": [
      "Traceback (most recent call last):\n",
      "  File \"/home/drkappa/miniconda3/envs/py39/lib/python3.9/site-packages/cloudpredictionframework/utils/experiment.py\", line 98, in run_batch_experiment\n",
      "    result = run_experiment(df, LSTM2Layer(input_shape=(1, 4)), **kwargs)\n",
      "  File \"/home/drkappa/miniconda3/envs/py39/lib/python3.9/site-packages/cloudpredictionframework/utils/experiment.py\", line 34, in run_experiment\n",
      "    y_pred = sc.inverse_transform(network.predict(test))\n",
      "  File \"/home/drkappa/miniconda3/envs/py39/lib/python3.9/site-packages/cloudpredictionframework/usage_prediction/networks/base_network.py\", line 16, in predict\n",
      "    return self.model.predict(data)\n",
      "  File \"/home/drkappa/miniconda3/envs/py39/lib/python3.9/site-packages/keras/src/utils/traceback_utils.py\", line 122, in error_handler\n",
      "    raise e.with_traceback(filtered_tb) from None\n",
      "  File \"/home/drkappa/miniconda3/envs/py39/lib/python3.9/site-packages/keras/src/models/functional.py\", line 264, in _adjust_input_rank\n",
      "    raise ValueError(\n",
      "ValueError: Exception encountered when calling Sequential.call().\n",
      "\n",
      "\u001b[1mInvalid input shape for input Tensor(\"data:0\", shape=(2, 4), dtype=float32). Expected shape (None, 1, 4), but input has incompatible shape (2, 4)\u001b[0m\n",
      "\n",
      "Arguments received by Sequential.call():\n",
      "  • inputs=tf.Tensor(shape=(2, 4), dtype=float32)\n",
      "  • training=False\n",
      "  • mask=None\n",
      "\n"
     ]
    },
    {
     "name": "stderr",
     "output_type": "stream",
     "text": [
      "/home/drkappa/miniconda3/envs/py39/lib/python3.9/site-packages/keras/src/layers/core/input_layer.py:26: UserWarning: Argument `input_shape` is deprecated. Use `shape` instead.\n",
      "  warnings.warn(\n",
      "25it [06:07, 14.20s/it]"
     ]
    },
    {
     "name": "stdout",
     "output_type": "stream",
     "text": [
      "Traceback (most recent call last):\n",
      "  File \"/home/drkappa/miniconda3/envs/py39/lib/python3.9/site-packages/cloudpredictionframework/utils/experiment.py\", line 98, in run_batch_experiment\n",
      "    result = run_experiment(df, LSTM2Layer(input_shape=(1, 4)), **kwargs)\n",
      "  File \"/home/drkappa/miniconda3/envs/py39/lib/python3.9/site-packages/cloudpredictionframework/utils/experiment.py\", line 34, in run_experiment\n",
      "    y_pred = sc.inverse_transform(network.predict(test))\n",
      "  File \"/home/drkappa/miniconda3/envs/py39/lib/python3.9/site-packages/cloudpredictionframework/usage_prediction/networks/base_network.py\", line 16, in predict\n",
      "    return self.model.predict(data)\n",
      "  File \"/home/drkappa/miniconda3/envs/py39/lib/python3.9/site-packages/keras/src/utils/traceback_utils.py\", line 122, in error_handler\n",
      "    raise e.with_traceback(filtered_tb) from None\n",
      "  File \"/home/drkappa/miniconda3/envs/py39/lib/python3.9/site-packages/keras/src/models/functional.py\", line 264, in _adjust_input_rank\n",
      "    raise ValueError(\n",
      "ValueError: Exception encountered when calling Sequential.call().\n",
      "\n",
      "\u001b[1mInvalid input shape for input Tensor(\"data:0\", shape=(23, 4), dtype=float32). Expected shape (None, 1, 4), but input has incompatible shape (23, 4)\u001b[0m\n",
      "\n",
      "Arguments received by Sequential.call():\n",
      "  • inputs=tf.Tensor(shape=(23, 4), dtype=float32)\n",
      "  • training=False\n",
      "  • mask=None\n",
      "\n"
     ]
    },
    {
     "name": "stderr",
     "output_type": "stream",
     "text": [
      "/home/drkappa/miniconda3/envs/py39/lib/python3.9/site-packages/keras/src/layers/core/input_layer.py:26: UserWarning: Argument `input_shape` is deprecated. Use `shape` instead.\n",
      "  warnings.warn(\n",
      "26it [06:21, 14.26s/it]"
     ]
    },
    {
     "name": "stdout",
     "output_type": "stream",
     "text": [
      "Traceback (most recent call last):\n",
      "  File \"/home/drkappa/miniconda3/envs/py39/lib/python3.9/site-packages/cloudpredictionframework/utils/experiment.py\", line 98, in run_batch_experiment\n",
      "    result = run_experiment(df, LSTM2Layer(input_shape=(1, 4)), **kwargs)\n",
      "  File \"/home/drkappa/miniconda3/envs/py39/lib/python3.9/site-packages/cloudpredictionframework/utils/experiment.py\", line 34, in run_experiment\n",
      "    y_pred = sc.inverse_transform(network.predict(test))\n",
      "  File \"/home/drkappa/miniconda3/envs/py39/lib/python3.9/site-packages/cloudpredictionframework/usage_prediction/networks/base_network.py\", line 16, in predict\n",
      "    return self.model.predict(data)\n",
      "  File \"/home/drkappa/miniconda3/envs/py39/lib/python3.9/site-packages/keras/src/utils/traceback_utils.py\", line 122, in error_handler\n",
      "    raise e.with_traceback(filtered_tb) from None\n",
      "  File \"/home/drkappa/miniconda3/envs/py39/lib/python3.9/site-packages/keras/src/models/functional.py\", line 264, in _adjust_input_rank\n",
      "    raise ValueError(\n",
      "ValueError: Exception encountered when calling Sequential.call().\n",
      "\n",
      "\u001b[1mInvalid input shape for input Tensor(\"data:0\", shape=(23, 4), dtype=float32). Expected shape (None, 1, 4), but input has incompatible shape (23, 4)\u001b[0m\n",
      "\n",
      "Arguments received by Sequential.call():\n",
      "  • inputs=tf.Tensor(shape=(23, 4), dtype=float32)\n",
      "  • training=False\n",
      "  • mask=None\n",
      "\n"
     ]
    },
    {
     "name": "stderr",
     "output_type": "stream",
     "text": [
      "/home/drkappa/miniconda3/envs/py39/lib/python3.9/site-packages/keras/src/layers/core/input_layer.py:26: UserWarning: Argument `input_shape` is deprecated. Use `shape` instead.\n",
      "  warnings.warn(\n",
      "27it [06:37, 14.69s/it]"
     ]
    },
    {
     "name": "stdout",
     "output_type": "stream",
     "text": [
      "Traceback (most recent call last):\n",
      "  File \"/home/drkappa/miniconda3/envs/py39/lib/python3.9/site-packages/cloudpredictionframework/utils/experiment.py\", line 98, in run_batch_experiment\n",
      "    result = run_experiment(df, LSTM2Layer(input_shape=(1, 4)), **kwargs)\n",
      "  File \"/home/drkappa/miniconda3/envs/py39/lib/python3.9/site-packages/cloudpredictionframework/utils/experiment.py\", line 34, in run_experiment\n",
      "    y_pred = sc.inverse_transform(network.predict(test))\n",
      "  File \"/home/drkappa/miniconda3/envs/py39/lib/python3.9/site-packages/cloudpredictionframework/usage_prediction/networks/base_network.py\", line 16, in predict\n",
      "    return self.model.predict(data)\n",
      "  File \"/home/drkappa/miniconda3/envs/py39/lib/python3.9/site-packages/keras/src/utils/traceback_utils.py\", line 122, in error_handler\n",
      "    raise e.with_traceback(filtered_tb) from None\n",
      "  File \"/home/drkappa/miniconda3/envs/py39/lib/python3.9/site-packages/keras/src/models/functional.py\", line 264, in _adjust_input_rank\n",
      "    raise ValueError(\n",
      "ValueError: Exception encountered when calling Sequential.call().\n",
      "\n",
      "\u001b[1mInvalid input shape for input Tensor(\"data:0\", shape=(5, 4), dtype=float32). Expected shape (None, 1, 4), but input has incompatible shape (5, 4)\u001b[0m\n",
      "\n",
      "Arguments received by Sequential.call():\n",
      "  • inputs=tf.Tensor(shape=(5, 4), dtype=float32)\n",
      "  • training=False\n",
      "  • mask=None\n",
      "\n"
     ]
    },
    {
     "name": "stderr",
     "output_type": "stream",
     "text": [
      "/home/drkappa/miniconda3/envs/py39/lib/python3.9/site-packages/keras/src/layers/core/input_layer.py:26: UserWarning: Argument `input_shape` is deprecated. Use `shape` instead.\n",
      "  warnings.warn(\n",
      "28it [06:53, 15.24s/it]"
     ]
    },
    {
     "name": "stdout",
     "output_type": "stream",
     "text": [
      "Traceback (most recent call last):\n",
      "  File \"/home/drkappa/miniconda3/envs/py39/lib/python3.9/site-packages/cloudpredictionframework/utils/experiment.py\", line 98, in run_batch_experiment\n",
      "    result = run_experiment(df, LSTM2Layer(input_shape=(1, 4)), **kwargs)\n",
      "  File \"/home/drkappa/miniconda3/envs/py39/lib/python3.9/site-packages/cloudpredictionframework/utils/experiment.py\", line 34, in run_experiment\n",
      "    y_pred = sc.inverse_transform(network.predict(test))\n",
      "  File \"/home/drkappa/miniconda3/envs/py39/lib/python3.9/site-packages/cloudpredictionframework/usage_prediction/networks/base_network.py\", line 16, in predict\n",
      "    return self.model.predict(data)\n",
      "  File \"/home/drkappa/miniconda3/envs/py39/lib/python3.9/site-packages/keras/src/utils/traceback_utils.py\", line 122, in error_handler\n",
      "    raise e.with_traceback(filtered_tb) from None\n",
      "  File \"/home/drkappa/miniconda3/envs/py39/lib/python3.9/site-packages/keras/src/models/functional.py\", line 264, in _adjust_input_rank\n",
      "    raise ValueError(\n",
      "ValueError: Exception encountered when calling Sequential.call().\n",
      "\n",
      "\u001b[1mInvalid input shape for input Tensor(\"data:0\", shape=(14, 4), dtype=float32). Expected shape (None, 1, 4), but input has incompatible shape (14, 4)\u001b[0m\n",
      "\n",
      "Arguments received by Sequential.call():\n",
      "  • inputs=tf.Tensor(shape=(14, 4), dtype=float32)\n",
      "  • training=False\n",
      "  • mask=None\n",
      "\n"
     ]
    },
    {
     "name": "stderr",
     "output_type": "stream",
     "text": [
      "/home/drkappa/miniconda3/envs/py39/lib/python3.9/site-packages/keras/src/layers/core/input_layer.py:26: UserWarning: Argument `input_shape` is deprecated. Use `shape` instead.\n",
      "  warnings.warn(\n",
      "29it [07:10, 15.66s/it]"
     ]
    },
    {
     "name": "stdout",
     "output_type": "stream",
     "text": [
      "Traceback (most recent call last):\n",
      "  File \"/home/drkappa/miniconda3/envs/py39/lib/python3.9/site-packages/cloudpredictionframework/utils/experiment.py\", line 98, in run_batch_experiment\n",
      "    result = run_experiment(df, LSTM2Layer(input_shape=(1, 4)), **kwargs)\n",
      "  File \"/home/drkappa/miniconda3/envs/py39/lib/python3.9/site-packages/cloudpredictionframework/utils/experiment.py\", line 34, in run_experiment\n",
      "    y_pred = sc.inverse_transform(network.predict(test))\n",
      "  File \"/home/drkappa/miniconda3/envs/py39/lib/python3.9/site-packages/cloudpredictionframework/usage_prediction/networks/base_network.py\", line 16, in predict\n",
      "    return self.model.predict(data)\n",
      "  File \"/home/drkappa/miniconda3/envs/py39/lib/python3.9/site-packages/keras/src/utils/traceback_utils.py\", line 122, in error_handler\n",
      "    raise e.with_traceback(filtered_tb) from None\n",
      "  File \"/home/drkappa/miniconda3/envs/py39/lib/python3.9/site-packages/keras/src/models/functional.py\", line 264, in _adjust_input_rank\n",
      "    raise ValueError(\n",
      "ValueError: Exception encountered when calling Sequential.call().\n",
      "\n",
      "\u001b[1mInvalid input shape for input Tensor(\"data:0\", shape=(23, 4), dtype=float32). Expected shape (None, 1, 4), but input has incompatible shape (23, 4)\u001b[0m\n",
      "\n",
      "Arguments received by Sequential.call():\n",
      "  • inputs=tf.Tensor(shape=(23, 4), dtype=float32)\n",
      "  • training=False\n",
      "  • mask=None\n",
      "\n"
     ]
    },
    {
     "name": "stderr",
     "output_type": "stream",
     "text": [
      "/home/drkappa/miniconda3/envs/py39/lib/python3.9/site-packages/keras/src/layers/core/input_layer.py:26: UserWarning: Argument `input_shape` is deprecated. Use `shape` instead.\n",
      "  warnings.warn(\n",
      "30it [07:25, 15.44s/it]"
     ]
    },
    {
     "name": "stdout",
     "output_type": "stream",
     "text": [
      "Traceback (most recent call last):\n",
      "  File \"/home/drkappa/miniconda3/envs/py39/lib/python3.9/site-packages/cloudpredictionframework/utils/experiment.py\", line 98, in run_batch_experiment\n",
      "    result = run_experiment(df, LSTM2Layer(input_shape=(1, 4)), **kwargs)\n",
      "  File \"/home/drkappa/miniconda3/envs/py39/lib/python3.9/site-packages/cloudpredictionframework/utils/experiment.py\", line 34, in run_experiment\n",
      "    y_pred = sc.inverse_transform(network.predict(test))\n",
      "  File \"/home/drkappa/miniconda3/envs/py39/lib/python3.9/site-packages/cloudpredictionframework/usage_prediction/networks/base_network.py\", line 16, in predict\n",
      "    return self.model.predict(data)\n",
      "  File \"/home/drkappa/miniconda3/envs/py39/lib/python3.9/site-packages/keras/src/utils/traceback_utils.py\", line 122, in error_handler\n",
      "    raise e.with_traceback(filtered_tb) from None\n",
      "  File \"/home/drkappa/miniconda3/envs/py39/lib/python3.9/site-packages/keras/src/models/functional.py\", line 264, in _adjust_input_rank\n",
      "    raise ValueError(\n",
      "ValueError: Exception encountered when calling Sequential.call().\n",
      "\n",
      "\u001b[1mInvalid input shape for input Tensor(\"data:0\", shape=(8, 4), dtype=float32). Expected shape (None, 1, 4), but input has incompatible shape (8, 4)\u001b[0m\n",
      "\n",
      "Arguments received by Sequential.call():\n",
      "  • inputs=tf.Tensor(shape=(8, 4), dtype=float32)\n",
      "  • training=False\n",
      "  • mask=None\n",
      "\n"
     ]
    },
    {
     "name": "stderr",
     "output_type": "stream",
     "text": [
      "/home/drkappa/miniconda3/envs/py39/lib/python3.9/site-packages/keras/src/layers/core/input_layer.py:26: UserWarning: Argument `input_shape` is deprecated. Use `shape` instead.\n",
      "  warnings.warn(\n",
      "31it [07:40, 15.51s/it]"
     ]
    },
    {
     "name": "stdout",
     "output_type": "stream",
     "text": [
      "Traceback (most recent call last):\n",
      "  File \"/home/drkappa/miniconda3/envs/py39/lib/python3.9/site-packages/cloudpredictionframework/utils/experiment.py\", line 98, in run_batch_experiment\n",
      "    result = run_experiment(df, LSTM2Layer(input_shape=(1, 4)), **kwargs)\n",
      "  File \"/home/drkappa/miniconda3/envs/py39/lib/python3.9/site-packages/cloudpredictionframework/utils/experiment.py\", line 34, in run_experiment\n",
      "    y_pred = sc.inverse_transform(network.predict(test))\n",
      "  File \"/home/drkappa/miniconda3/envs/py39/lib/python3.9/site-packages/cloudpredictionframework/usage_prediction/networks/base_network.py\", line 16, in predict\n",
      "    return self.model.predict(data)\n",
      "  File \"/home/drkappa/miniconda3/envs/py39/lib/python3.9/site-packages/keras/src/utils/traceback_utils.py\", line 122, in error_handler\n",
      "    raise e.with_traceback(filtered_tb) from None\n",
      "  File \"/home/drkappa/miniconda3/envs/py39/lib/python3.9/site-packages/keras/src/models/functional.py\", line 264, in _adjust_input_rank\n",
      "    raise ValueError(\n",
      "ValueError: Exception encountered when calling Sequential.call().\n",
      "\n",
      "\u001b[1mInvalid input shape for input Tensor(\"data:0\", shape=(1, 4), dtype=float32). Expected shape (None, 1, 4), but input has incompatible shape (1, 4)\u001b[0m\n",
      "\n",
      "Arguments received by Sequential.call():\n",
      "  • inputs=tf.Tensor(shape=(1, 4), dtype=float32)\n",
      "  • training=False\n",
      "  • mask=None\n",
      "\n"
     ]
    },
    {
     "name": "stderr",
     "output_type": "stream",
     "text": [
      "/home/drkappa/miniconda3/envs/py39/lib/python3.9/site-packages/keras/src/layers/core/input_layer.py:26: UserWarning: Argument `input_shape` is deprecated. Use `shape` instead.\n",
      "  warnings.warn(\n",
      "32it [07:58, 16.13s/it]"
     ]
    },
    {
     "name": "stdout",
     "output_type": "stream",
     "text": [
      "Traceback (most recent call last):\n",
      "  File \"/home/drkappa/miniconda3/envs/py39/lib/python3.9/site-packages/cloudpredictionframework/utils/experiment.py\", line 98, in run_batch_experiment\n",
      "    result = run_experiment(df, LSTM2Layer(input_shape=(1, 4)), **kwargs)\n",
      "  File \"/home/drkappa/miniconda3/envs/py39/lib/python3.9/site-packages/cloudpredictionframework/utils/experiment.py\", line 34, in run_experiment\n",
      "    y_pred = sc.inverse_transform(network.predict(test))\n",
      "  File \"/home/drkappa/miniconda3/envs/py39/lib/python3.9/site-packages/cloudpredictionframework/usage_prediction/networks/base_network.py\", line 16, in predict\n",
      "    return self.model.predict(data)\n",
      "  File \"/home/drkappa/miniconda3/envs/py39/lib/python3.9/site-packages/keras/src/utils/traceback_utils.py\", line 122, in error_handler\n",
      "    raise e.with_traceback(filtered_tb) from None\n",
      "  File \"/home/drkappa/miniconda3/envs/py39/lib/python3.9/site-packages/keras/src/models/functional.py\", line 264, in _adjust_input_rank\n",
      "    raise ValueError(\n",
      "ValueError: Exception encountered when calling Sequential.call().\n",
      "\n",
      "\u001b[1mInvalid input shape for input Tensor(\"data:0\", shape=(23, 4), dtype=float32). Expected shape (None, 1, 4), but input has incompatible shape (23, 4)\u001b[0m\n",
      "\n",
      "Arguments received by Sequential.call():\n",
      "  • inputs=tf.Tensor(shape=(23, 4), dtype=float32)\n",
      "  • training=False\n",
      "  • mask=None\n",
      "\n"
     ]
    },
    {
     "name": "stderr",
     "output_type": "stream",
     "text": [
      "/home/drkappa/miniconda3/envs/py39/lib/python3.9/site-packages/keras/src/layers/core/input_layer.py:26: UserWarning: Argument `input_shape` is deprecated. Use `shape` instead.\n",
      "  warnings.warn(\n",
      "33it [08:14, 16.23s/it]"
     ]
    },
    {
     "name": "stdout",
     "output_type": "stream",
     "text": [
      "Traceback (most recent call last):\n",
      "  File \"/home/drkappa/miniconda3/envs/py39/lib/python3.9/site-packages/cloudpredictionframework/utils/experiment.py\", line 98, in run_batch_experiment\n",
      "    result = run_experiment(df, LSTM2Layer(input_shape=(1, 4)), **kwargs)\n",
      "  File \"/home/drkappa/miniconda3/envs/py39/lib/python3.9/site-packages/cloudpredictionframework/utils/experiment.py\", line 34, in run_experiment\n",
      "    y_pred = sc.inverse_transform(network.predict(test))\n",
      "  File \"/home/drkappa/miniconda3/envs/py39/lib/python3.9/site-packages/cloudpredictionframework/usage_prediction/networks/base_network.py\", line 16, in predict\n",
      "    return self.model.predict(data)\n",
      "  File \"/home/drkappa/miniconda3/envs/py39/lib/python3.9/site-packages/keras/src/utils/traceback_utils.py\", line 122, in error_handler\n",
      "    raise e.with_traceback(filtered_tb) from None\n",
      "  File \"/home/drkappa/miniconda3/envs/py39/lib/python3.9/site-packages/keras/src/models/functional.py\", line 264, in _adjust_input_rank\n",
      "    raise ValueError(\n",
      "ValueError: Exception encountered when calling Sequential.call().\n",
      "\n",
      "\u001b[1mInvalid input shape for input Tensor(\"data:0\", shape=(20, 4), dtype=float32). Expected shape (None, 1, 4), but input has incompatible shape (20, 4)\u001b[0m\n",
      "\n",
      "Arguments received by Sequential.call():\n",
      "  • inputs=tf.Tensor(shape=(20, 4), dtype=float32)\n",
      "  • training=False\n",
      "  • mask=None\n",
      "\n"
     ]
    },
    {
     "name": "stderr",
     "output_type": "stream",
     "text": [
      "/home/drkappa/miniconda3/envs/py39/lib/python3.9/site-packages/keras/src/layers/core/input_layer.py:26: UserWarning: Argument `input_shape` is deprecated. Use `shape` instead.\n",
      "  warnings.warn(\n",
      "34it [08:31, 16.23s/it]"
     ]
    },
    {
     "name": "stdout",
     "output_type": "stream",
     "text": [
      "Traceback (most recent call last):\n",
      "  File \"/home/drkappa/miniconda3/envs/py39/lib/python3.9/site-packages/cloudpredictionframework/utils/experiment.py\", line 98, in run_batch_experiment\n",
      "    result = run_experiment(df, LSTM2Layer(input_shape=(1, 4)), **kwargs)\n",
      "  File \"/home/drkappa/miniconda3/envs/py39/lib/python3.9/site-packages/cloudpredictionframework/utils/experiment.py\", line 34, in run_experiment\n",
      "    y_pred = sc.inverse_transform(network.predict(test))\n",
      "  File \"/home/drkappa/miniconda3/envs/py39/lib/python3.9/site-packages/cloudpredictionframework/usage_prediction/networks/base_network.py\", line 16, in predict\n",
      "    return self.model.predict(data)\n",
      "  File \"/home/drkappa/miniconda3/envs/py39/lib/python3.9/site-packages/keras/src/utils/traceback_utils.py\", line 122, in error_handler\n",
      "    raise e.with_traceback(filtered_tb) from None\n",
      "  File \"/home/drkappa/miniconda3/envs/py39/lib/python3.9/site-packages/keras/src/models/functional.py\", line 264, in _adjust_input_rank\n",
      "    raise ValueError(\n",
      "ValueError: Exception encountered when calling Sequential.call().\n",
      "\n",
      "\u001b[1mInvalid input shape for input Tensor(\"data:0\", shape=(5, 4), dtype=float32). Expected shape (None, 1, 4), but input has incompatible shape (5, 4)\u001b[0m\n",
      "\n",
      "Arguments received by Sequential.call():\n",
      "  • inputs=tf.Tensor(shape=(5, 4), dtype=float32)\n",
      "  • training=False\n",
      "  • mask=None\n",
      "\n"
     ]
    },
    {
     "name": "stderr",
     "output_type": "stream",
     "text": [
      "/home/drkappa/miniconda3/envs/py39/lib/python3.9/site-packages/keras/src/layers/core/input_layer.py:26: UserWarning: Argument `input_shape` is deprecated. Use `shape` instead.\n",
      "  warnings.warn(\n",
      "35it [08:46, 16.03s/it]"
     ]
    },
    {
     "name": "stdout",
     "output_type": "stream",
     "text": [
      "Traceback (most recent call last):\n",
      "  File \"/home/drkappa/miniconda3/envs/py39/lib/python3.9/site-packages/cloudpredictionframework/utils/experiment.py\", line 98, in run_batch_experiment\n",
      "    result = run_experiment(df, LSTM2Layer(input_shape=(1, 4)), **kwargs)\n",
      "  File \"/home/drkappa/miniconda3/envs/py39/lib/python3.9/site-packages/cloudpredictionframework/utils/experiment.py\", line 34, in run_experiment\n",
      "    y_pred = sc.inverse_transform(network.predict(test))\n",
      "  File \"/home/drkappa/miniconda3/envs/py39/lib/python3.9/site-packages/cloudpredictionframework/usage_prediction/networks/base_network.py\", line 16, in predict\n",
      "    return self.model.predict(data)\n",
      "  File \"/home/drkappa/miniconda3/envs/py39/lib/python3.9/site-packages/keras/src/utils/traceback_utils.py\", line 122, in error_handler\n",
      "    raise e.with_traceback(filtered_tb) from None\n",
      "  File \"/home/drkappa/miniconda3/envs/py39/lib/python3.9/site-packages/keras/src/models/functional.py\", line 264, in _adjust_input_rank\n",
      "    raise ValueError(\n",
      "ValueError: Exception encountered when calling Sequential.call().\n",
      "\n",
      "\u001b[1mInvalid input shape for input Tensor(\"data:0\", shape=(8, 4), dtype=float32). Expected shape (None, 1, 4), but input has incompatible shape (8, 4)\u001b[0m\n",
      "\n",
      "Arguments received by Sequential.call():\n",
      "  • inputs=tf.Tensor(shape=(8, 4), dtype=float32)\n",
      "  • training=False\n",
      "  • mask=None\n",
      "\n"
     ]
    },
    {
     "name": "stderr",
     "output_type": "stream",
     "text": [
      "/home/drkappa/miniconda3/envs/py39/lib/python3.9/site-packages/keras/src/layers/core/input_layer.py:26: UserWarning: Argument `input_shape` is deprecated. Use `shape` instead.\n",
      "  warnings.warn(\n",
      "36it [09:06, 17.06s/it]"
     ]
    },
    {
     "name": "stdout",
     "output_type": "stream",
     "text": [
      "Traceback (most recent call last):\n",
      "  File \"/home/drkappa/miniconda3/envs/py39/lib/python3.9/site-packages/cloudpredictionframework/utils/experiment.py\", line 98, in run_batch_experiment\n",
      "    result = run_experiment(df, LSTM2Layer(input_shape=(1, 4)), **kwargs)\n",
      "  File \"/home/drkappa/miniconda3/envs/py39/lib/python3.9/site-packages/cloudpredictionframework/utils/experiment.py\", line 34, in run_experiment\n",
      "    y_pred = sc.inverse_transform(network.predict(test))\n",
      "  File \"/home/drkappa/miniconda3/envs/py39/lib/python3.9/site-packages/cloudpredictionframework/usage_prediction/networks/base_network.py\", line 16, in predict\n",
      "    return self.model.predict(data)\n",
      "  File \"/home/drkappa/miniconda3/envs/py39/lib/python3.9/site-packages/keras/src/utils/traceback_utils.py\", line 122, in error_handler\n",
      "    raise e.with_traceback(filtered_tb) from None\n",
      "  File \"/home/drkappa/miniconda3/envs/py39/lib/python3.9/site-packages/keras/src/models/functional.py\", line 264, in _adjust_input_rank\n",
      "    raise ValueError(\n",
      "ValueError: Exception encountered when calling Sequential.call().\n",
      "\n",
      "\u001b[1mInvalid input shape for input Tensor(\"data:0\", shape=(23, 4), dtype=float32). Expected shape (None, 1, 4), but input has incompatible shape (23, 4)\u001b[0m\n",
      "\n",
      "Arguments received by Sequential.call():\n",
      "  • inputs=tf.Tensor(shape=(23, 4), dtype=float32)\n",
      "  • training=False\n",
      "  • mask=None\n",
      "\n"
     ]
    },
    {
     "name": "stderr",
     "output_type": "stream",
     "text": [
      "/home/drkappa/miniconda3/envs/py39/lib/python3.9/site-packages/keras/src/layers/core/input_layer.py:26: UserWarning: Argument `input_shape` is deprecated. Use `shape` instead.\n",
      "  warnings.warn(\n",
      "37it [09:23, 17.13s/it]"
     ]
    },
    {
     "name": "stdout",
     "output_type": "stream",
     "text": [
      "Traceback (most recent call last):\n",
      "  File \"/home/drkappa/miniconda3/envs/py39/lib/python3.9/site-packages/cloudpredictionframework/utils/experiment.py\", line 98, in run_batch_experiment\n",
      "    result = run_experiment(df, LSTM2Layer(input_shape=(1, 4)), **kwargs)\n",
      "  File \"/home/drkappa/miniconda3/envs/py39/lib/python3.9/site-packages/cloudpredictionframework/utils/experiment.py\", line 34, in run_experiment\n",
      "    y_pred = sc.inverse_transform(network.predict(test))\n",
      "  File \"/home/drkappa/miniconda3/envs/py39/lib/python3.9/site-packages/cloudpredictionframework/usage_prediction/networks/base_network.py\", line 16, in predict\n",
      "    return self.model.predict(data)\n",
      "  File \"/home/drkappa/miniconda3/envs/py39/lib/python3.9/site-packages/keras/src/utils/traceback_utils.py\", line 122, in error_handler\n",
      "    raise e.with_traceback(filtered_tb) from None\n",
      "  File \"/home/drkappa/miniconda3/envs/py39/lib/python3.9/site-packages/keras/src/models/functional.py\", line 264, in _adjust_input_rank\n",
      "    raise ValueError(\n",
      "ValueError: Exception encountered when calling Sequential.call().\n",
      "\n",
      "\u001b[1mInvalid input shape for input Tensor(\"data:0\", shape=(5, 4), dtype=float32). Expected shape (None, 1, 4), but input has incompatible shape (5, 4)\u001b[0m\n",
      "\n",
      "Arguments received by Sequential.call():\n",
      "  • inputs=tf.Tensor(shape=(5, 4), dtype=float32)\n",
      "  • training=False\n",
      "  • mask=None\n",
      "\n"
     ]
    },
    {
     "name": "stderr",
     "output_type": "stream",
     "text": [
      "/home/drkappa/miniconda3/envs/py39/lib/python3.9/site-packages/keras/src/layers/core/input_layer.py:26: UserWarning: Argument `input_shape` is deprecated. Use `shape` instead.\n",
      "  warnings.warn(\n",
      "38it [09:37, 16.30s/it]"
     ]
    },
    {
     "name": "stdout",
     "output_type": "stream",
     "text": [
      "Traceback (most recent call last):\n",
      "  File \"/home/drkappa/miniconda3/envs/py39/lib/python3.9/site-packages/cloudpredictionframework/utils/experiment.py\", line 98, in run_batch_experiment\n",
      "    result = run_experiment(df, LSTM2Layer(input_shape=(1, 4)), **kwargs)\n",
      "  File \"/home/drkappa/miniconda3/envs/py39/lib/python3.9/site-packages/cloudpredictionframework/utils/experiment.py\", line 34, in run_experiment\n",
      "    y_pred = sc.inverse_transform(network.predict(test))\n",
      "  File \"/home/drkappa/miniconda3/envs/py39/lib/python3.9/site-packages/cloudpredictionframework/usage_prediction/networks/base_network.py\", line 16, in predict\n",
      "    return self.model.predict(data)\n",
      "  File \"/home/drkappa/miniconda3/envs/py39/lib/python3.9/site-packages/keras/src/utils/traceback_utils.py\", line 122, in error_handler\n",
      "    raise e.with_traceback(filtered_tb) from None\n",
      "  File \"/home/drkappa/miniconda3/envs/py39/lib/python3.9/site-packages/keras/src/models/functional.py\", line 264, in _adjust_input_rank\n",
      "    raise ValueError(\n",
      "ValueError: Exception encountered when calling Sequential.call().\n",
      "\n",
      "\u001b[1mInvalid input shape for input Tensor(\"data:0\", shape=(8, 4), dtype=float32). Expected shape (None, 1, 4), but input has incompatible shape (8, 4)\u001b[0m\n",
      "\n",
      "Arguments received by Sequential.call():\n",
      "  • inputs=tf.Tensor(shape=(8, 4), dtype=float32)\n",
      "  • training=False\n",
      "  • mask=None\n",
      "\n"
     ]
    },
    {
     "name": "stderr",
     "output_type": "stream",
     "text": [
      "/home/drkappa/miniconda3/envs/py39/lib/python3.9/site-packages/keras/src/layers/core/input_layer.py:26: UserWarning: Argument `input_shape` is deprecated. Use `shape` instead.\n",
      "  warnings.warn(\n",
      "39it [09:53, 16.11s/it]"
     ]
    },
    {
     "name": "stdout",
     "output_type": "stream",
     "text": [
      "Traceback (most recent call last):\n",
      "  File \"/home/drkappa/miniconda3/envs/py39/lib/python3.9/site-packages/cloudpredictionframework/utils/experiment.py\", line 98, in run_batch_experiment\n",
      "    result = run_experiment(df, LSTM2Layer(input_shape=(1, 4)), **kwargs)\n",
      "  File \"/home/drkappa/miniconda3/envs/py39/lib/python3.9/site-packages/cloudpredictionframework/utils/experiment.py\", line 34, in run_experiment\n",
      "    y_pred = sc.inverse_transform(network.predict(test))\n",
      "  File \"/home/drkappa/miniconda3/envs/py39/lib/python3.9/site-packages/cloudpredictionframework/usage_prediction/networks/base_network.py\", line 16, in predict\n",
      "    return self.model.predict(data)\n",
      "  File \"/home/drkappa/miniconda3/envs/py39/lib/python3.9/site-packages/keras/src/utils/traceback_utils.py\", line 122, in error_handler\n",
      "    raise e.with_traceback(filtered_tb) from None\n",
      "  File \"/home/drkappa/miniconda3/envs/py39/lib/python3.9/site-packages/keras/src/models/functional.py\", line 264, in _adjust_input_rank\n",
      "    raise ValueError(\n",
      "ValueError: Exception encountered when calling Sequential.call().\n",
      "\n",
      "\u001b[1mInvalid input shape for input Tensor(\"data:0\", shape=(23, 4), dtype=float32). Expected shape (None, 1, 4), but input has incompatible shape (23, 4)\u001b[0m\n",
      "\n",
      "Arguments received by Sequential.call():\n",
      "  • inputs=tf.Tensor(shape=(23, 4), dtype=float32)\n",
      "  • training=False\n",
      "  • mask=None\n",
      "\n"
     ]
    },
    {
     "name": "stderr",
     "output_type": "stream",
     "text": [
      "/home/drkappa/miniconda3/envs/py39/lib/python3.9/site-packages/keras/src/layers/core/input_layer.py:26: UserWarning: Argument `input_shape` is deprecated. Use `shape` instead.\n",
      "  warnings.warn(\n",
      "40it [10:07, 15.55s/it]"
     ]
    },
    {
     "name": "stdout",
     "output_type": "stream",
     "text": [
      "Traceback (most recent call last):\n",
      "  File \"/home/drkappa/miniconda3/envs/py39/lib/python3.9/site-packages/cloudpredictionframework/utils/experiment.py\", line 98, in run_batch_experiment\n",
      "    result = run_experiment(df, LSTM2Layer(input_shape=(1, 4)), **kwargs)\n",
      "  File \"/home/drkappa/miniconda3/envs/py39/lib/python3.9/site-packages/cloudpredictionframework/utils/experiment.py\", line 34, in run_experiment\n",
      "    y_pred = sc.inverse_transform(network.predict(test))\n",
      "  File \"/home/drkappa/miniconda3/envs/py39/lib/python3.9/site-packages/cloudpredictionframework/usage_prediction/networks/base_network.py\", line 16, in predict\n",
      "    return self.model.predict(data)\n",
      "  File \"/home/drkappa/miniconda3/envs/py39/lib/python3.9/site-packages/keras/src/utils/traceback_utils.py\", line 122, in error_handler\n",
      "    raise e.with_traceback(filtered_tb) from None\n",
      "  File \"/home/drkappa/miniconda3/envs/py39/lib/python3.9/site-packages/keras/src/models/functional.py\", line 264, in _adjust_input_rank\n",
      "    raise ValueError(\n",
      "ValueError: Exception encountered when calling Sequential.call().\n",
      "\n",
      "\u001b[1mInvalid input shape for input Tensor(\"data:0\", shape=(23, 4), dtype=float32). Expected shape (None, 1, 4), but input has incompatible shape (23, 4)\u001b[0m\n",
      "\n",
      "Arguments received by Sequential.call():\n",
      "  • inputs=tf.Tensor(shape=(23, 4), dtype=float32)\n",
      "  • training=False\n",
      "  • mask=None\n",
      "\n"
     ]
    },
    {
     "name": "stderr",
     "output_type": "stream",
     "text": [
      "/home/drkappa/miniconda3/envs/py39/lib/python3.9/site-packages/keras/src/layers/core/input_layer.py:26: UserWarning: Argument `input_shape` is deprecated. Use `shape` instead.\n",
      "  warnings.warn(\n",
      "41it [10:22, 15.24s/it]"
     ]
    },
    {
     "name": "stdout",
     "output_type": "stream",
     "text": [
      "Traceback (most recent call last):\n",
      "  File \"/home/drkappa/miniconda3/envs/py39/lib/python3.9/site-packages/cloudpredictionframework/utils/experiment.py\", line 98, in run_batch_experiment\n",
      "    result = run_experiment(df, LSTM2Layer(input_shape=(1, 4)), **kwargs)\n",
      "  File \"/home/drkappa/miniconda3/envs/py39/lib/python3.9/site-packages/cloudpredictionframework/utils/experiment.py\", line 34, in run_experiment\n",
      "    y_pred = sc.inverse_transform(network.predict(test))\n",
      "  File \"/home/drkappa/miniconda3/envs/py39/lib/python3.9/site-packages/cloudpredictionframework/usage_prediction/networks/base_network.py\", line 16, in predict\n",
      "    return self.model.predict(data)\n",
      "  File \"/home/drkappa/miniconda3/envs/py39/lib/python3.9/site-packages/keras/src/utils/traceback_utils.py\", line 122, in error_handler\n",
      "    raise e.with_traceback(filtered_tb) from None\n",
      "  File \"/home/drkappa/miniconda3/envs/py39/lib/python3.9/site-packages/keras/src/models/functional.py\", line 264, in _adjust_input_rank\n",
      "    raise ValueError(\n",
      "ValueError: Exception encountered when calling Sequential.call().\n",
      "\n",
      "\u001b[1mInvalid input shape for input Tensor(\"data:0\", shape=(5, 4), dtype=float32). Expected shape (None, 1, 4), but input has incompatible shape (5, 4)\u001b[0m\n",
      "\n",
      "Arguments received by Sequential.call():\n",
      "  • inputs=tf.Tensor(shape=(5, 4), dtype=float32)\n",
      "  • training=False\n",
      "  • mask=None\n",
      "\n"
     ]
    },
    {
     "name": "stderr",
     "output_type": "stream",
     "text": [
      "/home/drkappa/miniconda3/envs/py39/lib/python3.9/site-packages/keras/src/layers/core/input_layer.py:26: UserWarning: Argument `input_shape` is deprecated. Use `shape` instead.\n",
      "  warnings.warn(\n",
      "42it [10:38, 15.49s/it]"
     ]
    },
    {
     "name": "stdout",
     "output_type": "stream",
     "text": [
      "Traceback (most recent call last):\n",
      "  File \"/home/drkappa/miniconda3/envs/py39/lib/python3.9/site-packages/cloudpredictionframework/utils/experiment.py\", line 98, in run_batch_experiment\n",
      "    result = run_experiment(df, LSTM2Layer(input_shape=(1, 4)), **kwargs)\n",
      "  File \"/home/drkappa/miniconda3/envs/py39/lib/python3.9/site-packages/cloudpredictionframework/utils/experiment.py\", line 34, in run_experiment\n",
      "    y_pred = sc.inverse_transform(network.predict(test))\n",
      "  File \"/home/drkappa/miniconda3/envs/py39/lib/python3.9/site-packages/cloudpredictionframework/usage_prediction/networks/base_network.py\", line 16, in predict\n",
      "    return self.model.predict(data)\n",
      "  File \"/home/drkappa/miniconda3/envs/py39/lib/python3.9/site-packages/keras/src/utils/traceback_utils.py\", line 122, in error_handler\n",
      "    raise e.with_traceback(filtered_tb) from None\n",
      "  File \"/home/drkappa/miniconda3/envs/py39/lib/python3.9/site-packages/keras/src/models/functional.py\", line 264, in _adjust_input_rank\n",
      "    raise ValueError(\n",
      "ValueError: Exception encountered when calling Sequential.call().\n",
      "\n",
      "\u001b[1mInvalid input shape for input Tensor(\"data:0\", shape=(23, 4), dtype=float32). Expected shape (None, 1, 4), but input has incompatible shape (23, 4)\u001b[0m\n",
      "\n",
      "Arguments received by Sequential.call():\n",
      "  • inputs=tf.Tensor(shape=(23, 4), dtype=float32)\n",
      "  • training=False\n",
      "  • mask=None\n",
      "\n"
     ]
    },
    {
     "name": "stderr",
     "output_type": "stream",
     "text": [
      "/home/drkappa/miniconda3/envs/py39/lib/python3.9/site-packages/keras/src/layers/core/input_layer.py:26: UserWarning: Argument `input_shape` is deprecated. Use `shape` instead.\n",
      "  warnings.warn(\n",
      "43it [10:54, 15.72s/it]"
     ]
    },
    {
     "name": "stdout",
     "output_type": "stream",
     "text": [
      "Traceback (most recent call last):\n",
      "  File \"/home/drkappa/miniconda3/envs/py39/lib/python3.9/site-packages/cloudpredictionframework/utils/experiment.py\", line 98, in run_batch_experiment\n",
      "    result = run_experiment(df, LSTM2Layer(input_shape=(1, 4)), **kwargs)\n",
      "  File \"/home/drkappa/miniconda3/envs/py39/lib/python3.9/site-packages/cloudpredictionframework/utils/experiment.py\", line 34, in run_experiment\n",
      "    y_pred = sc.inverse_transform(network.predict(test))\n",
      "  File \"/home/drkappa/miniconda3/envs/py39/lib/python3.9/site-packages/cloudpredictionframework/usage_prediction/networks/base_network.py\", line 16, in predict\n",
      "    return self.model.predict(data)\n",
      "  File \"/home/drkappa/miniconda3/envs/py39/lib/python3.9/site-packages/keras/src/utils/traceback_utils.py\", line 122, in error_handler\n",
      "    raise e.with_traceback(filtered_tb) from None\n",
      "  File \"/home/drkappa/miniconda3/envs/py39/lib/python3.9/site-packages/keras/src/models/functional.py\", line 264, in _adjust_input_rank\n",
      "    raise ValueError(\n",
      "ValueError: Exception encountered when calling Sequential.call().\n",
      "\n",
      "\u001b[1mInvalid input shape for input Tensor(\"data:0\", shape=(23, 4), dtype=float32). Expected shape (None, 1, 4), but input has incompatible shape (23, 4)\u001b[0m\n",
      "\n",
      "Arguments received by Sequential.call():\n",
      "  • inputs=tf.Tensor(shape=(23, 4), dtype=float32)\n",
      "  • training=False\n",
      "  • mask=None\n",
      "\n"
     ]
    },
    {
     "name": "stderr",
     "output_type": "stream",
     "text": [
      "/home/drkappa/miniconda3/envs/py39/lib/python3.9/site-packages/keras/src/layers/core/input_layer.py:26: UserWarning: Argument `input_shape` is deprecated. Use `shape` instead.\n",
      "  warnings.warn(\n",
      "44it [11:13, 16.63s/it]"
     ]
    },
    {
     "name": "stdout",
     "output_type": "stream",
     "text": [
      "Traceback (most recent call last):\n",
      "  File \"/home/drkappa/miniconda3/envs/py39/lib/python3.9/site-packages/cloudpredictionframework/utils/experiment.py\", line 98, in run_batch_experiment\n",
      "    result = run_experiment(df, LSTM2Layer(input_shape=(1, 4)), **kwargs)\n",
      "  File \"/home/drkappa/miniconda3/envs/py39/lib/python3.9/site-packages/cloudpredictionframework/utils/experiment.py\", line 34, in run_experiment\n",
      "    y_pred = sc.inverse_transform(network.predict(test))\n",
      "  File \"/home/drkappa/miniconda3/envs/py39/lib/python3.9/site-packages/cloudpredictionframework/usage_prediction/networks/base_network.py\", line 16, in predict\n",
      "    return self.model.predict(data)\n",
      "  File \"/home/drkappa/miniconda3/envs/py39/lib/python3.9/site-packages/keras/src/utils/traceback_utils.py\", line 122, in error_handler\n",
      "    raise e.with_traceback(filtered_tb) from None\n",
      "  File \"/home/drkappa/miniconda3/envs/py39/lib/python3.9/site-packages/keras/src/models/functional.py\", line 264, in _adjust_input_rank\n",
      "    raise ValueError(\n",
      "ValueError: Exception encountered when calling Sequential.call().\n",
      "\n",
      "\u001b[1mInvalid input shape for input Tensor(\"data:0\", shape=(23, 4), dtype=float32). Expected shape (None, 1, 4), but input has incompatible shape (23, 4)\u001b[0m\n",
      "\n",
      "Arguments received by Sequential.call():\n",
      "  • inputs=tf.Tensor(shape=(23, 4), dtype=float32)\n",
      "  • training=False\n",
      "  • mask=None\n",
      "\n"
     ]
    },
    {
     "name": "stderr",
     "output_type": "stream",
     "text": [
      "/home/drkappa/miniconda3/envs/py39/lib/python3.9/site-packages/keras/src/layers/core/input_layer.py:26: UserWarning: Argument `input_shape` is deprecated. Use `shape` instead.\n",
      "  warnings.warn(\n",
      "45it [11:32, 17.50s/it]"
     ]
    },
    {
     "name": "stdout",
     "output_type": "stream",
     "text": [
      "Traceback (most recent call last):\n",
      "  File \"/home/drkappa/miniconda3/envs/py39/lib/python3.9/site-packages/cloudpredictionframework/utils/experiment.py\", line 98, in run_batch_experiment\n",
      "    result = run_experiment(df, LSTM2Layer(input_shape=(1, 4)), **kwargs)\n",
      "  File \"/home/drkappa/miniconda3/envs/py39/lib/python3.9/site-packages/cloudpredictionframework/utils/experiment.py\", line 34, in run_experiment\n",
      "    y_pred = sc.inverse_transform(network.predict(test))\n",
      "  File \"/home/drkappa/miniconda3/envs/py39/lib/python3.9/site-packages/cloudpredictionframework/usage_prediction/networks/base_network.py\", line 16, in predict\n",
      "    return self.model.predict(data)\n",
      "  File \"/home/drkappa/miniconda3/envs/py39/lib/python3.9/site-packages/keras/src/utils/traceback_utils.py\", line 122, in error_handler\n",
      "    raise e.with_traceback(filtered_tb) from None\n",
      "  File \"/home/drkappa/miniconda3/envs/py39/lib/python3.9/site-packages/keras/src/models/functional.py\", line 264, in _adjust_input_rank\n",
      "    raise ValueError(\n",
      "ValueError: Exception encountered when calling Sequential.call().\n",
      "\n",
      "\u001b[1mInvalid input shape for input Tensor(\"data:0\", shape=(23, 4), dtype=float32). Expected shape (None, 1, 4), but input has incompatible shape (23, 4)\u001b[0m\n",
      "\n",
      "Arguments received by Sequential.call():\n",
      "  • inputs=tf.Tensor(shape=(23, 4), dtype=float32)\n",
      "  • training=False\n",
      "  • mask=None\n",
      "\n"
     ]
    },
    {
     "name": "stderr",
     "output_type": "stream",
     "text": [
      "/home/drkappa/miniconda3/envs/py39/lib/python3.9/site-packages/keras/src/layers/core/input_layer.py:26: UserWarning: Argument `input_shape` is deprecated. Use `shape` instead.\n",
      "  warnings.warn(\n",
      "46it [11:48, 17.02s/it]"
     ]
    },
    {
     "name": "stdout",
     "output_type": "stream",
     "text": [
      "Traceback (most recent call last):\n",
      "  File \"/home/drkappa/miniconda3/envs/py39/lib/python3.9/site-packages/cloudpredictionframework/utils/experiment.py\", line 98, in run_batch_experiment\n",
      "    result = run_experiment(df, LSTM2Layer(input_shape=(1, 4)), **kwargs)\n",
      "  File \"/home/drkappa/miniconda3/envs/py39/lib/python3.9/site-packages/cloudpredictionframework/utils/experiment.py\", line 34, in run_experiment\n",
      "    y_pred = sc.inverse_transform(network.predict(test))\n",
      "  File \"/home/drkappa/miniconda3/envs/py39/lib/python3.9/site-packages/cloudpredictionframework/usage_prediction/networks/base_network.py\", line 16, in predict\n",
      "    return self.model.predict(data)\n",
      "  File \"/home/drkappa/miniconda3/envs/py39/lib/python3.9/site-packages/keras/src/utils/traceback_utils.py\", line 122, in error_handler\n",
      "    raise e.with_traceback(filtered_tb) from None\n",
      "  File \"/home/drkappa/miniconda3/envs/py39/lib/python3.9/site-packages/keras/src/models/functional.py\", line 264, in _adjust_input_rank\n",
      "    raise ValueError(\n",
      "ValueError: Exception encountered when calling Sequential.call().\n",
      "\n",
      "\u001b[1mInvalid input shape for input Tensor(\"data:0\", shape=(8, 4), dtype=float32). Expected shape (None, 1, 4), but input has incompatible shape (8, 4)\u001b[0m\n",
      "\n",
      "Arguments received by Sequential.call():\n",
      "  • inputs=tf.Tensor(shape=(8, 4), dtype=float32)\n",
      "  • training=False\n",
      "  • mask=None\n",
      "\n"
     ]
    },
    {
     "name": "stderr",
     "output_type": "stream",
     "text": [
      "/home/drkappa/miniconda3/envs/py39/lib/python3.9/site-packages/keras/src/layers/core/input_layer.py:26: UserWarning: Argument `input_shape` is deprecated. Use `shape` instead.\n",
      "  warnings.warn(\n",
      "47it [12:02, 15.95s/it]"
     ]
    },
    {
     "name": "stdout",
     "output_type": "stream",
     "text": [
      "Traceback (most recent call last):\n",
      "  File \"/home/drkappa/miniconda3/envs/py39/lib/python3.9/site-packages/cloudpredictionframework/utils/experiment.py\", line 98, in run_batch_experiment\n",
      "    result = run_experiment(df, LSTM2Layer(input_shape=(1, 4)), **kwargs)\n",
      "  File \"/home/drkappa/miniconda3/envs/py39/lib/python3.9/site-packages/cloudpredictionframework/utils/experiment.py\", line 34, in run_experiment\n",
      "    y_pred = sc.inverse_transform(network.predict(test))\n",
      "  File \"/home/drkappa/miniconda3/envs/py39/lib/python3.9/site-packages/cloudpredictionframework/usage_prediction/networks/base_network.py\", line 16, in predict\n",
      "    return self.model.predict(data)\n",
      "  File \"/home/drkappa/miniconda3/envs/py39/lib/python3.9/site-packages/keras/src/utils/traceback_utils.py\", line 122, in error_handler\n",
      "    raise e.with_traceback(filtered_tb) from None\n",
      "  File \"/home/drkappa/miniconda3/envs/py39/lib/python3.9/site-packages/keras/src/models/functional.py\", line 264, in _adjust_input_rank\n",
      "    raise ValueError(\n",
      "ValueError: Exception encountered when calling Sequential.call().\n",
      "\n",
      "\u001b[1mInvalid input shape for input Tensor(\"data:0\", shape=(16, 4), dtype=float32). Expected shape (None, 1, 4), but input has incompatible shape (16, 4)\u001b[0m\n",
      "\n",
      "Arguments received by Sequential.call():\n",
      "  • inputs=tf.Tensor(shape=(16, 4), dtype=float32)\n",
      "  • training=False\n",
      "  • mask=None\n",
      "\n"
     ]
    },
    {
     "name": "stderr",
     "output_type": "stream",
     "text": [
      "/home/drkappa/miniconda3/envs/py39/lib/python3.9/site-packages/keras/src/layers/core/input_layer.py:26: UserWarning: Argument `input_shape` is deprecated. Use `shape` instead.\n",
      "  warnings.warn(\n",
      "48it [12:13, 14.68s/it]"
     ]
    },
    {
     "name": "stdout",
     "output_type": "stream",
     "text": [
      "Traceback (most recent call last):\n",
      "  File \"/home/drkappa/miniconda3/envs/py39/lib/python3.9/site-packages/cloudpredictionframework/utils/experiment.py\", line 98, in run_batch_experiment\n",
      "    result = run_experiment(df, LSTM2Layer(input_shape=(1, 4)), **kwargs)\n",
      "  File \"/home/drkappa/miniconda3/envs/py39/lib/python3.9/site-packages/cloudpredictionframework/utils/experiment.py\", line 34, in run_experiment\n",
      "    y_pred = sc.inverse_transform(network.predict(test))\n",
      "  File \"/home/drkappa/miniconda3/envs/py39/lib/python3.9/site-packages/cloudpredictionframework/usage_prediction/networks/base_network.py\", line 16, in predict\n",
      "    return self.model.predict(data)\n",
      "  File \"/home/drkappa/miniconda3/envs/py39/lib/python3.9/site-packages/keras/src/utils/traceback_utils.py\", line 122, in error_handler\n",
      "    raise e.with_traceback(filtered_tb) from None\n",
      "  File \"/home/drkappa/miniconda3/envs/py39/lib/python3.9/site-packages/keras/src/models/functional.py\", line 264, in _adjust_input_rank\n",
      "    raise ValueError(\n",
      "ValueError: Exception encountered when calling Sequential.call().\n",
      "\n",
      "\u001b[1mInvalid input shape for input Tensor(\"data:0\", shape=(22, 4), dtype=float32). Expected shape (None, 1, 4), but input has incompatible shape (22, 4)\u001b[0m\n",
      "\n",
      "Arguments received by Sequential.call():\n",
      "  • inputs=tf.Tensor(shape=(22, 4), dtype=float32)\n",
      "  • training=False\n",
      "  • mask=None\n",
      "\n"
     ]
    },
    {
     "name": "stderr",
     "output_type": "stream",
     "text": [
      "/home/drkappa/miniconda3/envs/py39/lib/python3.9/site-packages/keras/src/layers/core/input_layer.py:26: UserWarning: Argument `input_shape` is deprecated. Use `shape` instead.\n",
      "  warnings.warn(\n",
      "49it [12:27, 14.21s/it]"
     ]
    },
    {
     "name": "stdout",
     "output_type": "stream",
     "text": [
      "Traceback (most recent call last):\n",
      "  File \"/home/drkappa/miniconda3/envs/py39/lib/python3.9/site-packages/cloudpredictionframework/utils/experiment.py\", line 98, in run_batch_experiment\n",
      "    result = run_experiment(df, LSTM2Layer(input_shape=(1, 4)), **kwargs)\n",
      "  File \"/home/drkappa/miniconda3/envs/py39/lib/python3.9/site-packages/cloudpredictionframework/utils/experiment.py\", line 34, in run_experiment\n",
      "    y_pred = sc.inverse_transform(network.predict(test))\n",
      "  File \"/home/drkappa/miniconda3/envs/py39/lib/python3.9/site-packages/cloudpredictionframework/usage_prediction/networks/base_network.py\", line 16, in predict\n",
      "    return self.model.predict(data)\n",
      "  File \"/home/drkappa/miniconda3/envs/py39/lib/python3.9/site-packages/keras/src/utils/traceback_utils.py\", line 122, in error_handler\n",
      "    raise e.with_traceback(filtered_tb) from None\n",
      "  File \"/home/drkappa/miniconda3/envs/py39/lib/python3.9/site-packages/keras/src/models/functional.py\", line 264, in _adjust_input_rank\n",
      "    raise ValueError(\n",
      "ValueError: Exception encountered when calling Sequential.call().\n",
      "\n",
      "\u001b[1mInvalid input shape for input Tensor(\"data:0\", shape=(2, 4), dtype=float32). Expected shape (None, 1, 4), but input has incompatible shape (2, 4)\u001b[0m\n",
      "\n",
      "Arguments received by Sequential.call():\n",
      "  • inputs=tf.Tensor(shape=(2, 4), dtype=float32)\n",
      "  • training=False\n",
      "  • mask=None\n",
      "\n"
     ]
    },
    {
     "name": "stderr",
     "output_type": "stream",
     "text": [
      "/home/drkappa/miniconda3/envs/py39/lib/python3.9/site-packages/keras/src/layers/core/input_layer.py:26: UserWarning: Argument `input_shape` is deprecated. Use `shape` instead.\n",
      "  warnings.warn(\n",
      "50it [12:40, 13.88s/it]"
     ]
    },
    {
     "name": "stdout",
     "output_type": "stream",
     "text": [
      "Traceback (most recent call last):\n",
      "  File \"/home/drkappa/miniconda3/envs/py39/lib/python3.9/site-packages/cloudpredictionframework/utils/experiment.py\", line 98, in run_batch_experiment\n",
      "    result = run_experiment(df, LSTM2Layer(input_shape=(1, 4)), **kwargs)\n",
      "  File \"/home/drkappa/miniconda3/envs/py39/lib/python3.9/site-packages/cloudpredictionframework/utils/experiment.py\", line 34, in run_experiment\n",
      "    y_pred = sc.inverse_transform(network.predict(test))\n",
      "  File \"/home/drkappa/miniconda3/envs/py39/lib/python3.9/site-packages/cloudpredictionframework/usage_prediction/networks/base_network.py\", line 16, in predict\n",
      "    return self.model.predict(data)\n",
      "  File \"/home/drkappa/miniconda3/envs/py39/lib/python3.9/site-packages/keras/src/utils/traceback_utils.py\", line 122, in error_handler\n",
      "    raise e.with_traceback(filtered_tb) from None\n",
      "  File \"/home/drkappa/miniconda3/envs/py39/lib/python3.9/site-packages/keras/src/models/functional.py\", line 264, in _adjust_input_rank\n",
      "    raise ValueError(\n",
      "ValueError: Exception encountered when calling Sequential.call().\n",
      "\n",
      "\u001b[1mInvalid input shape for input Tensor(\"data:0\", shape=(16, 4), dtype=float32). Expected shape (None, 1, 4), but input has incompatible shape (16, 4)\u001b[0m\n",
      "\n",
      "Arguments received by Sequential.call():\n",
      "  • inputs=tf.Tensor(shape=(16, 4), dtype=float32)\n",
      "  • training=False\n",
      "  • mask=None\n",
      "\n"
     ]
    },
    {
     "name": "stderr",
     "output_type": "stream",
     "text": [
      "/home/drkappa/miniconda3/envs/py39/lib/python3.9/site-packages/keras/src/layers/core/input_layer.py:26: UserWarning: Argument `input_shape` is deprecated. Use `shape` instead.\n",
      "  warnings.warn(\n",
      "51it [12:52, 13.54s/it]"
     ]
    },
    {
     "name": "stdout",
     "output_type": "stream",
     "text": [
      "Traceback (most recent call last):\n",
      "  File \"/home/drkappa/miniconda3/envs/py39/lib/python3.9/site-packages/cloudpredictionframework/utils/experiment.py\", line 98, in run_batch_experiment\n",
      "    result = run_experiment(df, LSTM2Layer(input_shape=(1, 4)), **kwargs)\n",
      "  File \"/home/drkappa/miniconda3/envs/py39/lib/python3.9/site-packages/cloudpredictionframework/utils/experiment.py\", line 34, in run_experiment\n",
      "    y_pred = sc.inverse_transform(network.predict(test))\n",
      "  File \"/home/drkappa/miniconda3/envs/py39/lib/python3.9/site-packages/cloudpredictionframework/usage_prediction/networks/base_network.py\", line 16, in predict\n",
      "    return self.model.predict(data)\n",
      "  File \"/home/drkappa/miniconda3/envs/py39/lib/python3.9/site-packages/keras/src/utils/traceback_utils.py\", line 122, in error_handler\n",
      "    raise e.with_traceback(filtered_tb) from None\n",
      "  File \"/home/drkappa/miniconda3/envs/py39/lib/python3.9/site-packages/keras/src/models/functional.py\", line 264, in _adjust_input_rank\n",
      "    raise ValueError(\n",
      "ValueError: Exception encountered when calling Sequential.call().\n",
      "\n",
      "\u001b[1mInvalid input shape for input Tensor(\"data:0\", shape=(23, 4), dtype=float32). Expected shape (None, 1, 4), but input has incompatible shape (23, 4)\u001b[0m\n",
      "\n",
      "Arguments received by Sequential.call():\n",
      "  • inputs=tf.Tensor(shape=(23, 4), dtype=float32)\n",
      "  • training=False\n",
      "  • mask=None\n",
      "\n"
     ]
    },
    {
     "name": "stderr",
     "output_type": "stream",
     "text": [
      "/home/drkappa/miniconda3/envs/py39/lib/python3.9/site-packages/keras/src/layers/core/input_layer.py:26: UserWarning: Argument `input_shape` is deprecated. Use `shape` instead.\n",
      "  warnings.warn(\n",
      "52it [13:05, 13.25s/it]"
     ]
    },
    {
     "name": "stdout",
     "output_type": "stream",
     "text": [
      "Traceback (most recent call last):\n",
      "  File \"/home/drkappa/miniconda3/envs/py39/lib/python3.9/site-packages/cloudpredictionframework/utils/experiment.py\", line 98, in run_batch_experiment\n",
      "    result = run_experiment(df, LSTM2Layer(input_shape=(1, 4)), **kwargs)\n",
      "  File \"/home/drkappa/miniconda3/envs/py39/lib/python3.9/site-packages/cloudpredictionframework/utils/experiment.py\", line 34, in run_experiment\n",
      "    y_pred = sc.inverse_transform(network.predict(test))\n",
      "  File \"/home/drkappa/miniconda3/envs/py39/lib/python3.9/site-packages/cloudpredictionframework/usage_prediction/networks/base_network.py\", line 16, in predict\n",
      "    return self.model.predict(data)\n",
      "  File \"/home/drkappa/miniconda3/envs/py39/lib/python3.9/site-packages/keras/src/utils/traceback_utils.py\", line 122, in error_handler\n",
      "    raise e.with_traceback(filtered_tb) from None\n",
      "  File \"/home/drkappa/miniconda3/envs/py39/lib/python3.9/site-packages/keras/src/models/functional.py\", line 264, in _adjust_input_rank\n",
      "    raise ValueError(\n",
      "ValueError: Exception encountered when calling Sequential.call().\n",
      "\n",
      "\u001b[1mInvalid input shape for input Tensor(\"data:0\", shape=(12, 4), dtype=float32). Expected shape (None, 1, 4), but input has incompatible shape (12, 4)\u001b[0m\n",
      "\n",
      "Arguments received by Sequential.call():\n",
      "  • inputs=tf.Tensor(shape=(12, 4), dtype=float32)\n",
      "  • training=False\n",
      "  • mask=None\n",
      "\n"
     ]
    },
    {
     "name": "stderr",
     "output_type": "stream",
     "text": [
      "/home/drkappa/miniconda3/envs/py39/lib/python3.9/site-packages/keras/src/layers/core/input_layer.py:26: UserWarning: Argument `input_shape` is deprecated. Use `shape` instead.\n",
      "  warnings.warn(\n",
      "53it [13:17, 12.85s/it]"
     ]
    },
    {
     "name": "stdout",
     "output_type": "stream",
     "text": [
      "Traceback (most recent call last):\n",
      "  File \"/home/drkappa/miniconda3/envs/py39/lib/python3.9/site-packages/cloudpredictionframework/utils/experiment.py\", line 98, in run_batch_experiment\n",
      "    result = run_experiment(df, LSTM2Layer(input_shape=(1, 4)), **kwargs)\n",
      "  File \"/home/drkappa/miniconda3/envs/py39/lib/python3.9/site-packages/cloudpredictionframework/utils/experiment.py\", line 34, in run_experiment\n",
      "    y_pred = sc.inverse_transform(network.predict(test))\n",
      "  File \"/home/drkappa/miniconda3/envs/py39/lib/python3.9/site-packages/cloudpredictionframework/usage_prediction/networks/base_network.py\", line 16, in predict\n",
      "    return self.model.predict(data)\n",
      "  File \"/home/drkappa/miniconda3/envs/py39/lib/python3.9/site-packages/keras/src/utils/traceback_utils.py\", line 122, in error_handler\n",
      "    raise e.with_traceback(filtered_tb) from None\n",
      "  File \"/home/drkappa/miniconda3/envs/py39/lib/python3.9/site-packages/keras/src/models/functional.py\", line 264, in _adjust_input_rank\n",
      "    raise ValueError(\n",
      "ValueError: Exception encountered when calling Sequential.call().\n",
      "\n",
      "\u001b[1mInvalid input shape for input Tensor(\"data:0\", shape=(8, 4), dtype=float32). Expected shape (None, 1, 4), but input has incompatible shape (8, 4)\u001b[0m\n",
      "\n",
      "Arguments received by Sequential.call():\n",
      "  • inputs=tf.Tensor(shape=(8, 4), dtype=float32)\n",
      "  • training=False\n",
      "  • mask=None\n",
      "\n"
     ]
    },
    {
     "name": "stderr",
     "output_type": "stream",
     "text": [
      "/home/drkappa/miniconda3/envs/py39/lib/python3.9/site-packages/keras/src/layers/core/input_layer.py:26: UserWarning: Argument `input_shape` is deprecated. Use `shape` instead.\n",
      "  warnings.warn(\n",
      "54it [13:30, 12.94s/it]"
     ]
    },
    {
     "name": "stdout",
     "output_type": "stream",
     "text": [
      "Traceback (most recent call last):\n",
      "  File \"/home/drkappa/miniconda3/envs/py39/lib/python3.9/site-packages/cloudpredictionframework/utils/experiment.py\", line 98, in run_batch_experiment\n",
      "    result = run_experiment(df, LSTM2Layer(input_shape=(1, 4)), **kwargs)\n",
      "  File \"/home/drkappa/miniconda3/envs/py39/lib/python3.9/site-packages/cloudpredictionframework/utils/experiment.py\", line 34, in run_experiment\n",
      "    y_pred = sc.inverse_transform(network.predict(test))\n",
      "  File \"/home/drkappa/miniconda3/envs/py39/lib/python3.9/site-packages/cloudpredictionframework/usage_prediction/networks/base_network.py\", line 16, in predict\n",
      "    return self.model.predict(data)\n",
      "  File \"/home/drkappa/miniconda3/envs/py39/lib/python3.9/site-packages/keras/src/utils/traceback_utils.py\", line 122, in error_handler\n",
      "    raise e.with_traceback(filtered_tb) from None\n",
      "  File \"/home/drkappa/miniconda3/envs/py39/lib/python3.9/site-packages/keras/src/models/functional.py\", line 264, in _adjust_input_rank\n",
      "    raise ValueError(\n",
      "ValueError: Exception encountered when calling Sequential.call().\n",
      "\n",
      "\u001b[1mInvalid input shape for input Tensor(\"data:0\", shape=(8, 4), dtype=float32). Expected shape (None, 1, 4), but input has incompatible shape (8, 4)\u001b[0m\n",
      "\n",
      "Arguments received by Sequential.call():\n",
      "  • inputs=tf.Tensor(shape=(8, 4), dtype=float32)\n",
      "  • training=False\n",
      "  • mask=None\n",
      "\n"
     ]
    },
    {
     "name": "stderr",
     "output_type": "stream",
     "text": [
      "/home/drkappa/miniconda3/envs/py39/lib/python3.9/site-packages/keras/src/layers/core/input_layer.py:26: UserWarning: Argument `input_shape` is deprecated. Use `shape` instead.\n",
      "  warnings.warn(\n",
      "55it [13:48, 14.39s/it]"
     ]
    },
    {
     "name": "stdout",
     "output_type": "stream",
     "text": [
      "Traceback (most recent call last):\n",
      "  File \"/home/drkappa/miniconda3/envs/py39/lib/python3.9/site-packages/cloudpredictionframework/utils/experiment.py\", line 98, in run_batch_experiment\n",
      "    result = run_experiment(df, LSTM2Layer(input_shape=(1, 4)), **kwargs)\n",
      "  File \"/home/drkappa/miniconda3/envs/py39/lib/python3.9/site-packages/cloudpredictionframework/utils/experiment.py\", line 34, in run_experiment\n",
      "    y_pred = sc.inverse_transform(network.predict(test))\n",
      "  File \"/home/drkappa/miniconda3/envs/py39/lib/python3.9/site-packages/cloudpredictionframework/usage_prediction/networks/base_network.py\", line 16, in predict\n",
      "    return self.model.predict(data)\n",
      "  File \"/home/drkappa/miniconda3/envs/py39/lib/python3.9/site-packages/keras/src/utils/traceback_utils.py\", line 122, in error_handler\n",
      "    raise e.with_traceback(filtered_tb) from None\n",
      "  File \"/home/drkappa/miniconda3/envs/py39/lib/python3.9/site-packages/keras/src/models/functional.py\", line 264, in _adjust_input_rank\n",
      "    raise ValueError(\n",
      "ValueError: Exception encountered when calling Sequential.call().\n",
      "\n",
      "\u001b[1mInvalid input shape for input Tensor(\"data:0\", shape=(23, 4), dtype=float32). Expected shape (None, 1, 4), but input has incompatible shape (23, 4)\u001b[0m\n",
      "\n",
      "Arguments received by Sequential.call():\n",
      "  • inputs=tf.Tensor(shape=(23, 4), dtype=float32)\n",
      "  • training=False\n",
      "  • mask=None\n",
      "\n"
     ]
    },
    {
     "name": "stderr",
     "output_type": "stream",
     "text": [
      "/home/drkappa/miniconda3/envs/py39/lib/python3.9/site-packages/keras/src/layers/core/input_layer.py:26: UserWarning: Argument `input_shape` is deprecated. Use `shape` instead.\n",
      "  warnings.warn(\n",
      "56it [14:04, 14.81s/it]"
     ]
    },
    {
     "name": "stdout",
     "output_type": "stream",
     "text": [
      "Traceback (most recent call last):\n",
      "  File \"/home/drkappa/miniconda3/envs/py39/lib/python3.9/site-packages/cloudpredictionframework/utils/experiment.py\", line 98, in run_batch_experiment\n",
      "    result = run_experiment(df, LSTM2Layer(input_shape=(1, 4)), **kwargs)\n",
      "  File \"/home/drkappa/miniconda3/envs/py39/lib/python3.9/site-packages/cloudpredictionframework/utils/experiment.py\", line 34, in run_experiment\n",
      "    y_pred = sc.inverse_transform(network.predict(test))\n",
      "  File \"/home/drkappa/miniconda3/envs/py39/lib/python3.9/site-packages/cloudpredictionframework/usage_prediction/networks/base_network.py\", line 16, in predict\n",
      "    return self.model.predict(data)\n",
      "  File \"/home/drkappa/miniconda3/envs/py39/lib/python3.9/site-packages/keras/src/utils/traceback_utils.py\", line 122, in error_handler\n",
      "    raise e.with_traceback(filtered_tb) from None\n",
      "  File \"/home/drkappa/miniconda3/envs/py39/lib/python3.9/site-packages/keras/src/models/functional.py\", line 264, in _adjust_input_rank\n",
      "    raise ValueError(\n",
      "ValueError: Exception encountered when calling Sequential.call().\n",
      "\n",
      "\u001b[1mInvalid input shape for input Tensor(\"data:0\", shape=(26, 4), dtype=float32). Expected shape (None, 1, 4), but input has incompatible shape (26, 4)\u001b[0m\n",
      "\n",
      "Arguments received by Sequential.call():\n",
      "  • inputs=tf.Tensor(shape=(26, 4), dtype=float32)\n",
      "  • training=False\n",
      "  • mask=None\n",
      "\n"
     ]
    },
    {
     "name": "stderr",
     "output_type": "stream",
     "text": [
      "/home/drkappa/miniconda3/envs/py39/lib/python3.9/site-packages/keras/src/layers/core/input_layer.py:26: UserWarning: Argument `input_shape` is deprecated. Use `shape` instead.\n",
      "  warnings.warn(\n",
      "57it [14:17, 14.30s/it]"
     ]
    },
    {
     "name": "stdout",
     "output_type": "stream",
     "text": [
      "Traceback (most recent call last):\n",
      "  File \"/home/drkappa/miniconda3/envs/py39/lib/python3.9/site-packages/cloudpredictionframework/utils/experiment.py\", line 98, in run_batch_experiment\n",
      "    result = run_experiment(df, LSTM2Layer(input_shape=(1, 4)), **kwargs)\n",
      "  File \"/home/drkappa/miniconda3/envs/py39/lib/python3.9/site-packages/cloudpredictionframework/utils/experiment.py\", line 34, in run_experiment\n",
      "    y_pred = sc.inverse_transform(network.predict(test))\n",
      "  File \"/home/drkappa/miniconda3/envs/py39/lib/python3.9/site-packages/cloudpredictionframework/usage_prediction/networks/base_network.py\", line 16, in predict\n",
      "    return self.model.predict(data)\n",
      "  File \"/home/drkappa/miniconda3/envs/py39/lib/python3.9/site-packages/keras/src/utils/traceback_utils.py\", line 122, in error_handler\n",
      "    raise e.with_traceback(filtered_tb) from None\n",
      "  File \"/home/drkappa/miniconda3/envs/py39/lib/python3.9/site-packages/keras/src/models/functional.py\", line 264, in _adjust_input_rank\n",
      "    raise ValueError(\n",
      "ValueError: Exception encountered when calling Sequential.call().\n",
      "\n",
      "\u001b[1mInvalid input shape for input Tensor(\"data:0\", shape=(13, 4), dtype=float32). Expected shape (None, 1, 4), but input has incompatible shape (13, 4)\u001b[0m\n",
      "\n",
      "Arguments received by Sequential.call():\n",
      "  • inputs=tf.Tensor(shape=(13, 4), dtype=float32)\n",
      "  • training=False\n",
      "  • mask=None\n",
      "\n"
     ]
    },
    {
     "name": "stderr",
     "output_type": "stream",
     "text": [
      "/home/drkappa/miniconda3/envs/py39/lib/python3.9/site-packages/keras/src/layers/core/input_layer.py:26: UserWarning: Argument `input_shape` is deprecated. Use `shape` instead.\n",
      "  warnings.warn(\n",
      "58it [14:30, 14.09s/it]"
     ]
    },
    {
     "name": "stdout",
     "output_type": "stream",
     "text": [
      "Traceback (most recent call last):\n",
      "  File \"/home/drkappa/miniconda3/envs/py39/lib/python3.9/site-packages/cloudpredictionframework/utils/experiment.py\", line 98, in run_batch_experiment\n",
      "    result = run_experiment(df, LSTM2Layer(input_shape=(1, 4)), **kwargs)\n",
      "  File \"/home/drkappa/miniconda3/envs/py39/lib/python3.9/site-packages/cloudpredictionframework/utils/experiment.py\", line 34, in run_experiment\n",
      "    y_pred = sc.inverse_transform(network.predict(test))\n",
      "  File \"/home/drkappa/miniconda3/envs/py39/lib/python3.9/site-packages/cloudpredictionframework/usage_prediction/networks/base_network.py\", line 16, in predict\n",
      "    return self.model.predict(data)\n",
      "  File \"/home/drkappa/miniconda3/envs/py39/lib/python3.9/site-packages/keras/src/utils/traceback_utils.py\", line 122, in error_handler\n",
      "    raise e.with_traceback(filtered_tb) from None\n",
      "  File \"/home/drkappa/miniconda3/envs/py39/lib/python3.9/site-packages/keras/src/models/functional.py\", line 264, in _adjust_input_rank\n",
      "    raise ValueError(\n",
      "ValueError: Exception encountered when calling Sequential.call().\n",
      "\n",
      "\u001b[1mInvalid input shape for input Tensor(\"data:0\", shape=(23, 4), dtype=float32). Expected shape (None, 1, 4), but input has incompatible shape (23, 4)\u001b[0m\n",
      "\n",
      "Arguments received by Sequential.call():\n",
      "  • inputs=tf.Tensor(shape=(23, 4), dtype=float32)\n",
      "  • training=False\n",
      "  • mask=None\n",
      "\n"
     ]
    },
    {
     "name": "stderr",
     "output_type": "stream",
     "text": [
      "/home/drkappa/miniconda3/envs/py39/lib/python3.9/site-packages/keras/src/layers/core/input_layer.py:26: UserWarning: Argument `input_shape` is deprecated. Use `shape` instead.\n",
      "  warnings.warn(\n",
      "59it [14:42, 13.20s/it]"
     ]
    },
    {
     "name": "stdout",
     "output_type": "stream",
     "text": [
      "Traceback (most recent call last):\n",
      "  File \"/home/drkappa/miniconda3/envs/py39/lib/python3.9/site-packages/cloudpredictionframework/utils/experiment.py\", line 98, in run_batch_experiment\n",
      "    result = run_experiment(df, LSTM2Layer(input_shape=(1, 4)), **kwargs)\n",
      "  File \"/home/drkappa/miniconda3/envs/py39/lib/python3.9/site-packages/cloudpredictionframework/utils/experiment.py\", line 34, in run_experiment\n",
      "    y_pred = sc.inverse_transform(network.predict(test))\n",
      "  File \"/home/drkappa/miniconda3/envs/py39/lib/python3.9/site-packages/cloudpredictionframework/usage_prediction/networks/base_network.py\", line 16, in predict\n",
      "    return self.model.predict(data)\n",
      "  File \"/home/drkappa/miniconda3/envs/py39/lib/python3.9/site-packages/keras/src/utils/traceback_utils.py\", line 122, in error_handler\n",
      "    raise e.with_traceback(filtered_tb) from None\n",
      "  File \"/home/drkappa/miniconda3/envs/py39/lib/python3.9/site-packages/keras/src/models/functional.py\", line 264, in _adjust_input_rank\n",
      "    raise ValueError(\n",
      "ValueError: Exception encountered when calling Sequential.call().\n",
      "\n",
      "\u001b[1mInvalid input shape for input Tensor(\"data:0\", shape=(11, 4), dtype=float32). Expected shape (None, 1, 4), but input has incompatible shape (11, 4)\u001b[0m\n",
      "\n",
      "Arguments received by Sequential.call():\n",
      "  • inputs=tf.Tensor(shape=(11, 4), dtype=float32)\n",
      "  • training=False\n",
      "  • mask=None\n",
      "\n"
     ]
    },
    {
     "name": "stderr",
     "output_type": "stream",
     "text": [
      "/home/drkappa/miniconda3/envs/py39/lib/python3.9/site-packages/keras/src/layers/core/input_layer.py:26: UserWarning: Argument `input_shape` is deprecated. Use `shape` instead.\n",
      "  warnings.warn(\n",
      "60it [14:53, 12.68s/it]"
     ]
    },
    {
     "name": "stdout",
     "output_type": "stream",
     "text": [
      "Traceback (most recent call last):\n",
      "  File \"/home/drkappa/miniconda3/envs/py39/lib/python3.9/site-packages/cloudpredictionframework/utils/experiment.py\", line 98, in run_batch_experiment\n",
      "    result = run_experiment(df, LSTM2Layer(input_shape=(1, 4)), **kwargs)\n",
      "  File \"/home/drkappa/miniconda3/envs/py39/lib/python3.9/site-packages/cloudpredictionframework/utils/experiment.py\", line 34, in run_experiment\n",
      "    y_pred = sc.inverse_transform(network.predict(test))\n",
      "  File \"/home/drkappa/miniconda3/envs/py39/lib/python3.9/site-packages/cloudpredictionframework/usage_prediction/networks/base_network.py\", line 16, in predict\n",
      "    return self.model.predict(data)\n",
      "  File \"/home/drkappa/miniconda3/envs/py39/lib/python3.9/site-packages/keras/src/utils/traceback_utils.py\", line 122, in error_handler\n",
      "    raise e.with_traceback(filtered_tb) from None\n",
      "  File \"/home/drkappa/miniconda3/envs/py39/lib/python3.9/site-packages/keras/src/models/functional.py\", line 264, in _adjust_input_rank\n",
      "    raise ValueError(\n",
      "ValueError: Exception encountered when calling Sequential.call().\n",
      "\n",
      "\u001b[1mInvalid input shape for input Tensor(\"data:0\", shape=(13, 4), dtype=float32). Expected shape (None, 1, 4), but input has incompatible shape (13, 4)\u001b[0m\n",
      "\n",
      "Arguments received by Sequential.call():\n",
      "  • inputs=tf.Tensor(shape=(13, 4), dtype=float32)\n",
      "  • training=False\n",
      "  • mask=None\n",
      "\n"
     ]
    },
    {
     "name": "stderr",
     "output_type": "stream",
     "text": [
      "/home/drkappa/miniconda3/envs/py39/lib/python3.9/site-packages/keras/src/layers/core/input_layer.py:26: UserWarning: Argument `input_shape` is deprecated. Use `shape` instead.\n",
      "  warnings.warn(\n",
      "61it [15:06, 12.87s/it]"
     ]
    },
    {
     "name": "stdout",
     "output_type": "stream",
     "text": [
      "Traceback (most recent call last):\n",
      "  File \"/home/drkappa/miniconda3/envs/py39/lib/python3.9/site-packages/cloudpredictionframework/utils/experiment.py\", line 98, in run_batch_experiment\n",
      "    result = run_experiment(df, LSTM2Layer(input_shape=(1, 4)), **kwargs)\n",
      "  File \"/home/drkappa/miniconda3/envs/py39/lib/python3.9/site-packages/cloudpredictionframework/utils/experiment.py\", line 34, in run_experiment\n",
      "    y_pred = sc.inverse_transform(network.predict(test))\n",
      "  File \"/home/drkappa/miniconda3/envs/py39/lib/python3.9/site-packages/cloudpredictionframework/usage_prediction/networks/base_network.py\", line 16, in predict\n",
      "    return self.model.predict(data)\n",
      "  File \"/home/drkappa/miniconda3/envs/py39/lib/python3.9/site-packages/keras/src/utils/traceback_utils.py\", line 122, in error_handler\n",
      "    raise e.with_traceback(filtered_tb) from None\n",
      "  File \"/home/drkappa/miniconda3/envs/py39/lib/python3.9/site-packages/keras/src/models/functional.py\", line 264, in _adjust_input_rank\n",
      "    raise ValueError(\n",
      "ValueError: Exception encountered when calling Sequential.call().\n",
      "\n",
      "\u001b[1mInvalid input shape for input Tensor(\"data:0\", shape=(16, 4), dtype=float32). Expected shape (None, 1, 4), but input has incompatible shape (16, 4)\u001b[0m\n",
      "\n",
      "Arguments received by Sequential.call():\n",
      "  • inputs=tf.Tensor(shape=(16, 4), dtype=float32)\n",
      "  • training=False\n",
      "  • mask=None\n",
      "\n"
     ]
    },
    {
     "name": "stderr",
     "output_type": "stream",
     "text": [
      "/home/drkappa/miniconda3/envs/py39/lib/python3.9/site-packages/keras/src/layers/core/input_layer.py:26: UserWarning: Argument `input_shape` is deprecated. Use `shape` instead.\n",
      "  warnings.warn(\n",
      "62it [15:19, 12.70s/it]"
     ]
    },
    {
     "name": "stdout",
     "output_type": "stream",
     "text": [
      "Traceback (most recent call last):\n",
      "  File \"/home/drkappa/miniconda3/envs/py39/lib/python3.9/site-packages/cloudpredictionframework/utils/experiment.py\", line 98, in run_batch_experiment\n",
      "    result = run_experiment(df, LSTM2Layer(input_shape=(1, 4)), **kwargs)\n",
      "  File \"/home/drkappa/miniconda3/envs/py39/lib/python3.9/site-packages/cloudpredictionframework/utils/experiment.py\", line 34, in run_experiment\n",
      "    y_pred = sc.inverse_transform(network.predict(test))\n",
      "  File \"/home/drkappa/miniconda3/envs/py39/lib/python3.9/site-packages/cloudpredictionframework/usage_prediction/networks/base_network.py\", line 16, in predict\n",
      "    return self.model.predict(data)\n",
      "  File \"/home/drkappa/miniconda3/envs/py39/lib/python3.9/site-packages/keras/src/utils/traceback_utils.py\", line 122, in error_handler\n",
      "    raise e.with_traceback(filtered_tb) from None\n",
      "  File \"/home/drkappa/miniconda3/envs/py39/lib/python3.9/site-packages/keras/src/models/functional.py\", line 264, in _adjust_input_rank\n",
      "    raise ValueError(\n",
      "ValueError: Exception encountered when calling Sequential.call().\n",
      "\n",
      "\u001b[1mInvalid input shape for input Tensor(\"data:0\", shape=(8, 4), dtype=float32). Expected shape (None, 1, 4), but input has incompatible shape (8, 4)\u001b[0m\n",
      "\n",
      "Arguments received by Sequential.call():\n",
      "  • inputs=tf.Tensor(shape=(8, 4), dtype=float32)\n",
      "  • training=False\n",
      "  • mask=None\n",
      "\n"
     ]
    },
    {
     "name": "stderr",
     "output_type": "stream",
     "text": [
      "/home/drkappa/miniconda3/envs/py39/lib/python3.9/site-packages/keras/src/layers/core/input_layer.py:26: UserWarning: Argument `input_shape` is deprecated. Use `shape` instead.\n",
      "  warnings.warn(\n",
      "63it [15:32, 12.79s/it]"
     ]
    },
    {
     "name": "stdout",
     "output_type": "stream",
     "text": [
      "Traceback (most recent call last):\n",
      "  File \"/home/drkappa/miniconda3/envs/py39/lib/python3.9/site-packages/cloudpredictionframework/utils/experiment.py\", line 98, in run_batch_experiment\n",
      "    result = run_experiment(df, LSTM2Layer(input_shape=(1, 4)), **kwargs)\n",
      "  File \"/home/drkappa/miniconda3/envs/py39/lib/python3.9/site-packages/cloudpredictionframework/utils/experiment.py\", line 34, in run_experiment\n",
      "    y_pred = sc.inverse_transform(network.predict(test))\n",
      "  File \"/home/drkappa/miniconda3/envs/py39/lib/python3.9/site-packages/cloudpredictionframework/usage_prediction/networks/base_network.py\", line 16, in predict\n",
      "    return self.model.predict(data)\n",
      "  File \"/home/drkappa/miniconda3/envs/py39/lib/python3.9/site-packages/keras/src/utils/traceback_utils.py\", line 122, in error_handler\n",
      "    raise e.with_traceback(filtered_tb) from None\n",
      "  File \"/home/drkappa/miniconda3/envs/py39/lib/python3.9/site-packages/keras/src/models/functional.py\", line 264, in _adjust_input_rank\n",
      "    raise ValueError(\n",
      "ValueError: Exception encountered when calling Sequential.call().\n",
      "\n",
      "\u001b[1mInvalid input shape for input Tensor(\"data:0\", shape=(23, 4), dtype=float32). Expected shape (None, 1, 4), but input has incompatible shape (23, 4)\u001b[0m\n",
      "\n",
      "Arguments received by Sequential.call():\n",
      "  • inputs=tf.Tensor(shape=(23, 4), dtype=float32)\n",
      "  • training=False\n",
      "  • mask=None\n",
      "\n"
     ]
    },
    {
     "name": "stderr",
     "output_type": "stream",
     "text": [
      "/home/drkappa/miniconda3/envs/py39/lib/python3.9/site-packages/keras/src/layers/core/input_layer.py:26: UserWarning: Argument `input_shape` is deprecated. Use `shape` instead.\n",
      "  warnings.warn(\n",
      "64it [15:44, 12.75s/it]"
     ]
    },
    {
     "name": "stdout",
     "output_type": "stream",
     "text": [
      "Traceback (most recent call last):\n",
      "  File \"/home/drkappa/miniconda3/envs/py39/lib/python3.9/site-packages/cloudpredictionframework/utils/experiment.py\", line 98, in run_batch_experiment\n",
      "    result = run_experiment(df, LSTM2Layer(input_shape=(1, 4)), **kwargs)\n",
      "  File \"/home/drkappa/miniconda3/envs/py39/lib/python3.9/site-packages/cloudpredictionframework/utils/experiment.py\", line 34, in run_experiment\n",
      "    y_pred = sc.inverse_transform(network.predict(test))\n",
      "  File \"/home/drkappa/miniconda3/envs/py39/lib/python3.9/site-packages/cloudpredictionframework/usage_prediction/networks/base_network.py\", line 16, in predict\n",
      "    return self.model.predict(data)\n",
      "  File \"/home/drkappa/miniconda3/envs/py39/lib/python3.9/site-packages/keras/src/utils/traceback_utils.py\", line 122, in error_handler\n",
      "    raise e.with_traceback(filtered_tb) from None\n",
      "  File \"/home/drkappa/miniconda3/envs/py39/lib/python3.9/site-packages/keras/src/models/functional.py\", line 264, in _adjust_input_rank\n",
      "    raise ValueError(\n",
      "ValueError: Exception encountered when calling Sequential.call().\n",
      "\n",
      "\u001b[1mInvalid input shape for input Tensor(\"data:0\", shape=(23, 4), dtype=float32). Expected shape (None, 1, 4), but input has incompatible shape (23, 4)\u001b[0m\n",
      "\n",
      "Arguments received by Sequential.call():\n",
      "  • inputs=tf.Tensor(shape=(23, 4), dtype=float32)\n",
      "  • training=False\n",
      "  • mask=None\n",
      "\n"
     ]
    },
    {
     "name": "stderr",
     "output_type": "stream",
     "text": [
      "/home/drkappa/miniconda3/envs/py39/lib/python3.9/site-packages/keras/src/layers/core/input_layer.py:26: UserWarning: Argument `input_shape` is deprecated. Use `shape` instead.\n",
      "  warnings.warn(\n",
      "65it [15:56, 12.58s/it]"
     ]
    },
    {
     "name": "stdout",
     "output_type": "stream",
     "text": [
      "Traceback (most recent call last):\n",
      "  File \"/home/drkappa/miniconda3/envs/py39/lib/python3.9/site-packages/cloudpredictionframework/utils/experiment.py\", line 98, in run_batch_experiment\n",
      "    result = run_experiment(df, LSTM2Layer(input_shape=(1, 4)), **kwargs)\n",
      "  File \"/home/drkappa/miniconda3/envs/py39/lib/python3.9/site-packages/cloudpredictionframework/utils/experiment.py\", line 34, in run_experiment\n",
      "    y_pred = sc.inverse_transform(network.predict(test))\n",
      "  File \"/home/drkappa/miniconda3/envs/py39/lib/python3.9/site-packages/cloudpredictionframework/usage_prediction/networks/base_network.py\", line 16, in predict\n",
      "    return self.model.predict(data)\n",
      "  File \"/home/drkappa/miniconda3/envs/py39/lib/python3.9/site-packages/keras/src/utils/traceback_utils.py\", line 122, in error_handler\n",
      "    raise e.with_traceback(filtered_tb) from None\n",
      "  File \"/home/drkappa/miniconda3/envs/py39/lib/python3.9/site-packages/keras/src/models/functional.py\", line 264, in _adjust_input_rank\n",
      "    raise ValueError(\n",
      "ValueError: Exception encountered when calling Sequential.call().\n",
      "\n",
      "\u001b[1mInvalid input shape for input Tensor(\"data:0\", shape=(13, 4), dtype=float32). Expected shape (None, 1, 4), but input has incompatible shape (13, 4)\u001b[0m\n",
      "\n",
      "Arguments received by Sequential.call():\n",
      "  • inputs=tf.Tensor(shape=(13, 4), dtype=float32)\n",
      "  • training=False\n",
      "  • mask=None\n",
      "\n"
     ]
    },
    {
     "name": "stderr",
     "output_type": "stream",
     "text": [
      "/home/drkappa/miniconda3/envs/py39/lib/python3.9/site-packages/keras/src/layers/core/input_layer.py:26: UserWarning: Argument `input_shape` is deprecated. Use `shape` instead.\n",
      "  warnings.warn(\n",
      "66it [16:09, 12.73s/it]"
     ]
    },
    {
     "name": "stdout",
     "output_type": "stream",
     "text": [
      "Traceback (most recent call last):\n",
      "  File \"/home/drkappa/miniconda3/envs/py39/lib/python3.9/site-packages/cloudpredictionframework/utils/experiment.py\", line 98, in run_batch_experiment\n",
      "    result = run_experiment(df, LSTM2Layer(input_shape=(1, 4)), **kwargs)\n",
      "  File \"/home/drkappa/miniconda3/envs/py39/lib/python3.9/site-packages/cloudpredictionframework/utils/experiment.py\", line 34, in run_experiment\n",
      "    y_pred = sc.inverse_transform(network.predict(test))\n",
      "  File \"/home/drkappa/miniconda3/envs/py39/lib/python3.9/site-packages/cloudpredictionframework/usage_prediction/networks/base_network.py\", line 16, in predict\n",
      "    return self.model.predict(data)\n",
      "  File \"/home/drkappa/miniconda3/envs/py39/lib/python3.9/site-packages/keras/src/utils/traceback_utils.py\", line 122, in error_handler\n",
      "    raise e.with_traceback(filtered_tb) from None\n",
      "  File \"/home/drkappa/miniconda3/envs/py39/lib/python3.9/site-packages/keras/src/models/functional.py\", line 264, in _adjust_input_rank\n",
      "    raise ValueError(\n",
      "ValueError: Exception encountered when calling Sequential.call().\n",
      "\n",
      "\u001b[1mInvalid input shape for input Tensor(\"data:0\", shape=(8, 4), dtype=float32). Expected shape (None, 1, 4), but input has incompatible shape (8, 4)\u001b[0m\n",
      "\n",
      "Arguments received by Sequential.call():\n",
      "  • inputs=tf.Tensor(shape=(8, 4), dtype=float32)\n",
      "  • training=False\n",
      "  • mask=None\n",
      "\n"
     ]
    },
    {
     "name": "stderr",
     "output_type": "stream",
     "text": [
      "/home/drkappa/miniconda3/envs/py39/lib/python3.9/site-packages/keras/src/layers/core/input_layer.py:26: UserWarning: Argument `input_shape` is deprecated. Use `shape` instead.\n",
      "  warnings.warn(\n",
      "67it [16:10,  9.00s/it]"
     ]
    },
    {
     "name": "stdout",
     "output_type": "stream",
     "text": [
      "Traceback (most recent call last):\n",
      "  File \"/home/drkappa/miniconda3/envs/py39/lib/python3.9/site-packages/cloudpredictionframework/utils/experiment.py\", line 98, in run_batch_experiment\n",
      "    result = run_experiment(df, LSTM2Layer(input_shape=(1, 4)), **kwargs)\n",
      "  File \"/home/drkappa/miniconda3/envs/py39/lib/python3.9/site-packages/cloudpredictionframework/utils/experiment.py\", line 32, in run_experiment\n",
      "    network.fit_model(x_train, y_train, verbose=False)\n",
      "  File \"/home/drkappa/miniconda3/envs/py39/lib/python3.9/site-packages/cloudpredictionframework/usage_prediction/networks/lstm_2layer.py\", line 37, in fit_model\n",
      "    self.history = self.model.fit(\n",
      "  File \"/home/drkappa/miniconda3/envs/py39/lib/python3.9/site-packages/keras/src/utils/traceback_utils.py\", line 122, in error_handler\n",
      "    raise e.with_traceback(filtered_tb) from None\n",
      "  File \"/home/drkappa/miniconda3/envs/py39/lib/python3.9/site-packages/keras/src/trainers/data_adapters/array_slicing.py\", line 490, in train_validation_split\n",
      "    raise ValueError(\n",
      "ValueError: Training data contains 0 samples, which is not sufficient to split it into a validation and training set as specified by `validation_split=0.1`. Either provide more data, or a different value for the `validation_split` argument.\n",
      "\n"
     ]
    },
    {
     "name": "stderr",
     "output_type": "stream",
     "text": [
      "/home/drkappa/miniconda3/envs/py39/lib/python3.9/site-packages/keras/src/layers/core/input_layer.py:26: UserWarning: Argument `input_shape` is deprecated. Use `shape` instead.\n",
      "  warnings.warn(\n",
      "68it [16:28, 11.63s/it]"
     ]
    },
    {
     "name": "stdout",
     "output_type": "stream",
     "text": [
      "Traceback (most recent call last):\n",
      "  File \"/home/drkappa/miniconda3/envs/py39/lib/python3.9/site-packages/cloudpredictionframework/utils/experiment.py\", line 98, in run_batch_experiment\n",
      "    result = run_experiment(df, LSTM2Layer(input_shape=(1, 4)), **kwargs)\n",
      "  File \"/home/drkappa/miniconda3/envs/py39/lib/python3.9/site-packages/cloudpredictionframework/utils/experiment.py\", line 34, in run_experiment\n",
      "    y_pred = sc.inverse_transform(network.predict(test))\n",
      "  File \"/home/drkappa/miniconda3/envs/py39/lib/python3.9/site-packages/cloudpredictionframework/usage_prediction/networks/base_network.py\", line 16, in predict\n",
      "    return self.model.predict(data)\n",
      "  File \"/home/drkappa/miniconda3/envs/py39/lib/python3.9/site-packages/keras/src/utils/traceback_utils.py\", line 122, in error_handler\n",
      "    raise e.with_traceback(filtered_tb) from None\n",
      "  File \"/home/drkappa/miniconda3/envs/py39/lib/python3.9/site-packages/keras/src/models/functional.py\", line 264, in _adjust_input_rank\n",
      "    raise ValueError(\n",
      "ValueError: Exception encountered when calling Sequential.call().\n",
      "\n",
      "\u001b[1mInvalid input shape for input Tensor(\"data:0\", shape=(18, 4), dtype=float32). Expected shape (None, 1, 4), but input has incompatible shape (18, 4)\u001b[0m\n",
      "\n",
      "Arguments received by Sequential.call():\n",
      "  • inputs=tf.Tensor(shape=(18, 4), dtype=float32)\n",
      "  • training=False\n",
      "  • mask=None\n",
      "\n"
     ]
    },
    {
     "name": "stderr",
     "output_type": "stream",
     "text": [
      "/home/drkappa/miniconda3/envs/py39/lib/python3.9/site-packages/keras/src/layers/core/input_layer.py:26: UserWarning: Argument `input_shape` is deprecated. Use `shape` instead.\n",
      "  warnings.warn(\n",
      "69it [16:40, 11.99s/it]"
     ]
    },
    {
     "name": "stdout",
     "output_type": "stream",
     "text": [
      "Traceback (most recent call last):\n",
      "  File \"/home/drkappa/miniconda3/envs/py39/lib/python3.9/site-packages/cloudpredictionframework/utils/experiment.py\", line 98, in run_batch_experiment\n",
      "    result = run_experiment(df, LSTM2Layer(input_shape=(1, 4)), **kwargs)\n",
      "  File \"/home/drkappa/miniconda3/envs/py39/lib/python3.9/site-packages/cloudpredictionframework/utils/experiment.py\", line 34, in run_experiment\n",
      "    y_pred = sc.inverse_transform(network.predict(test))\n",
      "  File \"/home/drkappa/miniconda3/envs/py39/lib/python3.9/site-packages/cloudpredictionframework/usage_prediction/networks/base_network.py\", line 16, in predict\n",
      "    return self.model.predict(data)\n",
      "  File \"/home/drkappa/miniconda3/envs/py39/lib/python3.9/site-packages/keras/src/utils/traceback_utils.py\", line 122, in error_handler\n",
      "    raise e.with_traceback(filtered_tb) from None\n",
      "  File \"/home/drkappa/miniconda3/envs/py39/lib/python3.9/site-packages/keras/src/models/functional.py\", line 264, in _adjust_input_rank\n",
      "    raise ValueError(\n",
      "ValueError: Exception encountered when calling Sequential.call().\n",
      "\n",
      "\u001b[1mInvalid input shape for input Tensor(\"data:0\", shape=(22, 4), dtype=float32). Expected shape (None, 1, 4), but input has incompatible shape (22, 4)\u001b[0m\n",
      "\n",
      "Arguments received by Sequential.call():\n",
      "  • inputs=tf.Tensor(shape=(22, 4), dtype=float32)\n",
      "  • training=False\n",
      "  • mask=None\n",
      "\n"
     ]
    },
    {
     "name": "stderr",
     "output_type": "stream",
     "text": [
      "/home/drkappa/miniconda3/envs/py39/lib/python3.9/site-packages/keras/src/layers/core/input_layer.py:26: UserWarning: Argument `input_shape` is deprecated. Use `shape` instead.\n",
      "  warnings.warn(\n",
      "70it [16:52, 12.01s/it]"
     ]
    },
    {
     "name": "stdout",
     "output_type": "stream",
     "text": [
      "Traceback (most recent call last):\n",
      "  File \"/home/drkappa/miniconda3/envs/py39/lib/python3.9/site-packages/cloudpredictionframework/utils/experiment.py\", line 98, in run_batch_experiment\n",
      "    result = run_experiment(df, LSTM2Layer(input_shape=(1, 4)), **kwargs)\n",
      "  File \"/home/drkappa/miniconda3/envs/py39/lib/python3.9/site-packages/cloudpredictionframework/utils/experiment.py\", line 34, in run_experiment\n",
      "    y_pred = sc.inverse_transform(network.predict(test))\n",
      "  File \"/home/drkappa/miniconda3/envs/py39/lib/python3.9/site-packages/cloudpredictionframework/usage_prediction/networks/base_network.py\", line 16, in predict\n",
      "    return self.model.predict(data)\n",
      "  File \"/home/drkappa/miniconda3/envs/py39/lib/python3.9/site-packages/keras/src/utils/traceback_utils.py\", line 122, in error_handler\n",
      "    raise e.with_traceback(filtered_tb) from None\n",
      "  File \"/home/drkappa/miniconda3/envs/py39/lib/python3.9/site-packages/keras/src/models/functional.py\", line 264, in _adjust_input_rank\n",
      "    raise ValueError(\n",
      "ValueError: Exception encountered when calling Sequential.call().\n",
      "\n",
      "\u001b[1mInvalid input shape for input Tensor(\"data:0\", shape=(23, 4), dtype=float32). Expected shape (None, 1, 4), but input has incompatible shape (23, 4)\u001b[0m\n",
      "\n",
      "Arguments received by Sequential.call():\n",
      "  • inputs=tf.Tensor(shape=(23, 4), dtype=float32)\n",
      "  • training=False\n",
      "  • mask=None\n",
      "\n"
     ]
    },
    {
     "name": "stderr",
     "output_type": "stream",
     "text": [
      "/home/drkappa/miniconda3/envs/py39/lib/python3.9/site-packages/keras/src/layers/core/input_layer.py:26: UserWarning: Argument `input_shape` is deprecated. Use `shape` instead.\n",
      "  warnings.warn(\n",
      "71it [17:01, 11.00s/it]"
     ]
    },
    {
     "name": "stdout",
     "output_type": "stream",
     "text": [
      "Traceback (most recent call last):\n",
      "  File \"/home/drkappa/miniconda3/envs/py39/lib/python3.9/site-packages/cloudpredictionframework/utils/experiment.py\", line 98, in run_batch_experiment\n",
      "    result = run_experiment(df, LSTM2Layer(input_shape=(1, 4)), **kwargs)\n",
      "  File \"/home/drkappa/miniconda3/envs/py39/lib/python3.9/site-packages/cloudpredictionframework/utils/experiment.py\", line 34, in run_experiment\n",
      "    y_pred = sc.inverse_transform(network.predict(test))\n",
      "  File \"/home/drkappa/miniconda3/envs/py39/lib/python3.9/site-packages/cloudpredictionframework/usage_prediction/networks/base_network.py\", line 16, in predict\n",
      "    return self.model.predict(data)\n",
      "  File \"/home/drkappa/miniconda3/envs/py39/lib/python3.9/site-packages/keras/src/utils/traceback_utils.py\", line 122, in error_handler\n",
      "    raise e.with_traceback(filtered_tb) from None\n",
      "  File \"/home/drkappa/miniconda3/envs/py39/lib/python3.9/site-packages/keras/src/models/functional.py\", line 264, in _adjust_input_rank\n",
      "    raise ValueError(\n",
      "ValueError: Exception encountered when calling Sequential.call().\n",
      "\n",
      "\u001b[1mInvalid input shape for input Tensor(\"data:0\", shape=(12, 4), dtype=float32). Expected shape (None, 1, 4), but input has incompatible shape (12, 4)\u001b[0m\n",
      "\n",
      "Arguments received by Sequential.call():\n",
      "  • inputs=tf.Tensor(shape=(12, 4), dtype=float32)\n",
      "  • training=False\n",
      "  • mask=None\n",
      "\n"
     ]
    },
    {
     "name": "stderr",
     "output_type": "stream",
     "text": [
      "/home/drkappa/miniconda3/envs/py39/lib/python3.9/site-packages/keras/src/layers/core/input_layer.py:26: UserWarning: Argument `input_shape` is deprecated. Use `shape` instead.\n",
      "  warnings.warn(\n",
      "72it [17:10, 10.28s/it]"
     ]
    },
    {
     "name": "stdout",
     "output_type": "stream",
     "text": [
      "Traceback (most recent call last):\n",
      "  File \"/home/drkappa/miniconda3/envs/py39/lib/python3.9/site-packages/cloudpredictionframework/utils/experiment.py\", line 98, in run_batch_experiment\n",
      "    result = run_experiment(df, LSTM2Layer(input_shape=(1, 4)), **kwargs)\n",
      "  File \"/home/drkappa/miniconda3/envs/py39/lib/python3.9/site-packages/cloudpredictionframework/utils/experiment.py\", line 34, in run_experiment\n",
      "    y_pred = sc.inverse_transform(network.predict(test))\n",
      "  File \"/home/drkappa/miniconda3/envs/py39/lib/python3.9/site-packages/cloudpredictionframework/usage_prediction/networks/base_network.py\", line 16, in predict\n",
      "    return self.model.predict(data)\n",
      "  File \"/home/drkappa/miniconda3/envs/py39/lib/python3.9/site-packages/keras/src/utils/traceback_utils.py\", line 122, in error_handler\n",
      "    raise e.with_traceback(filtered_tb) from None\n",
      "  File \"/home/drkappa/miniconda3/envs/py39/lib/python3.9/site-packages/keras/src/models/functional.py\", line 264, in _adjust_input_rank\n",
      "    raise ValueError(\n",
      "ValueError: Exception encountered when calling Sequential.call().\n",
      "\n",
      "\u001b[1mInvalid input shape for input Tensor(\"data:0\", shape=(5, 4), dtype=float32). Expected shape (None, 1, 4), but input has incompatible shape (5, 4)\u001b[0m\n",
      "\n",
      "Arguments received by Sequential.call():\n",
      "  • inputs=tf.Tensor(shape=(5, 4), dtype=float32)\n",
      "  • training=False\n",
      "  • mask=None\n",
      "\n"
     ]
    },
    {
     "name": "stderr",
     "output_type": "stream",
     "text": [
      "/home/drkappa/miniconda3/envs/py39/lib/python3.9/site-packages/keras/src/layers/core/input_layer.py:26: UserWarning: Argument `input_shape` is deprecated. Use `shape` instead.\n",
      "  warnings.warn(\n",
      "73it [17:18,  9.80s/it]"
     ]
    },
    {
     "name": "stdout",
     "output_type": "stream",
     "text": [
      "Traceback (most recent call last):\n",
      "  File \"/home/drkappa/miniconda3/envs/py39/lib/python3.9/site-packages/cloudpredictionframework/utils/experiment.py\", line 98, in run_batch_experiment\n",
      "    result = run_experiment(df, LSTM2Layer(input_shape=(1, 4)), **kwargs)\n",
      "  File \"/home/drkappa/miniconda3/envs/py39/lib/python3.9/site-packages/cloudpredictionframework/utils/experiment.py\", line 34, in run_experiment\n",
      "    y_pred = sc.inverse_transform(network.predict(test))\n",
      "  File \"/home/drkappa/miniconda3/envs/py39/lib/python3.9/site-packages/cloudpredictionframework/usage_prediction/networks/base_network.py\", line 16, in predict\n",
      "    return self.model.predict(data)\n",
      "  File \"/home/drkappa/miniconda3/envs/py39/lib/python3.9/site-packages/keras/src/utils/traceback_utils.py\", line 122, in error_handler\n",
      "    raise e.with_traceback(filtered_tb) from None\n",
      "  File \"/home/drkappa/miniconda3/envs/py39/lib/python3.9/site-packages/keras/src/models/functional.py\", line 264, in _adjust_input_rank\n",
      "    raise ValueError(\n",
      "ValueError: Exception encountered when calling Sequential.call().\n",
      "\n",
      "\u001b[1mInvalid input shape for input Tensor(\"data:0\", shape=(12, 4), dtype=float32). Expected shape (None, 1, 4), but input has incompatible shape (12, 4)\u001b[0m\n",
      "\n",
      "Arguments received by Sequential.call():\n",
      "  • inputs=tf.Tensor(shape=(12, 4), dtype=float32)\n",
      "  • training=False\n",
      "  • mask=None\n",
      "\n"
     ]
    },
    {
     "name": "stderr",
     "output_type": "stream",
     "text": [
      "/home/drkappa/miniconda3/envs/py39/lib/python3.9/site-packages/keras/src/layers/core/input_layer.py:26: UserWarning: Argument `input_shape` is deprecated. Use `shape` instead.\n",
      "  warnings.warn(\n",
      "74it [17:27,  9.38s/it]"
     ]
    },
    {
     "name": "stdout",
     "output_type": "stream",
     "text": [
      "Traceback (most recent call last):\n",
      "  File \"/home/drkappa/miniconda3/envs/py39/lib/python3.9/site-packages/cloudpredictionframework/utils/experiment.py\", line 98, in run_batch_experiment\n",
      "    result = run_experiment(df, LSTM2Layer(input_shape=(1, 4)), **kwargs)\n",
      "  File \"/home/drkappa/miniconda3/envs/py39/lib/python3.9/site-packages/cloudpredictionframework/utils/experiment.py\", line 34, in run_experiment\n",
      "    y_pred = sc.inverse_transform(network.predict(test))\n",
      "  File \"/home/drkappa/miniconda3/envs/py39/lib/python3.9/site-packages/cloudpredictionframework/usage_prediction/networks/base_network.py\", line 16, in predict\n",
      "    return self.model.predict(data)\n",
      "  File \"/home/drkappa/miniconda3/envs/py39/lib/python3.9/site-packages/keras/src/utils/traceback_utils.py\", line 122, in error_handler\n",
      "    raise e.with_traceback(filtered_tb) from None\n",
      "  File \"/home/drkappa/miniconda3/envs/py39/lib/python3.9/site-packages/keras/src/models/functional.py\", line 264, in _adjust_input_rank\n",
      "    raise ValueError(\n",
      "ValueError: Exception encountered when calling Sequential.call().\n",
      "\n",
      "\u001b[1mInvalid input shape for input Tensor(\"data:0\", shape=(12, 4), dtype=float32). Expected shape (None, 1, 4), but input has incompatible shape (12, 4)\u001b[0m\n",
      "\n",
      "Arguments received by Sequential.call():\n",
      "  • inputs=tf.Tensor(shape=(12, 4), dtype=float32)\n",
      "  • training=False\n",
      "  • mask=None\n",
      "\n"
     ]
    },
    {
     "name": "stderr",
     "output_type": "stream",
     "text": [
      "/home/drkappa/miniconda3/envs/py39/lib/python3.9/site-packages/keras/src/layers/core/input_layer.py:26: UserWarning: Argument `input_shape` is deprecated. Use `shape` instead.\n",
      "  warnings.warn(\n",
      "75it [17:35,  9.17s/it]"
     ]
    },
    {
     "name": "stdout",
     "output_type": "stream",
     "text": [
      "Traceback (most recent call last):\n",
      "  File \"/home/drkappa/miniconda3/envs/py39/lib/python3.9/site-packages/cloudpredictionframework/utils/experiment.py\", line 98, in run_batch_experiment\n",
      "    result = run_experiment(df, LSTM2Layer(input_shape=(1, 4)), **kwargs)\n",
      "  File \"/home/drkappa/miniconda3/envs/py39/lib/python3.9/site-packages/cloudpredictionframework/utils/experiment.py\", line 34, in run_experiment\n",
      "    y_pred = sc.inverse_transform(network.predict(test))\n",
      "  File \"/home/drkappa/miniconda3/envs/py39/lib/python3.9/site-packages/cloudpredictionframework/usage_prediction/networks/base_network.py\", line 16, in predict\n",
      "    return self.model.predict(data)\n",
      "  File \"/home/drkappa/miniconda3/envs/py39/lib/python3.9/site-packages/keras/src/utils/traceback_utils.py\", line 122, in error_handler\n",
      "    raise e.with_traceback(filtered_tb) from None\n",
      "  File \"/home/drkappa/miniconda3/envs/py39/lib/python3.9/site-packages/keras/src/models/functional.py\", line 264, in _adjust_input_rank\n",
      "    raise ValueError(\n",
      "ValueError: Exception encountered when calling Sequential.call().\n",
      "\n",
      "\u001b[1mInvalid input shape for input Tensor(\"data:0\", shape=(23, 4), dtype=float32). Expected shape (None, 1, 4), but input has incompatible shape (23, 4)\u001b[0m\n",
      "\n",
      "Arguments received by Sequential.call():\n",
      "  • inputs=tf.Tensor(shape=(23, 4), dtype=float32)\n",
      "  • training=False\n",
      "  • mask=None\n",
      "\n"
     ]
    },
    {
     "name": "stderr",
     "output_type": "stream",
     "text": [
      "/home/drkappa/miniconda3/envs/py39/lib/python3.9/site-packages/keras/src/layers/core/input_layer.py:26: UserWarning: Argument `input_shape` is deprecated. Use `shape` instead.\n",
      "  warnings.warn(\n",
      "76it [17:45,  9.13s/it]"
     ]
    },
    {
     "name": "stdout",
     "output_type": "stream",
     "text": [
      "Traceback (most recent call last):\n",
      "  File \"/home/drkappa/miniconda3/envs/py39/lib/python3.9/site-packages/cloudpredictionframework/utils/experiment.py\", line 98, in run_batch_experiment\n",
      "    result = run_experiment(df, LSTM2Layer(input_shape=(1, 4)), **kwargs)\n",
      "  File \"/home/drkappa/miniconda3/envs/py39/lib/python3.9/site-packages/cloudpredictionframework/utils/experiment.py\", line 34, in run_experiment\n",
      "    y_pred = sc.inverse_transform(network.predict(test))\n",
      "  File \"/home/drkappa/miniconda3/envs/py39/lib/python3.9/site-packages/cloudpredictionframework/usage_prediction/networks/base_network.py\", line 16, in predict\n",
      "    return self.model.predict(data)\n",
      "  File \"/home/drkappa/miniconda3/envs/py39/lib/python3.9/site-packages/keras/src/utils/traceback_utils.py\", line 122, in error_handler\n",
      "    raise e.with_traceback(filtered_tb) from None\n",
      "  File \"/home/drkappa/miniconda3/envs/py39/lib/python3.9/site-packages/keras/src/models/functional.py\", line 264, in _adjust_input_rank\n",
      "    raise ValueError(\n",
      "ValueError: Exception encountered when calling Sequential.call().\n",
      "\n",
      "\u001b[1mInvalid input shape for input Tensor(\"data:0\", shape=(12, 4), dtype=float32). Expected shape (None, 1, 4), but input has incompatible shape (12, 4)\u001b[0m\n",
      "\n",
      "Arguments received by Sequential.call():\n",
      "  • inputs=tf.Tensor(shape=(12, 4), dtype=float32)\n",
      "  • training=False\n",
      "  • mask=None\n",
      "\n"
     ]
    },
    {
     "name": "stderr",
     "output_type": "stream",
     "text": [
      "/home/drkappa/miniconda3/envs/py39/lib/python3.9/site-packages/keras/src/layers/core/input_layer.py:26: UserWarning: Argument `input_shape` is deprecated. Use `shape` instead.\n",
      "  warnings.warn(\n",
      "77it [17:53,  9.02s/it]"
     ]
    },
    {
     "name": "stdout",
     "output_type": "stream",
     "text": [
      "Traceback (most recent call last):\n",
      "  File \"/home/drkappa/miniconda3/envs/py39/lib/python3.9/site-packages/cloudpredictionframework/utils/experiment.py\", line 98, in run_batch_experiment\n",
      "    result = run_experiment(df, LSTM2Layer(input_shape=(1, 4)), **kwargs)\n",
      "  File \"/home/drkappa/miniconda3/envs/py39/lib/python3.9/site-packages/cloudpredictionframework/utils/experiment.py\", line 34, in run_experiment\n",
      "    y_pred = sc.inverse_transform(network.predict(test))\n",
      "  File \"/home/drkappa/miniconda3/envs/py39/lib/python3.9/site-packages/cloudpredictionframework/usage_prediction/networks/base_network.py\", line 16, in predict\n",
      "    return self.model.predict(data)\n",
      "  File \"/home/drkappa/miniconda3/envs/py39/lib/python3.9/site-packages/keras/src/utils/traceback_utils.py\", line 122, in error_handler\n",
      "    raise e.with_traceback(filtered_tb) from None\n",
      "  File \"/home/drkappa/miniconda3/envs/py39/lib/python3.9/site-packages/keras/src/models/functional.py\", line 264, in _adjust_input_rank\n",
      "    raise ValueError(\n",
      "ValueError: Exception encountered when calling Sequential.call().\n",
      "\n",
      "\u001b[1mInvalid input shape for input Tensor(\"data:0\", shape=(8, 4), dtype=float32). Expected shape (None, 1, 4), but input has incompatible shape (8, 4)\u001b[0m\n",
      "\n",
      "Arguments received by Sequential.call():\n",
      "  • inputs=tf.Tensor(shape=(8, 4), dtype=float32)\n",
      "  • training=False\n",
      "  • mask=None\n",
      "\n"
     ]
    },
    {
     "name": "stderr",
     "output_type": "stream",
     "text": [
      "/home/drkappa/miniconda3/envs/py39/lib/python3.9/site-packages/keras/src/layers/core/input_layer.py:26: UserWarning: Argument `input_shape` is deprecated. Use `shape` instead.\n",
      "  warnings.warn(\n",
      "78it [18:02,  9.07s/it]"
     ]
    },
    {
     "name": "stdout",
     "output_type": "stream",
     "text": [
      "Traceback (most recent call last):\n",
      "  File \"/home/drkappa/miniconda3/envs/py39/lib/python3.9/site-packages/cloudpredictionframework/utils/experiment.py\", line 98, in run_batch_experiment\n",
      "    result = run_experiment(df, LSTM2Layer(input_shape=(1, 4)), **kwargs)\n",
      "  File \"/home/drkappa/miniconda3/envs/py39/lib/python3.9/site-packages/cloudpredictionframework/utils/experiment.py\", line 34, in run_experiment\n",
      "    y_pred = sc.inverse_transform(network.predict(test))\n",
      "  File \"/home/drkappa/miniconda3/envs/py39/lib/python3.9/site-packages/cloudpredictionframework/usage_prediction/networks/base_network.py\", line 16, in predict\n",
      "    return self.model.predict(data)\n",
      "  File \"/home/drkappa/miniconda3/envs/py39/lib/python3.9/site-packages/keras/src/utils/traceback_utils.py\", line 122, in error_handler\n",
      "    raise e.with_traceback(filtered_tb) from None\n",
      "  File \"/home/drkappa/miniconda3/envs/py39/lib/python3.9/site-packages/keras/src/models/functional.py\", line 264, in _adjust_input_rank\n",
      "    raise ValueError(\n",
      "ValueError: Exception encountered when calling Sequential.call().\n",
      "\n",
      "\u001b[1mInvalid input shape for input Tensor(\"data:0\", shape=(12, 4), dtype=float32). Expected shape (None, 1, 4), but input has incompatible shape (12, 4)\u001b[0m\n",
      "\n",
      "Arguments received by Sequential.call():\n",
      "  • inputs=tf.Tensor(shape=(12, 4), dtype=float32)\n",
      "  • training=False\n",
      "  • mask=None\n",
      "\n"
     ]
    },
    {
     "name": "stderr",
     "output_type": "stream",
     "text": [
      "/home/drkappa/miniconda3/envs/py39/lib/python3.9/site-packages/keras/src/layers/core/input_layer.py:26: UserWarning: Argument `input_shape` is deprecated. Use `shape` instead.\n",
      "  warnings.warn(\n",
      "79it [18:12,  9.19s/it]"
     ]
    },
    {
     "name": "stdout",
     "output_type": "stream",
     "text": [
      "Traceback (most recent call last):\n",
      "  File \"/home/drkappa/miniconda3/envs/py39/lib/python3.9/site-packages/cloudpredictionframework/utils/experiment.py\", line 98, in run_batch_experiment\n",
      "    result = run_experiment(df, LSTM2Layer(input_shape=(1, 4)), **kwargs)\n",
      "  File \"/home/drkappa/miniconda3/envs/py39/lib/python3.9/site-packages/cloudpredictionframework/utils/experiment.py\", line 34, in run_experiment\n",
      "    y_pred = sc.inverse_transform(network.predict(test))\n",
      "  File \"/home/drkappa/miniconda3/envs/py39/lib/python3.9/site-packages/cloudpredictionframework/usage_prediction/networks/base_network.py\", line 16, in predict\n",
      "    return self.model.predict(data)\n",
      "  File \"/home/drkappa/miniconda3/envs/py39/lib/python3.9/site-packages/keras/src/utils/traceback_utils.py\", line 122, in error_handler\n",
      "    raise e.with_traceback(filtered_tb) from None\n",
      "  File \"/home/drkappa/miniconda3/envs/py39/lib/python3.9/site-packages/keras/src/models/functional.py\", line 264, in _adjust_input_rank\n",
      "    raise ValueError(\n",
      "ValueError: Exception encountered when calling Sequential.call().\n",
      "\n",
      "\u001b[1mInvalid input shape for input Tensor(\"data:0\", shape=(23, 4), dtype=float32). Expected shape (None, 1, 4), but input has incompatible shape (23, 4)\u001b[0m\n",
      "\n",
      "Arguments received by Sequential.call():\n",
      "  • inputs=tf.Tensor(shape=(23, 4), dtype=float32)\n",
      "  • training=False\n",
      "  • mask=None\n",
      "\n"
     ]
    },
    {
     "name": "stderr",
     "output_type": "stream",
     "text": [
      "/home/drkappa/miniconda3/envs/py39/lib/python3.9/site-packages/keras/src/layers/core/input_layer.py:26: UserWarning: Argument `input_shape` is deprecated. Use `shape` instead.\n",
      "  warnings.warn(\n",
      "80it [18:20,  8.99s/it]"
     ]
    },
    {
     "name": "stdout",
     "output_type": "stream",
     "text": [
      "Traceback (most recent call last):\n",
      "  File \"/home/drkappa/miniconda3/envs/py39/lib/python3.9/site-packages/cloudpredictionframework/utils/experiment.py\", line 98, in run_batch_experiment\n",
      "    result = run_experiment(df, LSTM2Layer(input_shape=(1, 4)), **kwargs)\n",
      "  File \"/home/drkappa/miniconda3/envs/py39/lib/python3.9/site-packages/cloudpredictionframework/utils/experiment.py\", line 34, in run_experiment\n",
      "    y_pred = sc.inverse_transform(network.predict(test))\n",
      "  File \"/home/drkappa/miniconda3/envs/py39/lib/python3.9/site-packages/cloudpredictionframework/usage_prediction/networks/base_network.py\", line 16, in predict\n",
      "    return self.model.predict(data)\n",
      "  File \"/home/drkappa/miniconda3/envs/py39/lib/python3.9/site-packages/keras/src/utils/traceback_utils.py\", line 122, in error_handler\n",
      "    raise e.with_traceback(filtered_tb) from None\n",
      "  File \"/home/drkappa/miniconda3/envs/py39/lib/python3.9/site-packages/keras/src/models/functional.py\", line 264, in _adjust_input_rank\n",
      "    raise ValueError(\n",
      "ValueError: Exception encountered when calling Sequential.call().\n",
      "\n",
      "\u001b[1mInvalid input shape for input Tensor(\"data:0\", shape=(5, 4), dtype=float32). Expected shape (None, 1, 4), but input has incompatible shape (5, 4)\u001b[0m\n",
      "\n",
      "Arguments received by Sequential.call():\n",
      "  • inputs=tf.Tensor(shape=(5, 4), dtype=float32)\n",
      "  • training=False\n",
      "  • mask=None\n",
      "\n"
     ]
    },
    {
     "name": "stderr",
     "output_type": "stream",
     "text": [
      "/home/drkappa/miniconda3/envs/py39/lib/python3.9/site-packages/keras/src/layers/core/input_layer.py:26: UserWarning: Argument `input_shape` is deprecated. Use `shape` instead.\n",
      "  warnings.warn(\n",
      "81it [18:30,  9.15s/it]"
     ]
    },
    {
     "name": "stdout",
     "output_type": "stream",
     "text": [
      "Traceback (most recent call last):\n",
      "  File \"/home/drkappa/miniconda3/envs/py39/lib/python3.9/site-packages/cloudpredictionframework/utils/experiment.py\", line 98, in run_batch_experiment\n",
      "    result = run_experiment(df, LSTM2Layer(input_shape=(1, 4)), **kwargs)\n",
      "  File \"/home/drkappa/miniconda3/envs/py39/lib/python3.9/site-packages/cloudpredictionframework/utils/experiment.py\", line 34, in run_experiment\n",
      "    y_pred = sc.inverse_transform(network.predict(test))\n",
      "  File \"/home/drkappa/miniconda3/envs/py39/lib/python3.9/site-packages/cloudpredictionframework/usage_prediction/networks/base_network.py\", line 16, in predict\n",
      "    return self.model.predict(data)\n",
      "  File \"/home/drkappa/miniconda3/envs/py39/lib/python3.9/site-packages/keras/src/utils/traceback_utils.py\", line 122, in error_handler\n",
      "    raise e.with_traceback(filtered_tb) from None\n",
      "  File \"/home/drkappa/miniconda3/envs/py39/lib/python3.9/site-packages/keras/src/models/functional.py\", line 264, in _adjust_input_rank\n",
      "    raise ValueError(\n",
      "ValueError: Exception encountered when calling Sequential.call().\n",
      "\n",
      "\u001b[1mInvalid input shape for input Tensor(\"data:0\", shape=(22, 4), dtype=float32). Expected shape (None, 1, 4), but input has incompatible shape (22, 4)\u001b[0m\n",
      "\n",
      "Arguments received by Sequential.call():\n",
      "  • inputs=tf.Tensor(shape=(22, 4), dtype=float32)\n",
      "  • training=False\n",
      "  • mask=None\n",
      "\n"
     ]
    },
    {
     "name": "stderr",
     "output_type": "stream",
     "text": [
      "/home/drkappa/miniconda3/envs/py39/lib/python3.9/site-packages/keras/src/layers/core/input_layer.py:26: UserWarning: Argument `input_shape` is deprecated. Use `shape` instead.\n",
      "  warnings.warn(\n",
      "82it [18:43, 10.41s/it]"
     ]
    },
    {
     "name": "stdout",
     "output_type": "stream",
     "text": [
      "Traceback (most recent call last):\n",
      "  File \"/home/drkappa/miniconda3/envs/py39/lib/python3.9/site-packages/cloudpredictionframework/utils/experiment.py\", line 98, in run_batch_experiment\n",
      "    result = run_experiment(df, LSTM2Layer(input_shape=(1, 4)), **kwargs)\n",
      "  File \"/home/drkappa/miniconda3/envs/py39/lib/python3.9/site-packages/cloudpredictionframework/utils/experiment.py\", line 34, in run_experiment\n",
      "    y_pred = sc.inverse_transform(network.predict(test))\n",
      "  File \"/home/drkappa/miniconda3/envs/py39/lib/python3.9/site-packages/cloudpredictionframework/usage_prediction/networks/base_network.py\", line 16, in predict\n",
      "    return self.model.predict(data)\n",
      "  File \"/home/drkappa/miniconda3/envs/py39/lib/python3.9/site-packages/keras/src/utils/traceback_utils.py\", line 122, in error_handler\n",
      "    raise e.with_traceback(filtered_tb) from None\n",
      "  File \"/home/drkappa/miniconda3/envs/py39/lib/python3.9/site-packages/keras/src/models/functional.py\", line 264, in _adjust_input_rank\n",
      "    raise ValueError(\n",
      "ValueError: Exception encountered when calling Sequential.call().\n",
      "\n",
      "\u001b[1mInvalid input shape for input Tensor(\"data:0\", shape=(26, 4), dtype=float32). Expected shape (None, 1, 4), but input has incompatible shape (26, 4)\u001b[0m\n",
      "\n",
      "Arguments received by Sequential.call():\n",
      "  • inputs=tf.Tensor(shape=(26, 4), dtype=float32)\n",
      "  • training=False\n",
      "  • mask=None\n",
      "\n"
     ]
    },
    {
     "name": "stderr",
     "output_type": "stream",
     "text": [
      "/home/drkappa/miniconda3/envs/py39/lib/python3.9/site-packages/keras/src/layers/core/input_layer.py:26: UserWarning: Argument `input_shape` is deprecated. Use `shape` instead.\n",
      "  warnings.warn(\n",
      "83it [18:54, 10.40s/it]"
     ]
    },
    {
     "name": "stdout",
     "output_type": "stream",
     "text": [
      "Traceback (most recent call last):\n",
      "  File \"/home/drkappa/miniconda3/envs/py39/lib/python3.9/site-packages/cloudpredictionframework/utils/experiment.py\", line 98, in run_batch_experiment\n",
      "    result = run_experiment(df, LSTM2Layer(input_shape=(1, 4)), **kwargs)\n",
      "  File \"/home/drkappa/miniconda3/envs/py39/lib/python3.9/site-packages/cloudpredictionframework/utils/experiment.py\", line 34, in run_experiment\n",
      "    y_pred = sc.inverse_transform(network.predict(test))\n",
      "  File \"/home/drkappa/miniconda3/envs/py39/lib/python3.9/site-packages/cloudpredictionframework/usage_prediction/networks/base_network.py\", line 16, in predict\n",
      "    return self.model.predict(data)\n",
      "  File \"/home/drkappa/miniconda3/envs/py39/lib/python3.9/site-packages/keras/src/utils/traceback_utils.py\", line 122, in error_handler\n",
      "    raise e.with_traceback(filtered_tb) from None\n",
      "  File \"/home/drkappa/miniconda3/envs/py39/lib/python3.9/site-packages/keras/src/models/functional.py\", line 264, in _adjust_input_rank\n",
      "    raise ValueError(\n",
      "ValueError: Exception encountered when calling Sequential.call().\n",
      "\n",
      "\u001b[1mInvalid input shape for input Tensor(\"data:0\", shape=(22, 4), dtype=float32). Expected shape (None, 1, 4), but input has incompatible shape (22, 4)\u001b[0m\n",
      "\n",
      "Arguments received by Sequential.call():\n",
      "  • inputs=tf.Tensor(shape=(22, 4), dtype=float32)\n",
      "  • training=False\n",
      "  • mask=None\n",
      "\n"
     ]
    },
    {
     "name": "stderr",
     "output_type": "stream",
     "text": [
      "/home/drkappa/miniconda3/envs/py39/lib/python3.9/site-packages/keras/src/layers/core/input_layer.py:26: UserWarning: Argument `input_shape` is deprecated. Use `shape` instead.\n",
      "  warnings.warn(\n",
      "84it [19:03, 10.08s/it]"
     ]
    },
    {
     "name": "stdout",
     "output_type": "stream",
     "text": [
      "Traceback (most recent call last):\n",
      "  File \"/home/drkappa/miniconda3/envs/py39/lib/python3.9/site-packages/cloudpredictionframework/utils/experiment.py\", line 98, in run_batch_experiment\n",
      "    result = run_experiment(df, LSTM2Layer(input_shape=(1, 4)), **kwargs)\n",
      "  File \"/home/drkappa/miniconda3/envs/py39/lib/python3.9/site-packages/cloudpredictionframework/utils/experiment.py\", line 34, in run_experiment\n",
      "    y_pred = sc.inverse_transform(network.predict(test))\n",
      "  File \"/home/drkappa/miniconda3/envs/py39/lib/python3.9/site-packages/cloudpredictionframework/usage_prediction/networks/base_network.py\", line 16, in predict\n",
      "    return self.model.predict(data)\n",
      "  File \"/home/drkappa/miniconda3/envs/py39/lib/python3.9/site-packages/keras/src/utils/traceback_utils.py\", line 122, in error_handler\n",
      "    raise e.with_traceback(filtered_tb) from None\n",
      "  File \"/home/drkappa/miniconda3/envs/py39/lib/python3.9/site-packages/keras/src/models/functional.py\", line 264, in _adjust_input_rank\n",
      "    raise ValueError(\n",
      "ValueError: Exception encountered when calling Sequential.call().\n",
      "\n",
      "\u001b[1mInvalid input shape for input Tensor(\"data:0\", shape=(6, 4), dtype=float32). Expected shape (None, 1, 4), but input has incompatible shape (6, 4)\u001b[0m\n",
      "\n",
      "Arguments received by Sequential.call():\n",
      "  • inputs=tf.Tensor(shape=(6, 4), dtype=float32)\n",
      "  • training=False\n",
      "  • mask=None\n",
      "\n"
     ]
    },
    {
     "name": "stderr",
     "output_type": "stream",
     "text": [
      "/home/drkappa/miniconda3/envs/py39/lib/python3.9/site-packages/keras/src/layers/core/input_layer.py:26: UserWarning: Argument `input_shape` is deprecated. Use `shape` instead.\n",
      "  warnings.warn(\n",
      "85it [19:12,  9.69s/it]"
     ]
    },
    {
     "name": "stdout",
     "output_type": "stream",
     "text": [
      "Traceback (most recent call last):\n",
      "  File \"/home/drkappa/miniconda3/envs/py39/lib/python3.9/site-packages/cloudpredictionframework/utils/experiment.py\", line 98, in run_batch_experiment\n",
      "    result = run_experiment(df, LSTM2Layer(input_shape=(1, 4)), **kwargs)\n",
      "  File \"/home/drkappa/miniconda3/envs/py39/lib/python3.9/site-packages/cloudpredictionframework/utils/experiment.py\", line 34, in run_experiment\n",
      "    y_pred = sc.inverse_transform(network.predict(test))\n",
      "  File \"/home/drkappa/miniconda3/envs/py39/lib/python3.9/site-packages/cloudpredictionframework/usage_prediction/networks/base_network.py\", line 16, in predict\n",
      "    return self.model.predict(data)\n",
      "  File \"/home/drkappa/miniconda3/envs/py39/lib/python3.9/site-packages/keras/src/utils/traceback_utils.py\", line 122, in error_handler\n",
      "    raise e.with_traceback(filtered_tb) from None\n",
      "  File \"/home/drkappa/miniconda3/envs/py39/lib/python3.9/site-packages/keras/src/models/functional.py\", line 264, in _adjust_input_rank\n",
      "    raise ValueError(\n",
      "ValueError: Exception encountered when calling Sequential.call().\n",
      "\n",
      "\u001b[1mInvalid input shape for input Tensor(\"data:0\", shape=(7, 4), dtype=float32). Expected shape (None, 1, 4), but input has incompatible shape (7, 4)\u001b[0m\n",
      "\n",
      "Arguments received by Sequential.call():\n",
      "  • inputs=tf.Tensor(shape=(7, 4), dtype=float32)\n",
      "  • training=False\n",
      "  • mask=None\n",
      "\n"
     ]
    },
    {
     "name": "stderr",
     "output_type": "stream",
     "text": [
      "/home/drkappa/miniconda3/envs/py39/lib/python3.9/site-packages/keras/src/layers/core/input_layer.py:26: UserWarning: Argument `input_shape` is deprecated. Use `shape` instead.\n",
      "  warnings.warn(\n",
      "86it [19:21,  9.42s/it]"
     ]
    },
    {
     "name": "stdout",
     "output_type": "stream",
     "text": [
      "Traceback (most recent call last):\n",
      "  File \"/home/drkappa/miniconda3/envs/py39/lib/python3.9/site-packages/cloudpredictionframework/utils/experiment.py\", line 98, in run_batch_experiment\n",
      "    result = run_experiment(df, LSTM2Layer(input_shape=(1, 4)), **kwargs)\n",
      "  File \"/home/drkappa/miniconda3/envs/py39/lib/python3.9/site-packages/cloudpredictionframework/utils/experiment.py\", line 34, in run_experiment\n",
      "    y_pred = sc.inverse_transform(network.predict(test))\n",
      "  File \"/home/drkappa/miniconda3/envs/py39/lib/python3.9/site-packages/cloudpredictionframework/usage_prediction/networks/base_network.py\", line 16, in predict\n",
      "    return self.model.predict(data)\n",
      "  File \"/home/drkappa/miniconda3/envs/py39/lib/python3.9/site-packages/keras/src/utils/traceback_utils.py\", line 122, in error_handler\n",
      "    raise e.with_traceback(filtered_tb) from None\n",
      "  File \"/home/drkappa/miniconda3/envs/py39/lib/python3.9/site-packages/keras/src/models/functional.py\", line 264, in _adjust_input_rank\n",
      "    raise ValueError(\n",
      "ValueError: Exception encountered when calling Sequential.call().\n",
      "\n",
      "\u001b[1mInvalid input shape for input Tensor(\"data:0\", shape=(20, 4), dtype=float32). Expected shape (None, 1, 4), but input has incompatible shape (20, 4)\u001b[0m\n",
      "\n",
      "Arguments received by Sequential.call():\n",
      "  • inputs=tf.Tensor(shape=(20, 4), dtype=float32)\n",
      "  • training=False\n",
      "  • mask=None\n",
      "\n"
     ]
    },
    {
     "name": "stderr",
     "output_type": "stream",
     "text": [
      "/home/drkappa/miniconda3/envs/py39/lib/python3.9/site-packages/keras/src/layers/core/input_layer.py:26: UserWarning: Argument `input_shape` is deprecated. Use `shape` instead.\n",
      "  warnings.warn(\n",
      "87it [19:30,  9.30s/it]"
     ]
    },
    {
     "name": "stdout",
     "output_type": "stream",
     "text": [
      "Traceback (most recent call last):\n",
      "  File \"/home/drkappa/miniconda3/envs/py39/lib/python3.9/site-packages/cloudpredictionframework/utils/experiment.py\", line 98, in run_batch_experiment\n",
      "    result = run_experiment(df, LSTM2Layer(input_shape=(1, 4)), **kwargs)\n",
      "  File \"/home/drkappa/miniconda3/envs/py39/lib/python3.9/site-packages/cloudpredictionframework/utils/experiment.py\", line 34, in run_experiment\n",
      "    y_pred = sc.inverse_transform(network.predict(test))\n",
      "  File \"/home/drkappa/miniconda3/envs/py39/lib/python3.9/site-packages/cloudpredictionframework/usage_prediction/networks/base_network.py\", line 16, in predict\n",
      "    return self.model.predict(data)\n",
      "  File \"/home/drkappa/miniconda3/envs/py39/lib/python3.9/site-packages/keras/src/utils/traceback_utils.py\", line 122, in error_handler\n",
      "    raise e.with_traceback(filtered_tb) from None\n",
      "  File \"/home/drkappa/miniconda3/envs/py39/lib/python3.9/site-packages/keras/src/models/functional.py\", line 264, in _adjust_input_rank\n",
      "    raise ValueError(\n",
      "ValueError: Exception encountered when calling Sequential.call().\n",
      "\n",
      "\u001b[1mInvalid input shape for input Tensor(\"data:0\", shape=(13, 4), dtype=float32). Expected shape (None, 1, 4), but input has incompatible shape (13, 4)\u001b[0m\n",
      "\n",
      "Arguments received by Sequential.call():\n",
      "  • inputs=tf.Tensor(shape=(13, 4), dtype=float32)\n",
      "  • training=False\n",
      "  • mask=None\n",
      "\n"
     ]
    },
    {
     "name": "stderr",
     "output_type": "stream",
     "text": [
      "/home/drkappa/miniconda3/envs/py39/lib/python3.9/site-packages/keras/src/layers/core/input_layer.py:26: UserWarning: Argument `input_shape` is deprecated. Use `shape` instead.\n",
      "  warnings.warn(\n",
      "88it [19:38,  9.08s/it]"
     ]
    },
    {
     "name": "stdout",
     "output_type": "stream",
     "text": [
      "Traceback (most recent call last):\n",
      "  File \"/home/drkappa/miniconda3/envs/py39/lib/python3.9/site-packages/cloudpredictionframework/utils/experiment.py\", line 98, in run_batch_experiment\n",
      "    result = run_experiment(df, LSTM2Layer(input_shape=(1, 4)), **kwargs)\n",
      "  File \"/home/drkappa/miniconda3/envs/py39/lib/python3.9/site-packages/cloudpredictionframework/utils/experiment.py\", line 34, in run_experiment\n",
      "    y_pred = sc.inverse_transform(network.predict(test))\n",
      "  File \"/home/drkappa/miniconda3/envs/py39/lib/python3.9/site-packages/cloudpredictionframework/usage_prediction/networks/base_network.py\", line 16, in predict\n",
      "    return self.model.predict(data)\n",
      "  File \"/home/drkappa/miniconda3/envs/py39/lib/python3.9/site-packages/keras/src/utils/traceback_utils.py\", line 122, in error_handler\n",
      "    raise e.with_traceback(filtered_tb) from None\n",
      "  File \"/home/drkappa/miniconda3/envs/py39/lib/python3.9/site-packages/keras/src/models/functional.py\", line 264, in _adjust_input_rank\n",
      "    raise ValueError(\n",
      "ValueError: Exception encountered when calling Sequential.call().\n",
      "\n",
      "\u001b[1mInvalid input shape for input Tensor(\"data:0\", shape=(13, 4), dtype=float32). Expected shape (None, 1, 4), but input has incompatible shape (13, 4)\u001b[0m\n",
      "\n",
      "Arguments received by Sequential.call():\n",
      "  • inputs=tf.Tensor(shape=(13, 4), dtype=float32)\n",
      "  • training=False\n",
      "  • mask=None\n",
      "\n"
     ]
    },
    {
     "name": "stderr",
     "output_type": "stream",
     "text": [
      "/home/drkappa/miniconda3/envs/py39/lib/python3.9/site-packages/keras/src/layers/core/input_layer.py:26: UserWarning: Argument `input_shape` is deprecated. Use `shape` instead.\n",
      "  warnings.warn(\n",
      "89it [19:48,  9.19s/it]"
     ]
    },
    {
     "name": "stdout",
     "output_type": "stream",
     "text": [
      "Traceback (most recent call last):\n",
      "  File \"/home/drkappa/miniconda3/envs/py39/lib/python3.9/site-packages/cloudpredictionframework/utils/experiment.py\", line 98, in run_batch_experiment\n",
      "    result = run_experiment(df, LSTM2Layer(input_shape=(1, 4)), **kwargs)\n",
      "  File \"/home/drkappa/miniconda3/envs/py39/lib/python3.9/site-packages/cloudpredictionframework/utils/experiment.py\", line 34, in run_experiment\n",
      "    y_pred = sc.inverse_transform(network.predict(test))\n",
      "  File \"/home/drkappa/miniconda3/envs/py39/lib/python3.9/site-packages/cloudpredictionframework/usage_prediction/networks/base_network.py\", line 16, in predict\n",
      "    return self.model.predict(data)\n",
      "  File \"/home/drkappa/miniconda3/envs/py39/lib/python3.9/site-packages/keras/src/utils/traceback_utils.py\", line 122, in error_handler\n",
      "    raise e.with_traceback(filtered_tb) from None\n",
      "  File \"/home/drkappa/miniconda3/envs/py39/lib/python3.9/site-packages/keras/src/models/functional.py\", line 264, in _adjust_input_rank\n",
      "    raise ValueError(\n",
      "ValueError: Exception encountered when calling Sequential.call().\n",
      "\n",
      "\u001b[1mInvalid input shape for input Tensor(\"data:0\", shape=(23, 4), dtype=float32). Expected shape (None, 1, 4), but input has incompatible shape (23, 4)\u001b[0m\n",
      "\n",
      "Arguments received by Sequential.call():\n",
      "  • inputs=tf.Tensor(shape=(23, 4), dtype=float32)\n",
      "  • training=False\n",
      "  • mask=None\n",
      "\n"
     ]
    },
    {
     "name": "stderr",
     "output_type": "stream",
     "text": [
      "/home/drkappa/miniconda3/envs/py39/lib/python3.9/site-packages/keras/src/layers/core/input_layer.py:26: UserWarning: Argument `input_shape` is deprecated. Use `shape` instead.\n",
      "  warnings.warn(\n",
      "90it [19:56,  8.96s/it]"
     ]
    },
    {
     "name": "stdout",
     "output_type": "stream",
     "text": [
      "Traceback (most recent call last):\n",
      "  File \"/home/drkappa/miniconda3/envs/py39/lib/python3.9/site-packages/cloudpredictionframework/utils/experiment.py\", line 98, in run_batch_experiment\n",
      "    result = run_experiment(df, LSTM2Layer(input_shape=(1, 4)), **kwargs)\n",
      "  File \"/home/drkappa/miniconda3/envs/py39/lib/python3.9/site-packages/cloudpredictionframework/utils/experiment.py\", line 34, in run_experiment\n",
      "    y_pred = sc.inverse_transform(network.predict(test))\n",
      "  File \"/home/drkappa/miniconda3/envs/py39/lib/python3.9/site-packages/cloudpredictionframework/usage_prediction/networks/base_network.py\", line 16, in predict\n",
      "    return self.model.predict(data)\n",
      "  File \"/home/drkappa/miniconda3/envs/py39/lib/python3.9/site-packages/keras/src/utils/traceback_utils.py\", line 122, in error_handler\n",
      "    raise e.with_traceback(filtered_tb) from None\n",
      "  File \"/home/drkappa/miniconda3/envs/py39/lib/python3.9/site-packages/keras/src/models/functional.py\", line 264, in _adjust_input_rank\n",
      "    raise ValueError(\n",
      "ValueError: Exception encountered when calling Sequential.call().\n",
      "\n",
      "\u001b[1mInvalid input shape for input Tensor(\"data:0\", shape=(1, 4), dtype=float32). Expected shape (None, 1, 4), but input has incompatible shape (1, 4)\u001b[0m\n",
      "\n",
      "Arguments received by Sequential.call():\n",
      "  • inputs=tf.Tensor(shape=(1, 4), dtype=float32)\n",
      "  • training=False\n",
      "  • mask=None\n",
      "\n"
     ]
    },
    {
     "name": "stderr",
     "output_type": "stream",
     "text": [
      "/home/drkappa/miniconda3/envs/py39/lib/python3.9/site-packages/keras/src/layers/core/input_layer.py:26: UserWarning: Argument `input_shape` is deprecated. Use `shape` instead.\n",
      "  warnings.warn(\n",
      "91it [20:05,  9.04s/it]"
     ]
    },
    {
     "name": "stdout",
     "output_type": "stream",
     "text": [
      "Traceback (most recent call last):\n",
      "  File \"/home/drkappa/miniconda3/envs/py39/lib/python3.9/site-packages/cloudpredictionframework/utils/experiment.py\", line 98, in run_batch_experiment\n",
      "    result = run_experiment(df, LSTM2Layer(input_shape=(1, 4)), **kwargs)\n",
      "  File \"/home/drkappa/miniconda3/envs/py39/lib/python3.9/site-packages/cloudpredictionframework/utils/experiment.py\", line 34, in run_experiment\n",
      "    y_pred = sc.inverse_transform(network.predict(test))\n",
      "  File \"/home/drkappa/miniconda3/envs/py39/lib/python3.9/site-packages/cloudpredictionframework/usage_prediction/networks/base_network.py\", line 16, in predict\n",
      "    return self.model.predict(data)\n",
      "  File \"/home/drkappa/miniconda3/envs/py39/lib/python3.9/site-packages/keras/src/utils/traceback_utils.py\", line 122, in error_handler\n",
      "    raise e.with_traceback(filtered_tb) from None\n",
      "  File \"/home/drkappa/miniconda3/envs/py39/lib/python3.9/site-packages/keras/src/models/functional.py\", line 264, in _adjust_input_rank\n",
      "    raise ValueError(\n",
      "ValueError: Exception encountered when calling Sequential.call().\n",
      "\n",
      "\u001b[1mInvalid input shape for input Tensor(\"data:0\", shape=(8, 4), dtype=float32). Expected shape (None, 1, 4), but input has incompatible shape (8, 4)\u001b[0m\n",
      "\n",
      "Arguments received by Sequential.call():\n",
      "  • inputs=tf.Tensor(shape=(8, 4), dtype=float32)\n",
      "  • training=False\n",
      "  • mask=None\n",
      "\n"
     ]
    },
    {
     "name": "stderr",
     "output_type": "stream",
     "text": [
      "/home/drkappa/miniconda3/envs/py39/lib/python3.9/site-packages/keras/src/layers/core/input_layer.py:26: UserWarning: Argument `input_shape` is deprecated. Use `shape` instead.\n",
      "  warnings.warn(\n",
      "92it [20:14,  8.91s/it]"
     ]
    },
    {
     "name": "stdout",
     "output_type": "stream",
     "text": [
      "Traceback (most recent call last):\n",
      "  File \"/home/drkappa/miniconda3/envs/py39/lib/python3.9/site-packages/cloudpredictionframework/utils/experiment.py\", line 98, in run_batch_experiment\n",
      "    result = run_experiment(df, LSTM2Layer(input_shape=(1, 4)), **kwargs)\n",
      "  File \"/home/drkappa/miniconda3/envs/py39/lib/python3.9/site-packages/cloudpredictionframework/utils/experiment.py\", line 34, in run_experiment\n",
      "    y_pred = sc.inverse_transform(network.predict(test))\n",
      "  File \"/home/drkappa/miniconda3/envs/py39/lib/python3.9/site-packages/cloudpredictionframework/usage_prediction/networks/base_network.py\", line 16, in predict\n",
      "    return self.model.predict(data)\n",
      "  File \"/home/drkappa/miniconda3/envs/py39/lib/python3.9/site-packages/keras/src/utils/traceback_utils.py\", line 122, in error_handler\n",
      "    raise e.with_traceback(filtered_tb) from None\n",
      "  File \"/home/drkappa/miniconda3/envs/py39/lib/python3.9/site-packages/keras/src/models/functional.py\", line 264, in _adjust_input_rank\n",
      "    raise ValueError(\n",
      "ValueError: Exception encountered when calling Sequential.call().\n",
      "\n",
      "\u001b[1mInvalid input shape for input Tensor(\"data:0\", shape=(8, 4), dtype=float32). Expected shape (None, 1, 4), but input has incompatible shape (8, 4)\u001b[0m\n",
      "\n",
      "Arguments received by Sequential.call():\n",
      "  • inputs=tf.Tensor(shape=(8, 4), dtype=float32)\n",
      "  • training=False\n",
      "  • mask=None\n",
      "\n"
     ]
    },
    {
     "name": "stderr",
     "output_type": "stream",
     "text": [
      "/home/drkappa/miniconda3/envs/py39/lib/python3.9/site-packages/keras/src/layers/core/input_layer.py:26: UserWarning: Argument `input_shape` is deprecated. Use `shape` instead.\n",
      "  warnings.warn(\n",
      "93it [20:23,  8.88s/it]"
     ]
    },
    {
     "name": "stdout",
     "output_type": "stream",
     "text": [
      "Traceback (most recent call last):\n",
      "  File \"/home/drkappa/miniconda3/envs/py39/lib/python3.9/site-packages/cloudpredictionframework/utils/experiment.py\", line 98, in run_batch_experiment\n",
      "    result = run_experiment(df, LSTM2Layer(input_shape=(1, 4)), **kwargs)\n",
      "  File \"/home/drkappa/miniconda3/envs/py39/lib/python3.9/site-packages/cloudpredictionframework/utils/experiment.py\", line 34, in run_experiment\n",
      "    y_pred = sc.inverse_transform(network.predict(test))\n",
      "  File \"/home/drkappa/miniconda3/envs/py39/lib/python3.9/site-packages/cloudpredictionframework/usage_prediction/networks/base_network.py\", line 16, in predict\n",
      "    return self.model.predict(data)\n",
      "  File \"/home/drkappa/miniconda3/envs/py39/lib/python3.9/site-packages/keras/src/utils/traceback_utils.py\", line 122, in error_handler\n",
      "    raise e.with_traceback(filtered_tb) from None\n",
      "  File \"/home/drkappa/miniconda3/envs/py39/lib/python3.9/site-packages/keras/src/models/functional.py\", line 264, in _adjust_input_rank\n",
      "    raise ValueError(\n",
      "ValueError: Exception encountered when calling Sequential.call().\n",
      "\n",
      "\u001b[1mInvalid input shape for input Tensor(\"data:0\", shape=(23, 4), dtype=float32). Expected shape (None, 1, 4), but input has incompatible shape (23, 4)\u001b[0m\n",
      "\n",
      "Arguments received by Sequential.call():\n",
      "  • inputs=tf.Tensor(shape=(23, 4), dtype=float32)\n",
      "  • training=False\n",
      "  • mask=None\n",
      "\n"
     ]
    },
    {
     "name": "stderr",
     "output_type": "stream",
     "text": [
      "/home/drkappa/miniconda3/envs/py39/lib/python3.9/site-packages/keras/src/layers/core/input_layer.py:26: UserWarning: Argument `input_shape` is deprecated. Use `shape` instead.\n",
      "  warnings.warn(\n",
      "94it [20:32,  8.88s/it]"
     ]
    },
    {
     "name": "stdout",
     "output_type": "stream",
     "text": [
      "Traceback (most recent call last):\n",
      "  File \"/home/drkappa/miniconda3/envs/py39/lib/python3.9/site-packages/cloudpredictionframework/utils/experiment.py\", line 98, in run_batch_experiment\n",
      "    result = run_experiment(df, LSTM2Layer(input_shape=(1, 4)), **kwargs)\n",
      "  File \"/home/drkappa/miniconda3/envs/py39/lib/python3.9/site-packages/cloudpredictionframework/utils/experiment.py\", line 34, in run_experiment\n",
      "    y_pred = sc.inverse_transform(network.predict(test))\n",
      "  File \"/home/drkappa/miniconda3/envs/py39/lib/python3.9/site-packages/cloudpredictionframework/usage_prediction/networks/base_network.py\", line 16, in predict\n",
      "    return self.model.predict(data)\n",
      "  File \"/home/drkappa/miniconda3/envs/py39/lib/python3.9/site-packages/keras/src/utils/traceback_utils.py\", line 122, in error_handler\n",
      "    raise e.with_traceback(filtered_tb) from None\n",
      "  File \"/home/drkappa/miniconda3/envs/py39/lib/python3.9/site-packages/keras/src/models/functional.py\", line 264, in _adjust_input_rank\n",
      "    raise ValueError(\n",
      "ValueError: Exception encountered when calling Sequential.call().\n",
      "\n",
      "\u001b[1mInvalid input shape for input Tensor(\"data:0\", shape=(23, 4), dtype=float32). Expected shape (None, 1, 4), but input has incompatible shape (23, 4)\u001b[0m\n",
      "\n",
      "Arguments received by Sequential.call():\n",
      "  • inputs=tf.Tensor(shape=(23, 4), dtype=float32)\n",
      "  • training=False\n",
      "  • mask=None\n",
      "\n"
     ]
    },
    {
     "name": "stderr",
     "output_type": "stream",
     "text": [
      "/home/drkappa/miniconda3/envs/py39/lib/python3.9/site-packages/keras/src/layers/core/input_layer.py:26: UserWarning: Argument `input_shape` is deprecated. Use `shape` instead.\n",
      "  warnings.warn(\n",
      "95it [20:41,  9.09s/it]"
     ]
    },
    {
     "name": "stdout",
     "output_type": "stream",
     "text": [
      "Traceback (most recent call last):\n",
      "  File \"/home/drkappa/miniconda3/envs/py39/lib/python3.9/site-packages/cloudpredictionframework/utils/experiment.py\", line 98, in run_batch_experiment\n",
      "    result = run_experiment(df, LSTM2Layer(input_shape=(1, 4)), **kwargs)\n",
      "  File \"/home/drkappa/miniconda3/envs/py39/lib/python3.9/site-packages/cloudpredictionframework/utils/experiment.py\", line 34, in run_experiment\n",
      "    y_pred = sc.inverse_transform(network.predict(test))\n",
      "  File \"/home/drkappa/miniconda3/envs/py39/lib/python3.9/site-packages/cloudpredictionframework/usage_prediction/networks/base_network.py\", line 16, in predict\n",
      "    return self.model.predict(data)\n",
      "  File \"/home/drkappa/miniconda3/envs/py39/lib/python3.9/site-packages/keras/src/utils/traceback_utils.py\", line 122, in error_handler\n",
      "    raise e.with_traceback(filtered_tb) from None\n",
      "  File \"/home/drkappa/miniconda3/envs/py39/lib/python3.9/site-packages/keras/src/models/functional.py\", line 264, in _adjust_input_rank\n",
      "    raise ValueError(\n",
      "ValueError: Exception encountered when calling Sequential.call().\n",
      "\n",
      "\u001b[1mInvalid input shape for input Tensor(\"data:0\", shape=(22, 4), dtype=float32). Expected shape (None, 1, 4), but input has incompatible shape (22, 4)\u001b[0m\n",
      "\n",
      "Arguments received by Sequential.call():\n",
      "  • inputs=tf.Tensor(shape=(22, 4), dtype=float32)\n",
      "  • training=False\n",
      "  • mask=None\n",
      "\n"
     ]
    },
    {
     "name": "stderr",
     "output_type": "stream",
     "text": [
      "/home/drkappa/miniconda3/envs/py39/lib/python3.9/site-packages/keras/src/layers/core/input_layer.py:26: UserWarning: Argument `input_shape` is deprecated. Use `shape` instead.\n",
      "  warnings.warn(\n",
      "96it [20:50,  8.94s/it]"
     ]
    },
    {
     "name": "stdout",
     "output_type": "stream",
     "text": [
      "Traceback (most recent call last):\n",
      "  File \"/home/drkappa/miniconda3/envs/py39/lib/python3.9/site-packages/cloudpredictionframework/utils/experiment.py\", line 98, in run_batch_experiment\n",
      "    result = run_experiment(df, LSTM2Layer(input_shape=(1, 4)), **kwargs)\n",
      "  File \"/home/drkappa/miniconda3/envs/py39/lib/python3.9/site-packages/cloudpredictionframework/utils/experiment.py\", line 34, in run_experiment\n",
      "    y_pred = sc.inverse_transform(network.predict(test))\n",
      "  File \"/home/drkappa/miniconda3/envs/py39/lib/python3.9/site-packages/cloudpredictionframework/usage_prediction/networks/base_network.py\", line 16, in predict\n",
      "    return self.model.predict(data)\n",
      "  File \"/home/drkappa/miniconda3/envs/py39/lib/python3.9/site-packages/keras/src/utils/traceback_utils.py\", line 122, in error_handler\n",
      "    raise e.with_traceback(filtered_tb) from None\n",
      "  File \"/home/drkappa/miniconda3/envs/py39/lib/python3.9/site-packages/keras/src/models/functional.py\", line 264, in _adjust_input_rank\n",
      "    raise ValueError(\n",
      "ValueError: Exception encountered when calling Sequential.call().\n",
      "\n",
      "\u001b[1mInvalid input shape for input Tensor(\"data:0\", shape=(23, 4), dtype=float32). Expected shape (None, 1, 4), but input has incompatible shape (23, 4)\u001b[0m\n",
      "\n",
      "Arguments received by Sequential.call():\n",
      "  • inputs=tf.Tensor(shape=(23, 4), dtype=float32)\n",
      "  • training=False\n",
      "  • mask=None\n",
      "\n"
     ]
    },
    {
     "name": "stderr",
     "output_type": "stream",
     "text": [
      "/home/drkappa/miniconda3/envs/py39/lib/python3.9/site-packages/keras/src/layers/core/input_layer.py:26: UserWarning: Argument `input_shape` is deprecated. Use `shape` instead.\n",
      "  warnings.warn(\n",
      "97it [20:59,  9.14s/it]"
     ]
    },
    {
     "name": "stdout",
     "output_type": "stream",
     "text": [
      "Traceback (most recent call last):\n",
      "  File \"/home/drkappa/miniconda3/envs/py39/lib/python3.9/site-packages/cloudpredictionframework/utils/experiment.py\", line 98, in run_batch_experiment\n",
      "    result = run_experiment(df, LSTM2Layer(input_shape=(1, 4)), **kwargs)\n",
      "  File \"/home/drkappa/miniconda3/envs/py39/lib/python3.9/site-packages/cloudpredictionframework/utils/experiment.py\", line 34, in run_experiment\n",
      "    y_pred = sc.inverse_transform(network.predict(test))\n",
      "  File \"/home/drkappa/miniconda3/envs/py39/lib/python3.9/site-packages/cloudpredictionframework/usage_prediction/networks/base_network.py\", line 16, in predict\n",
      "    return self.model.predict(data)\n",
      "  File \"/home/drkappa/miniconda3/envs/py39/lib/python3.9/site-packages/keras/src/utils/traceback_utils.py\", line 122, in error_handler\n",
      "    raise e.with_traceback(filtered_tb) from None\n",
      "  File \"/home/drkappa/miniconda3/envs/py39/lib/python3.9/site-packages/keras/src/models/functional.py\", line 264, in _adjust_input_rank\n",
      "    raise ValueError(\n",
      "ValueError: Exception encountered when calling Sequential.call().\n",
      "\n",
      "\u001b[1mInvalid input shape for input Tensor(\"data:0\", shape=(23, 4), dtype=float32). Expected shape (None, 1, 4), but input has incompatible shape (23, 4)\u001b[0m\n",
      "\n",
      "Arguments received by Sequential.call():\n",
      "  • inputs=tf.Tensor(shape=(23, 4), dtype=float32)\n",
      "  • training=False\n",
      "  • mask=None\n",
      "\n"
     ]
    },
    {
     "name": "stderr",
     "output_type": "stream",
     "text": [
      "/home/drkappa/miniconda3/envs/py39/lib/python3.9/site-packages/keras/src/layers/core/input_layer.py:26: UserWarning: Argument `input_shape` is deprecated. Use `shape` instead.\n",
      "  warnings.warn(\n",
      "98it [21:08,  9.00s/it]"
     ]
    },
    {
     "name": "stdout",
     "output_type": "stream",
     "text": [
      "Traceback (most recent call last):\n",
      "  File \"/home/drkappa/miniconda3/envs/py39/lib/python3.9/site-packages/cloudpredictionframework/utils/experiment.py\", line 98, in run_batch_experiment\n",
      "    result = run_experiment(df, LSTM2Layer(input_shape=(1, 4)), **kwargs)\n",
      "  File \"/home/drkappa/miniconda3/envs/py39/lib/python3.9/site-packages/cloudpredictionframework/utils/experiment.py\", line 34, in run_experiment\n",
      "    y_pred = sc.inverse_transform(network.predict(test))\n",
      "  File \"/home/drkappa/miniconda3/envs/py39/lib/python3.9/site-packages/cloudpredictionframework/usage_prediction/networks/base_network.py\", line 16, in predict\n",
      "    return self.model.predict(data)\n",
      "  File \"/home/drkappa/miniconda3/envs/py39/lib/python3.9/site-packages/keras/src/utils/traceback_utils.py\", line 122, in error_handler\n",
      "    raise e.with_traceback(filtered_tb) from None\n",
      "  File \"/home/drkappa/miniconda3/envs/py39/lib/python3.9/site-packages/keras/src/models/functional.py\", line 264, in _adjust_input_rank\n",
      "    raise ValueError(\n",
      "ValueError: Exception encountered when calling Sequential.call().\n",
      "\n",
      "\u001b[1mInvalid input shape for input Tensor(\"data:0\", shape=(13, 4), dtype=float32). Expected shape (None, 1, 4), but input has incompatible shape (13, 4)\u001b[0m\n",
      "\n",
      "Arguments received by Sequential.call():\n",
      "  • inputs=tf.Tensor(shape=(13, 4), dtype=float32)\n",
      "  • training=False\n",
      "  • mask=None\n",
      "\n"
     ]
    },
    {
     "name": "stderr",
     "output_type": "stream",
     "text": [
      "/home/drkappa/miniconda3/envs/py39/lib/python3.9/site-packages/keras/src/layers/core/input_layer.py:26: UserWarning: Argument `input_shape` is deprecated. Use `shape` instead.\n",
      "  warnings.warn(\n",
      "99it [21:21, 12.95s/it]"
     ]
    },
    {
     "name": "stdout",
     "output_type": "stream",
     "text": [
      "Traceback (most recent call last):\n",
      "  File \"/home/drkappa/miniconda3/envs/py39/lib/python3.9/site-packages/cloudpredictionframework/utils/experiment.py\", line 98, in run_batch_experiment\n",
      "    result = run_experiment(df, LSTM2Layer(input_shape=(1, 4)), **kwargs)\n",
      "  File \"/home/drkappa/miniconda3/envs/py39/lib/python3.9/site-packages/cloudpredictionframework/utils/experiment.py\", line 34, in run_experiment\n",
      "    y_pred = sc.inverse_transform(network.predict(test))\n",
      "  File \"/home/drkappa/miniconda3/envs/py39/lib/python3.9/site-packages/cloudpredictionframework/usage_prediction/networks/base_network.py\", line 16, in predict\n",
      "    return self.model.predict(data)\n",
      "  File \"/home/drkappa/miniconda3/envs/py39/lib/python3.9/site-packages/keras/src/utils/traceback_utils.py\", line 122, in error_handler\n",
      "    raise e.with_traceback(filtered_tb) from None\n",
      "  File \"/home/drkappa/miniconda3/envs/py39/lib/python3.9/site-packages/keras/src/models/functional.py\", line 264, in _adjust_input_rank\n",
      "    raise ValueError(\n",
      "ValueError: Exception encountered when calling Sequential.call().\n",
      "\n",
      "\u001b[1mInvalid input shape for input Tensor(\"data:0\", shape=(23, 4), dtype=float32). Expected shape (None, 1, 4), but input has incompatible shape (23, 4)\u001b[0m\n",
      "\n",
      "Arguments received by Sequential.call():\n",
      "  • inputs=tf.Tensor(shape=(23, 4), dtype=float32)\n",
      "  • training=False\n",
      "  • mask=None\n",
      "\n",
      "Traceback (most recent call last):\n",
      "  File \"/tmp/ipykernel_104394/3142189604.py\", line 30, in <module>\n",
      "    with open(join(OUTPUT_PATH, exp_name + '.json'), 'w') as fp:\n",
      "NameError: name 'OUTPUT_PATH' is not defined\n",
      "\n",
      "Failed to save data for experiment DEMO\n"
     ]
    },
    {
     "name": "stderr",
     "output_type": "stream",
     "text": [
      "\n"
     ]
    }
   ],
   "source": [
    "#@title Launch the experiments\n",
    "from cloudpredictionframework.utils.experiment import run_batch_experiment\n",
    "from cloudpredictionframework.utils.analysis import analyze_batch_result\n",
    "from cloudpredictionframework.anomaly_detection.algorithms import LimitAlgorithm, MedianAlgorithm, KalmanAlgorithm, SavgolAlgorithm, WeightedHybridAlgorithm\n",
    "import json\n",
    "\n",
    "RESULTS_PATH = 'experiment_results' #@param {type: \"string\"}\n",
    "if not isdir(RESULTS_PATH):\n",
    "    mkdir(RESULTS_PATH)\n",
    "\n",
    "dp = ExperimentDataProvider()\n",
    "\n",
    "completed_experiments = []\n",
    "\n",
    "for exp_name in dp.get_experiment_names():\n",
    "    dfs = ExperimentDataProvider().get_experiment_generator(exp_name, 'cpu.usage.average')\n",
    "\n",
    "    print('Experiment', exp_name, 'Length:', dp.get_experiment_len(exp_name))\n",
    "    hybrid = WeightedHybridAlgorithm([(MedianAlgorithm(), 0.9),\n",
    "                                    (LimitAlgorithm(upper_treshold=20, lower_treshold=0), 0.3),\n",
    "                                    (KalmanAlgorithm(tolerance_multiplier=1), 0.5),\n",
    "                                    (SavgolAlgorithm(), 0.7)])\n",
    "\n",
    "\n",
    "    resb = run_batch_experiment(dfs, [LimitAlgorithm(upper_treshold=50, lower_treshold=0),\n",
    "                                    MedianAlgorithm(),\n",
    "                                    hybrid])\n",
    "    \n",
    "    try:\n",
    "        with open(join(OUTPUT_PATH, exp_name + '.json'), 'w') as fp:\n",
    "            json.dump(resb, fp)\n",
    "        with open(join(OUTPUT_PATH, exp_name + '.json'), 'w') as fp:\n",
    "            json.dump(resb, fp)\n",
    "        print('Successfully completed experiment', exp_name)\n",
    "    except Exception:\n",
    "        print(traceback.format_exc())\n",
    "        print('Failed to save data for experiment', exp_name)"
   ]
  },
  {
   "cell_type": "code",
   "execution_count": null,
   "metadata": {
    "cellView": "form",
    "id": "Tmdt-RCHzx_I"
   },
   "outputs": [],
   "source": [
    "#@title (Optional) Reload the experiments results\n",
    "import json\n",
    "from os.path import isfile, join\n",
    "\n",
    "RESULTS_PATH = 'experiment_results' #@param {type: \"string\"}\n",
    "with open(join(RESULTS_PATH, 'DEMO.json'), 'r') as fp:\n",
    "    resb = json.load(fp)"
   ]
  },
  {
   "cell_type": "code",
   "execution_count": null,
   "metadata": {
    "cellView": "form",
    "colab": {
     "base_uri": "https://localhost:8080/",
     "height": 764
    },
    "id": "JILynJEFW-n5",
    "outputId": "a61ba0a1-b273-4731-f0ab-1ff500fc8042"
   },
   "outputs": [],
   "source": [
    "#@title heatmap and results analysis\n",
    "from sklearn.preprocessing import StandardScaler\n",
    "import plotly.express as px\n",
    "import json\n",
    "from cloudpredictionfamework.usage_prediction.utils import analyze_batch_result\n",
    "\n",
    "\n",
    "resba = analyze_batch_result(resb)\n",
    "\n",
    "frames = []\n",
    "for key in resba.keys():\n",
    "    frames.append(pd.DataFrame(resba[key], index=[key]))\n",
    "resdf = pd.concat(frames)\n",
    "\n",
    "resdf2 = StandardScaler().fit_transform(resdf)\n",
    "\n",
    "# fig1 = px.imshow(resdf,\n",
    "#                 x=list(resdf.columns),\n",
    "#                 y=list(resdf.index),\n",
    "#                 color_continuous_scale='RdBu_r')\n",
    "# fig1.show()\n",
    "\n",
    "fig2 = px.imshow(resdf2,\n",
    "                x=list(resdf.columns),\n",
    "                y=list(resdf.index),\n",
    "                color_continuous_scale='RdBu_r')\n",
    "fig2.show()\n",
    "\n",
    "asd = pd.DataFrame.from_dict(resba, orient='index')\n",
    "asd"
   ]
  }
 ],
 "metadata": {
  "colab": {
   "collapsed_sections": [],
   "name": "vm_demo_experiments",
   "provenance": []
  },
  "kernelspec": {
   "display_name": "py39",
   "language": "python",
   "name": "python3"
  },
  "language_info": {
   "codemirror_mode": {
    "name": "ipython",
    "version": 3
   },
   "file_extension": ".py",
   "mimetype": "text/x-python",
   "name": "python",
   "nbconvert_exporter": "python",
   "pygments_lexer": "ipython3",
   "version": "3.9.19"
  }
 },
 "nbformat": 4,
 "nbformat_minor": 0
}
